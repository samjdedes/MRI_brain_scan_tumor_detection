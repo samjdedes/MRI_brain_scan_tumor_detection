{
 "cells": [
  {
   "cell_type": "raw",
   "metadata": {},
   "source": [
    "# import custom functions\n",
    "import sys\n",
    "sys.path.append('../../src')\n",
    "# CNN Class and methods\n",
    "from model_utils import *\n",
    "from data_functions import *"
   ]
  },
  {
   "cell_type": "code",
   "execution_count": 1,
   "metadata": {},
   "outputs": [],
   "source": [
    "# imports for exploratory dataframe manipulation\n",
    "import numpy as np\n",
    "import pandas as pd\n",
    "import matplotlib.pyplot as plt\n",
    "# imports for exploratory data analysis\n",
    "from sklearn.linear_model import LinearRegression, LogisticRegression"
   ]
  },
  {
   "cell_type": "code",
   "execution_count": 2,
   "metadata": {},
   "outputs": [],
   "source": [
    "import os\n",
    "import cv2\n",
    "from sklearn.model_selection import train_test_split"
   ]
  },
  {
   "cell_type": "code",
   "execution_count": 3,
   "metadata": {},
   "outputs": [],
   "source": [
    "def get_img_paths(base_dir, ignore_filetypes=['.txt', '.cpp', '.gif']):\n",
    "    \"\"\"\n",
    "    Inputs:\n",
    "        base_dir (string/ os.path type) relative path to the directory with folders containing images\n",
    "        *kwargs\n",
    "        ignore_filetypes (list of strings) filetypes to exclude from output\n",
    "        type_foldes (dictionary) folders that identify different filetypes and add identifiers to add to output\n",
    "    Returns:\n",
    "        paths (list of tuples) relative paths to files with identifiers\n",
    "    \"\"\"\n",
    "    absent_paths = []\n",
    "    present_paths = []\n",
    "\n",
    "    for root, dirs, files in os.walk(base_dir):\n",
    "        #not removing undesired files\n",
    "#         # remove undesired files\n",
    "#         for file in files:\n",
    "#             for file_type in ignore_filetypes:\n",
    "#                 if file_type == file[-4:]:\n",
    "#                     files.remove(file)\n",
    "                    \n",
    "        if files:\n",
    "        \n",
    "            for file in files:\n",
    "                full_path = os.path.join(root, file)\n",
    "                \n",
    "                if 'NO' in full_path:\n",
    "                    absent_paths.append((full_path, 0))\n",
    "\n",
    "                elif 'YES' in full_path:\n",
    "                    present_paths.append((full_path, 1))\n",
    "\n",
    "    #         if type_folders:\n",
    "    #             for key, value in type_folders.items():\n",
    "    #                 if key in root:\n",
    "\n",
    "    #         print('root: ', root)\n",
    "    #         print('files: ', files[:5], len(files))\n",
    "    #         print('paths: ', paths)\n",
    "#     absent_paths.extend(present_paths)\n",
    "    return absent_paths, present_paths"
   ]
  },
  {
   "cell_type": "code",
   "execution_count": 4,
   "metadata": {},
   "outputs": [],
   "source": [
    "basedir = \"D:\\MRI_data\\Kaggle\" \n",
    "absent, present = get_img_paths(basedir)"
   ]
  },
  {
   "cell_type": "code",
   "execution_count": 5,
   "metadata": {},
   "outputs": [
    {
     "data": {
      "text/plain": [
       "3530"
      ]
     },
     "execution_count": 5,
     "metadata": {},
     "output_type": "execute_result"
    }
   ],
   "source": [
    "len(absent + present)"
   ]
  },
  {
   "cell_type": "code",
   "execution_count": 6,
   "metadata": {},
   "outputs": [
    {
     "data": {
      "text/plain": [
       "2919"
      ]
     },
     "execution_count": 6,
     "metadata": {},
     "output_type": "execute_result"
    }
   ],
   "source": [
    "len(present)"
   ]
  },
  {
   "cell_type": "code",
   "execution_count": 7,
   "metadata": {},
   "outputs": [],
   "source": [
    "def get_data(input_data, img_size=150):\n",
    "    \"\"\"\n",
    "    This function takes an image type and classification with matching index and returns  image data with classification\n",
    "\n",
    "    Input:\n",
    "        x (list of path like entries) paths leading to image data to be loaded\n",
    "        y (list of classification) list of classifications matching index of x data\n",
    "\n",
    "    Returns:\n",
    "        data (np.array) image data with classification\n",
    "    \"\"\"\n",
    "\n",
    "    data = []\n",
    "\n",
    "    for i in range(len(input_data)):\n",
    "        path = input_data[i][0]\n",
    "        class_num = input_data[i][1]\n",
    "\n",
    "        #         for img in os.listdir(path):\n",
    "\n",
    "        try:\n",
    "            img_arr = cv2.imread(path)\n",
    "            resized_arr = cv2.resize(img_arr, (img_size, img_size))  # Reshaping images to preferred size\n",
    "            data.append([resized_arr, class_num, path])\n",
    "\n",
    "        except Exception as e:\n",
    "            print(f'{e} on path {path}')\n",
    "\n",
    "    return np.array(data)"
   ]
  },
  {
   "cell_type": "code",
   "execution_count": 12,
   "metadata": {},
   "outputs": [
    {
     "data": {
      "text/plain": [
       "2919"
      ]
     },
     "execution_count": 12,
     "metadata": {},
     "output_type": "execute_result"
    }
   ],
   "source": [
    "tumor_data = get_data(present)\n",
    "len(tumor_data)"
   ]
  },
  {
   "cell_type": "code",
   "execution_count": 13,
   "metadata": {},
   "outputs": [],
   "source": [
    "import time"
   ]
  },
  {
   "cell_type": "code",
   "execution_count": 14,
   "metadata": {},
   "outputs": [
    {
     "data": {
      "text/plain": [
       "0.0009839534759521484"
      ]
     },
     "execution_count": 14,
     "metadata": {},
     "output_type": "execute_result"
    }
   ],
   "source": [
    "start = time.time()\n",
    "(tumor_data[0][0] == tumor_data[0][0]).all()\n",
    "(tumor_data[2][0] == tumor_data[1][0]).all()\n",
    "stop = time.time()\n",
    "\n",
    "stop-start"
   ]
  },
  {
   "cell_type": "markdown",
   "metadata": {},
   "source": [
    "## Use pillow to compare images"
   ]
  },
  {
   "cell_type": "code",
   "execution_count": 15,
   "metadata": {},
   "outputs": [],
   "source": [
    "# # from https://stackoverflow.com/questions/35176639/compare-images-python-pil/56280735\n",
    "# # import pillow to compare images\n",
    "# from PIL import Image\n",
    "# from PIL import ImageChops"
   ]
  },
  {
   "cell_type": "code",
   "execution_count": 16,
   "metadata": {},
   "outputs": [],
   "source": [
    "# start = time.time()\n",
    "\n",
    "# img1 = Image.open(present[0][0])\n",
    "# img2 = Image.open(present[2][0])\n",
    "# # img3 = Image.open(present1)\n",
    "# diff = ImageChops.difference(img1, img2)\n",
    "\n",
    "\n",
    "# stop = time.time()\n",
    "# stop-start"
   ]
  },
  {
   "cell_type": "markdown",
   "metadata": {},
   "source": [
    "## Train Test Split Data"
   ]
  },
  {
   "cell_type": "code",
   "execution_count": 17,
   "metadata": {},
   "outputs": [],
   "source": [
    "# define train size for data set\n",
    "# split before combining datasets\n",
    "train_size = 0.8 # eighty percent\n",
    "test_size = 0.15 # fifteen percent\n",
    "val_size = 0.05 # five percent\n",
    "\n",
    "# calculate test size for second split\n",
    "test_size2 = test_size/(1-train_size)\n",
    "\n",
    "# split absent paths into train and test\n",
    "absent_train, absent_test = train_test_split(absent, train_size=train_size, random_state=2021)\n",
    "\n",
    "# split absent test paths into test and validation\n",
    "absent_test, absent_val = train_test_split(absent_test, train_size=test_size2, random_state=2021)\n",
    "\n",
    "# split present paths into train and test\n",
    "present_train, present_test = train_test_split(present, train_size=train_size, random_state=2021)\n",
    "\n",
    "# split present paths into test and val\n",
    "present_test, present_val = train_test_split(present_test, train_size=test_size2, random_state=2021)"
   ]
  },
  {
   "cell_type": "code",
   "execution_count": 18,
   "metadata": {},
   "outputs": [
    {
     "name": "stdout",
     "output_type": "stream",
     "text": [
      "\n",
      "Tumor Training Data: 2335\n",
      "\n",
      "Tumor Testing Data: 438\n",
      "\n",
      "Tumor Validation Data: 146\n",
      "\n",
      "Absent Training Data: 488\n",
      "\n",
      "Absent Testing Data: 92\n",
      "\n",
      "Absent Validation Data: 31\n",
      "\n"
     ]
    }
   ],
   "source": [
    "print(f'''\n",
    "Tumor Training Data: {len(present_train)}\\n\n",
    "Tumor Testing Data: {len(present_test)}\\n\n",
    "Tumor Validation Data: {len(present_val)}\\n\n",
    "Absent Training Data: {len(absent_train)}\\n\n",
    "Absent Testing Data: {len(absent_test)}\\n\n",
    "Absent Validation Data: {len(absent_val)}\n",
    "''')"
   ]
  },
  {
   "cell_type": "code",
   "execution_count": 19,
   "metadata": {},
   "outputs": [],
   "source": [
    "# combnine train and test and val (respectively)\n",
    "train = absent_train\n",
    "train.extend(present_train)\n",
    "\n",
    "test = absent_test\n",
    "test.extend(present_test)\n",
    "\n",
    "val = absent_val\n",
    "val.extend(present_val)"
   ]
  },
  {
   "cell_type": "markdown",
   "metadata": {},
   "source": [
    "# load data "
   ]
  },
  {
   "cell_type": "code",
   "execution_count": 20,
   "metadata": {},
   "outputs": [
    {
     "name": "stdout",
     "output_type": "stream",
     "text": [
      "OpenCV(4.0.1) C:\\ci\\opencv-suite_1573470242804\\work\\modules\\imgproc\\src\\resize.cpp:3784: error: (-215:Assertion failed) !ssize.empty() in function 'cv::resize'\n",
      " on path D:\\MRI_data\\Kaggle\\classification_images\\Training\\NO\\no_tumor\\frontal_section\\notebooks\\T1_MRI.gif\n",
      "OpenCV(4.0.1) C:\\ci\\opencv-suite_1573470242804\\work\\modules\\imgproc\\src\\resize.cpp:3784: error: (-215:Assertion failed) !ssize.empty() in function 'cv::resize'\n",
      " on path D:\\MRI_data\\Kaggle\\classification_images\\Training\\NO\\no_tumor\\frontal_section\\notebooks\\T2_MRI.gif\n",
      "OpenCV(4.0.1) C:\\ci\\opencv-suite_1573470242804\\work\\modules\\imgproc\\src\\resize.cpp:3784: error: (-215:Assertion failed) !ssize.empty() in function 'cv::resize'\n",
      " on path D:\\MRI_data\\Kaggle\\classification_images\\Training\\NO\\no_tumor\\frontal_section\\notebooks\\.ipynb_checkpoints\\T1_MRI-checkpoint.gif\n",
      "OpenCV(4.0.1) C:\\ci\\opencv-suite_1573470242804\\work\\modules\\imgproc\\src\\resize.cpp:3784: error: (-215:Assertion failed) !ssize.empty() in function 'cv::resize'\n",
      " on path D:\\MRI_data\\Kaggle\\classification_images\\Training\\NO\\no_tumor\\frontal_section\\notebooks\\.ipynb_checkpoints\\T2_MRI-checkpoint.gif\n",
      "OpenCV(4.0.1) C:\\ci\\opencv-suite_1573470242804\\work\\modules\\imgproc\\src\\resize.cpp:3784: error: (-215:Assertion failed) !ssize.empty() in function 'cv::resize'\n",
      " on path D:\\MRI_data\\Kaggle\\classification_images\\Training\\NO\\no_tumor\\frontal_section\\notebooks\\EDA.ipynb\n",
      "OpenCV(4.0.1) C:\\ci\\opencv-suite_1573470242804\\work\\modules\\imgproc\\src\\resize.cpp:3784: error: (-215:Assertion failed) !ssize.empty() in function 'cv::resize'\n",
      " on path D:\\MRI_data\\Kaggle\\classification_images\\Training\\NO\\no_tumor\\frontal_section\\notebooks\\.ipynb_checkpoints\\dynamic_images-checkpoint.gif\n",
      "OpenCV(4.0.1) C:\\ci\\opencv-suite_1573470242804\\work\\modules\\imgproc\\src\\resize.cpp:3784: error: (-215:Assertion failed) !ssize.empty() in function 'cv::resize'\n",
      " on path D:\\MRI_data\\Kaggle\\classification_images\\Training\\NO\\no_tumor\\frontal_section\\notebooks\\PD_MRI.gif\n",
      "OpenCV(4.0.1) C:\\ci\\opencv-suite_1573470242804\\work\\modules\\imgproc\\src\\resize.cpp:3784: error: (-215:Assertion failed) !ssize.empty() in function 'cv::resize'\n",
      " on path D:\\MRI_data\\Kaggle\\classification_images\\Training\\NO\\no_tumor\\frontal_section\\notebooks\\.ipynb_checkpoints\\MRA_MRI-checkpoint.gif\n",
      "OpenCV(4.0.1) C:\\ci\\opencv-suite_1573470242804\\work\\modules\\imgproc\\src\\resize.cpp:3784: error: (-215:Assertion failed) !ssize.empty() in function 'cv::resize'\n",
      " on path D:\\MRI_data\\Kaggle\\classification_images\\Training\\NO\\no_tumor\\frontal_section\\notebooks\\.ipynb_checkpoints\\Example_MRI-checkpoint.gif\n",
      "OpenCV(4.0.1) C:\\ci\\opencv-suite_1573470242804\\work\\modules\\imgproc\\src\\resize.cpp:3784: error: (-215:Assertion failed) !ssize.empty() in function 'cv::resize'\n",
      " on path D:\\MRI_data\\Kaggle\\classification_images\\Training\\NO\\no_tumor\\frontal_section\\notebooks\\dynamic_images.gif\n",
      "OpenCV(4.0.1) C:\\ci\\opencv-suite_1573470242804\\work\\modules\\imgproc\\src\\resize.cpp:3784: error: (-215:Assertion failed) !ssize.empty() in function 'cv::resize'\n",
      " on path D:\\MRI_data\\Kaggle\\classification_images\\Training\\NO\\no_tumor\\frontal_section\\notebooks\\Example_MRI.gif\n",
      "OpenCV(4.0.1) C:\\ci\\opencv-suite_1573470242804\\work\\modules\\imgproc\\src\\resize.cpp:3784: error: (-215:Assertion failed) !ssize.empty() in function 'cv::resize'\n",
      " on path D:\\MRI_data\\Kaggle\\classification_images\\Training\\NO\\no_tumor\\frontal_section\\notebooks\\.ipynb_checkpoints\\PD_MRI-checkpoint.gif\n",
      "OpenCV(4.0.1) C:\\ci\\opencv-suite_1573470242804\\work\\modules\\imgproc\\src\\resize.cpp:3784: error: (-215:Assertion failed) !ssize.empty() in function 'cv::resize'\n",
      " on path D:\\MRI_data\\Kaggle\\classification_images\\Training\\NO\\no_tumor\\frontal_section\\notebooks\\.ipynb_checkpoints\\EDA-checkpoint.ipynb\n",
      "OpenCV(4.0.1) C:\\ci\\opencv-suite_1573470242804\\work\\modules\\imgproc\\src\\resize.cpp:3784: error: (-215:Assertion failed) !ssize.empty() in function 'cv::resize'\n",
      " on path D:\\MRI_data\\Kaggle\\classification_images\\Training\\NO\\no_tumor\\frontal_section\\notebooks\\MRA_MRI.gif\n",
      "\n",
      "Train images: 2810\n",
      "Validation images: 176\n",
      "Test images: 530\n"
     ]
    }
   ],
   "source": [
    "train_img_data = get_data(train)\n",
    "train_img_len = len(train_img_data)\n",
    "\n",
    "val_img_data = get_data(val)\n",
    "val_img_len = len(val_img_data)\n",
    "\n",
    "test_img_data = get_data(test)\n",
    "test_img_len = len(test_img_data)\n",
    "\n",
    "print(f\"\\nTrain images: {train_img_len}\\nValidation images: {val_img_len}\\nTest images: {test_img_len}\")"
   ]
  },
  {
   "cell_type": "code",
   "execution_count": 21,
   "metadata": {},
   "outputs": [
    {
     "data": {
      "text/plain": [
       "2823"
      ]
     },
     "execution_count": 21,
     "metadata": {},
     "output_type": "execute_result"
    }
   ],
   "source": [
    "len(train)"
   ]
  },
  {
   "cell_type": "code",
   "execution_count": 22,
   "metadata": {},
   "outputs": [
    {
     "data": {
      "text/plain": [
       "('D:\\\\MRI_data\\\\Kaggle\\\\classification_images\\\\Testing\\\\NO\\\\no_tumor\\\\horizontal_section\\\\image(24).jpg',\n",
       " 0)"
      ]
     },
     "execution_count": 22,
     "metadata": {},
     "output_type": "execute_result"
    }
   ],
   "source": [
    "train[0]"
   ]
  },
  {
   "cell_type": "code",
   "execution_count": 23,
   "metadata": {},
   "outputs": [
    {
     "data": {
      "text/plain": [
       "'D:\\\\MRI_data\\\\Kaggle\\\\classification_images\\\\Testing\\\\NO\\\\no_tumor\\\\horizontal_section\\\\image(24).jpg'"
      ]
     },
     "execution_count": 23,
     "metadata": {},
     "output_type": "execute_result"
    }
   ],
   "source": [
    "train_img_data[0][2]"
   ]
  },
  {
   "cell_type": "markdown",
   "metadata": {},
   "source": [
    "## Remove Duplicate Images"
   ]
  },
  {
   "cell_type": "code",
   "execution_count": 24,
   "metadata": {},
   "outputs": [],
   "source": [
    "def remove_duplicates(data):\n",
    "    '''\n",
    "    function takes a list of entries and returns a list of all unique entries\n",
    "    '''\n",
    "\n",
    "    unique_list = []\n",
    "    duplicate_list = []\n",
    "    # loop through original images\n",
    "    for image in data:\n",
    "        img = image[0]\n",
    "        \n",
    "        is_unique = True\n",
    "        \n",
    "        # loop through new list\n",
    "        for unique_image in unique_list:\n",
    "            unique_img = unique_image[0]\n",
    "            \n",
    "            # check existing entries to new entry\n",
    "            if (img == unique_img).all():\n",
    "                is_unique = False\n",
    "                print(f'duplicate found:{img[0][25:26]} and {unique_img[0][25:26]}')\n",
    "                break\n",
    "                \n",
    "        # add to unique list if unique\n",
    "        if is_unique:\n",
    "            unique_list.append(image)\n",
    "#             print('appended')\n",
    "        \n",
    "        else:\n",
    "            duplicate_list.append(image)\n",
    "            \n",
    "    return np.array(unique_list), np.array(duplicate_list)"
   ]
  },
  {
   "cell_type": "code",
   "execution_count": 25,
   "metadata": {},
   "outputs": [],
   "source": [
    "img1 = val_img_data[0]\n",
    "img2 = val_img_data[1]\n",
    "img3 = val_img_data[0]"
   ]
  },
  {
   "cell_type": "code",
   "execution_count": 26,
   "metadata": {},
   "outputs": [
    {
     "data": {
      "text/plain": [
       "True"
      ]
     },
     "execution_count": 26,
     "metadata": {},
     "output_type": "execute_result"
    }
   ],
   "source": [
    "(img1[0] == img3[0]).all()"
   ]
  },
  {
   "cell_type": "code",
   "execution_count": 27,
   "metadata": {},
   "outputs": [
    {
     "name": "stdout",
     "output_type": "stream",
     "text": [
      "duplicate found:[[0 0 0]] and [[0 0 0]]\n",
      "duplicate found:[[0 0 0]] and [[0 0 0]]\n",
      "duplicate found:[[0 0 0]] and [[0 0 0]]\n",
      "duplicate found:[[14 14 14]] and [[14 14 14]]\n",
      "duplicate found:[[0 0 0]] and [[0 0 0]]\n",
      "duplicate found:[[30 30 30]] and [[30 30 30]]\n",
      "duplicate found:[[14 14 14]] and [[14 14 14]]\n",
      "duplicate found:[[20 20 20]] and [[20 20 20]]\n",
      "duplicate found:[[0 0 0]] and [[0 0 0]]\n",
      "duplicate found:[[0 0 0]] and [[0 0 0]]\n",
      "duplicate found:[[3 3 3]] and [[3 3 3]]\n",
      "duplicate found:[[4 4 4]] and [[4 4 4]]\n",
      "duplicate found:[[0 0 0]] and [[0 0 0]]\n",
      "duplicate found:[[30 30 30]] and [[30 30 30]]\n",
      "duplicate found:[[0 0 0]] and [[0 0 0]]\n",
      "duplicate found:[[3 3 3]] and [[3 3 3]]\n",
      "duplicate found:[[1 1 1]] and [[1 1 1]]\n",
      "duplicate found:[[15 15 15]] and [[15 15 15]]\n",
      "duplicate found:[[0 0 0]] and [[0 0 0]]\n",
      "duplicate found:[[0 0 0]] and [[0 0 0]]\n",
      "duplicate found:[[0 0 0]] and [[0 0 0]]\n",
      "duplicate found:[[0 0 0]] and [[0 0 0]]\n",
      "duplicate found:[[0 0 0]] and [[0 0 0]]\n",
      "duplicate found:[[0 0 0]] and [[0 0 0]]\n",
      "duplicate found:[[20 20 20]] and [[20 20 20]]\n",
      "duplicate found:[[46 46 46]] and [[46 46 46]]\n",
      "duplicate found:[[0 0 0]] and [[0 0 0]]\n",
      "duplicate found:[[1 1 1]] and [[1 1 1]]\n",
      "duplicate found:[[14 14 14]] and [[14 14 14]]\n",
      "duplicate found:[[27 27 27]] and [[27 27 27]]\n",
      "duplicate found:[[3 3 3]] and [[3 3 3]]\n",
      "duplicate found:[[0 0 0]] and [[0 0 0]]\n",
      "duplicate found:[[0 0 0]] and [[0 0 0]]\n",
      "duplicate found:[[16 16 16]] and [[16 16 16]]\n",
      "duplicate found:[[1 1 1]] and [[1 1 1]]\n",
      "duplicate found:[[0 0 0]] and [[0 0 0]]\n",
      "duplicate found:[[0 0 0]] and [[0 0 0]]\n",
      "duplicate found:[[0 0 0]] and [[0 0 0]]\n",
      "duplicate found:[[0 0 0]] and [[0 0 0]]\n",
      "duplicate found:[[15 15 15]] and [[15 15 15]]\n",
      "duplicate found:[[15 15 15]] and [[15 15 15]]\n",
      "duplicate found:[[10 10 10]] and [[10 10 10]]\n",
      "duplicate found:[[15 15 15]] and [[15 15 15]]\n",
      "duplicate found:[[3 3 3]] and [[3 3 3]]\n",
      "duplicate found:[[3 3 3]] and [[3 3 3]]\n",
      "duplicate found:[[0 0 0]] and [[0 0 0]]\n",
      "duplicate found:[[1 1 1]] and [[1 1 1]]\n",
      "duplicate found:[[0 0 0]] and [[0 0 0]]\n",
      "duplicate found:[[33 33 33]] and [[33 33 33]]\n",
      "duplicate found:[[10 10 10]] and [[10 10 10]]\n",
      "duplicate found:[[0 0 0]] and [[0 0 0]]\n",
      "duplicate found:[[0 0 0]] and [[0 0 0]]\n",
      "duplicate found:[[15 15 15]] and [[15 15 15]]\n",
      "duplicate found:[[26 26 26]] and [[26 26 26]]\n",
      "duplicate found:[[3 3 3]] and [[3 3 3]]\n",
      "duplicate found:[[11 11 11]] and [[11 11 11]]\n",
      "duplicate found:[[2 2 2]] and [[2 2 2]]\n",
      "duplicate found:[[4 4 4]] and [[4 4 4]]\n",
      "duplicate found:[[0 0 0]] and [[0 0 0]]\n",
      "duplicate found:[[1 1 1]] and [[1 1 1]]\n",
      "duplicate found:[[0 0 0]] and [[0 0 0]]\n",
      "duplicate found:[[0 0 0]] and [[0 0 0]]\n",
      "duplicate found:[[39 39 39]] and [[39 39 39]]\n",
      "duplicate found:[[9 9 9]] and [[9 9 9]]\n",
      "duplicate found:[[2 2 2]] and [[2 2 2]]\n",
      "duplicate found:[[7 7 7]] and [[7 7 7]]\n",
      "duplicate found:[[10 10 10]] and [[10 10 10]]\n",
      "duplicate found:[[0 0 0]] and [[0 0 0]]\n",
      "duplicate found:[[0 0 0]] and [[0 0 0]]\n",
      "duplicate found:[[0 0 0]] and [[0 0 0]]\n",
      "duplicate found:[[10 10 10]] and [[10 10 10]]\n",
      "duplicate found:[[1 1 1]] and [[1 1 1]]\n",
      "duplicate found:[[0 0 0]] and [[0 0 0]]\n",
      "duplicate found:[[22 22 22]] and [[22 22 22]]\n",
      "duplicate found:[[1 1 1]] and [[1 1 1]]\n",
      "duplicate found:[[1 1 1]] and [[1 1 1]]\n",
      "duplicate found:[[0 0 0]] and [[0 0 0]]\n",
      "duplicate found:[[0 0 0]] and [[0 0 0]]\n",
      "duplicate found:[[27 27 27]] and [[27 27 27]]\n",
      "duplicate found:[[12 12 12]] and [[12 12 12]]\n",
      "duplicate found:[[1 1 1]] and [[1 1 1]]\n",
      "duplicate found:[[26 26 26]] and [[26 26 26]]\n",
      "duplicate found:[[39 39 39]] and [[39 39 39]]\n",
      "duplicate found:[[0 0 0]] and [[0 0 0]]\n",
      "duplicate found:[[0 0 0]] and [[0 0 0]]\n",
      "duplicate found:[[0 0 0]] and [[0 0 0]]\n",
      "duplicate found:[[14 14 14]] and [[14 14 14]]\n",
      "duplicate found:[[4 4 4]] and [[4 4 4]]\n",
      "duplicate found:[[14 14 14]] and [[14 14 14]]\n",
      "duplicate found:[[3 3 3]] and [[3 3 3]]\n",
      "duplicate found:[[0 0 0]] and [[0 0 0]]\n",
      "duplicate found:[[16 16 16]] and [[16 16 16]]\n",
      "duplicate found:[[15 15 15]] and [[15 15 15]]\n",
      "duplicate found:[[33 33 33]] and [[33 33 33]]\n",
      "duplicate found:[[2 2 2]] and [[2 2 2]]\n",
      "duplicate found:[[0 0 0]] and [[0 0 0]]\n",
      "duplicate found:[[0 0 0]] and [[0 0 0]]\n",
      "duplicate found:[[0 0 0]] and [[0 0 0]]\n",
      "duplicate found:[[27 27 27]] and [[27 27 27]]\n",
      "duplicate found:[[37 37 37]] and [[37 37 37]]\n",
      "duplicate found:[[1 1 1]] and [[1 1 1]]\n",
      "duplicate found:[[30 30 30]] and [[30 30 30]]\n",
      "duplicate found:[[0 0 0]] and [[0 0 0]]\n",
      "duplicate found:[[0 0 0]] and [[0 0 0]]\n",
      "duplicate found:[[26 26 26]] and [[26 26 26]]\n",
      "duplicate found:[[0 0 0]] and [[0 0 0]]\n",
      "duplicate found:[[0 0 0]] and [[0 0 0]]\n",
      "duplicate found:[[1 1 1]] and [[1 1 1]]\n",
      "duplicate found:[[0 0 0]] and [[0 0 0]]\n",
      "duplicate found:[[14 14 14]] and [[14 14 14]]\n",
      "duplicate found:[[1 1 1]] and [[1 1 1]]\n",
      "duplicate found:[[0 0 0]] and [[0 0 0]]\n",
      "duplicate found:[[0 0 0]] and [[0 0 0]]\n",
      "duplicate found:[[14 14 14]] and [[14 14 14]]\n",
      "duplicate found:[[1 1 1]] and [[1 1 1]]\n",
      "duplicate found:[[45 45 45]] and [[45 45 45]]\n",
      "duplicate found:[[2 2 2]] and [[2 2 2]]\n",
      "duplicate found:[[4 4 4]] and [[4 4 4]]\n",
      "duplicate found:[[0 0 0]] and [[0 0 0]]\n",
      "duplicate found:[[1 1 1]] and [[1 1 1]]\n",
      "duplicate found:[[0 0 0]] and [[0 0 0]]\n",
      "duplicate found:[[1 1 1]] and [[1 1 1]]\n",
      "duplicate found:[[0 0 0]] and [[0 0 0]]\n",
      "duplicate found:[[20 20 20]] and [[20 20 20]]\n",
      "duplicate found:[[0 0 0]] and [[0 0 0]]\n",
      "duplicate found:[[0 0 0]] and [[0 0 0]]\n",
      "duplicate found:[[1 1 1]] and [[1 1 1]]\n",
      "duplicate found:[[0 0 0]] and [[0 0 0]]\n",
      "duplicate found:[[46 46 46]] and [[46 46 46]]\n",
      "duplicate found:[[209 209 209]] and [[209 209 209]]\n",
      "duplicate found:[[1 1 1]] and [[1 1 1]]\n",
      "duplicate found:[[0 0 0]] and [[0 0 0]]\n",
      "duplicate found:[[0 0 0]] and [[0 0 0]]\n",
      "duplicate found:[[9 9 9]] and [[9 9 9]]\n",
      "duplicate found:[[15 15 15]] and [[15 15 15]]\n",
      "duplicate found:[[8 8 8]] and [[8 8 8]]\n",
      "duplicate found:[[17 17 17]] and [[17 17 17]]\n",
      "duplicate found:[[0 0 0]] and [[0 0 0]]\n",
      "duplicate found:[[0 0 0]] and [[0 0 0]]\n",
      "duplicate found:[[0 0 0]] and [[0 0 0]]\n",
      "duplicate found:[[2 2 2]] and [[2 2 2]]\n",
      "duplicate found:[[251 251 251]] and [[251 251 251]]\n",
      "duplicate found:[[0 0 0]] and [[0 0 0]]\n",
      "duplicate found:[[0 0 0]] and [[0 0 0]]\n",
      "duplicate found:[[2 2 2]] and [[2 2 2]]\n",
      "duplicate found:[[0 0 0]] and [[0 0 0]]\n",
      "duplicate found:[[8 8 8]] and [[8 8 8]]\n",
      "duplicate found:[[1 1 1]] and [[1 1 1]]\n",
      "duplicate found:[[2 2 2]] and [[2 2 2]]\n",
      "duplicate found:[[1 1 1]] and [[1 1 1]]\n",
      "duplicate found:[[0 0 0]] and [[0 0 0]]\n",
      "duplicate found:[[1 1 1]] and [[1 1 1]]\n",
      "duplicate found:[[0 0 0]] and [[0 0 0]]\n",
      "duplicate found:[[0 0 0]] and [[0 0 0]]\n",
      "duplicate found:[[2 2 2]] and [[2 2 2]]\n",
      "duplicate found:[[13 13 13]] and [[13 13 13]]\n",
      "duplicate found:[[1 1 1]] and [[1 1 1]]\n",
      "duplicate found:[[1 1 1]] and [[1 1 1]]\n",
      "duplicate found:[[10 10 10]] and [[10 10 10]]\n",
      "duplicate found:[[123 123 123]] and [[123 123 123]]\n",
      "duplicate found:[[0 0 0]] and [[0 0 0]]\n",
      "duplicate found:[[0 0 0]] and [[0 0 0]]\n",
      "duplicate found:[[0 0 0]] and [[0 0 0]]\n",
      "duplicate found:[[10 10 10]] and [[10 10 10]]\n",
      "duplicate found:[[0 0 0]] and [[0 0 0]]\n",
      "duplicate found:[[21 21 21]] and [[21 21 21]]\n",
      "duplicate found:[[0 0 0]] and [[0 0 0]]\n",
      "duplicate found:[[3 3 3]] and [[3 3 3]]\n",
      "duplicate found:[[0 0 0]] and [[0 0 0]]\n",
      "duplicate found:[[8 8 8]] and [[8 8 8]]\n",
      "duplicate found:[[0 0 0]] and [[0 0 0]]\n",
      "duplicate found:[[2 2 2]] and [[2 2 2]]\n",
      "duplicate found:[[1 1 1]] and [[1 1 1]]\n",
      "duplicate found:[[0 0 0]] and [[0 0 0]]\n",
      "duplicate found:[[0 0 0]] and [[0 0 0]]\n",
      "duplicate found:[[0 0 0]] and [[0 0 0]]\n",
      "duplicate found:[[2 2 2]] and [[2 2 2]]\n",
      "duplicate found:[[0 0 0]] and [[0 0 0]]\n",
      "duplicate found:[[5 5 5]] and [[5 5 5]]\n",
      "duplicate found:[[15 15 15]] and [[15 15 15]]\n",
      "duplicate found:[[0 0 0]] and [[0 0 0]]\n",
      "duplicate found:[[43 43 43]] and [[43 43 43]]\n",
      "duplicate found:[[6 6 6]] and [[6 6 6]]\n",
      "duplicate found:[[17 17 17]] and [[17 17 17]]\n",
      "duplicate found:[[0 0 0]] and [[0 0 0]]\n",
      "duplicate found:[[0 0 0]] and [[0 0 0]]\n",
      "duplicate found:[[0 0 0]] and [[0 0 0]]\n",
      "duplicate found:[[0 0 0]] and [[0 0 0]]\n",
      "duplicate found:[[3 3 3]] and [[3 3 3]]\n",
      "duplicate found:[[30 30 30]] and [[30 30 30]]\n",
      "duplicate found:[[64 64 64]] and [[64 64 64]]\n",
      "duplicate found:[[1 1 1]] and [[1 1 1]]\n",
      "duplicate found:[[2 2 2]] and [[2 2 2]]\n",
      "duplicate found:[[3 3 3]] and [[3 3 3]]\n",
      "duplicate found:[[11 11 11]] and [[11 11 11]]\n",
      "duplicate found:[[0 0 0]] and [[0 0 0]]\n",
      "duplicate found:[[0 0 0]] and [[0 0 0]]\n",
      "duplicate found:[[0 0 0]] and [[0 0 0]]\n",
      "duplicate found:[[29 29 29]] and [[29 29 29]]\n",
      "duplicate found:[[0 0 0]] and [[0 0 0]]\n",
      "duplicate found:[[43 43 43]] and [[43 43 43]]\n",
      "duplicate found:[[0 0 0]] and [[0 0 0]]\n",
      "duplicate found:[[0 0 0]] and [[0 0 0]]\n",
      "duplicate found:[[0 0 0]] and [[0 0 0]]\n",
      "duplicate found:[[0 0 0]] and [[0 0 0]]\n",
      "duplicate found:[[15 15 15]] and [[15 15 15]]\n",
      "duplicate found:[[0 0 0]] and [[0 0 0]]\n",
      "duplicate found:[[0 0 0]] and [[0 0 0]]\n",
      "duplicate found:[[1 1 1]] and [[1 1 1]]\n",
      "duplicate found:[[0 0 0]] and [[0 0 0]]\n",
      "duplicate found:[[1 1 1]] and [[1 1 1]]\n",
      "duplicate found:[[3 3 3]] and [[3 3 3]]\n",
      "duplicate found:[[0 0 0]] and [[0 0 0]]\n",
      "duplicate found:[[36 36 36]] and [[36 36 36]]\n",
      "duplicate found:[[1 1 1]] and [[1 1 1]]\n",
      "duplicate found:[[0 0 0]] and [[0 0 0]]\n",
      "duplicate found:[[2 2 2]] and [[2 2 2]]\n",
      "duplicate found:[[0 0 0]] and [[0 0 0]]\n",
      "duplicate found:[[0 0 0]] and [[0 0 0]]\n",
      "duplicate found:[[0 0 0]] and [[0 0 0]]\n",
      "duplicate found:[[8 8 8]] and [[8 8 8]]\n",
      "duplicate found:[[0 0 0]] and [[0 0 0]]\n",
      "duplicate found:[[0 0 0]] and [[0 0 0]]\n",
      "duplicate found:[[0 0 0]] and [[0 0 0]]\n",
      "duplicate found:[[0 0 0]] and [[0 0 0]]\n",
      "duplicate found:[[19 19 19]] and [[19 19 19]]\n",
      "duplicate found:[[7 7 7]] and [[7 7 7]]\n",
      "duplicate found:[[0 0 0]] and [[0 0 0]]\n",
      "duplicate found:[[24 24 24]] and [[24 24 24]]\n",
      "duplicate found:[[3 3 3]] and [[3 3 3]]\n",
      "duplicate found:[[9 9 9]] and [[9 9 9]]\n",
      "duplicate found:[[4 4 4]] and [[4 4 4]]\n",
      "duplicate found:[[0 0 0]] and [[0 0 0]]\n",
      "duplicate found:[[0 0 0]] and [[0 0 0]]\n",
      "duplicate found:[[0 0 0]] and [[0 0 0]]\n",
      "duplicate found:[[1 1 1]] and [[1 1 1]]\n",
      "duplicate found:[[0 0 0]] and [[0 0 0]]\n",
      "duplicate found:[[2 2 2]] and [[2 2 2]]\n",
      "duplicate found:[[0 0 0]] and [[0 0 0]]\n",
      "duplicate found:[[1 1 1]] and [[1 1 1]]\n",
      "duplicate found:[[0 0 0]] and [[0 0 0]]\n",
      "duplicate found:[[20 20 20]] and [[20 20 20]]\n",
      "duplicate found:[[0 0 0]] and [[0 0 0]]\n",
      "duplicate found:[[0 0 0]] and [[0 0 0]]\n",
      "duplicate found:[[0 0 0]] and [[0 0 0]]\n",
      "duplicate found:[[0 0 0]] and [[0 0 0]]\n",
      "duplicate found:[[0 0 0]] and [[0 0 0]]\n",
      "duplicate found:[[1 1 1]] and [[1 1 1]]\n",
      "duplicate found:[[1 1 1]] and [[1 1 1]]\n",
      "duplicate found:[[11 11 11]] and [[11 11 11]]\n",
      "duplicate found:[[0 0 0]] and [[0 0 0]]\n",
      "duplicate found:[[0 0 0]] and [[0 0 0]]\n",
      "duplicate found:[[0 0 0]] and [[0 0 0]]\n",
      "duplicate found:[[0 0 0]] and [[0 0 0]]\n",
      "duplicate found:[[15 15 15]] and [[15 15 15]]\n",
      "duplicate found:[[11 11 11]] and [[11 11 11]]\n",
      "duplicate found:[[0 0 0]] and [[0 0 0]]\n",
      "duplicate found:[[26 26 26]] and [[26 26 26]]\n",
      "duplicate found:[[5 5 5]] and [[5 5 5]]\n",
      "duplicate found:[[0 0 0]] and [[0 0 0]]\n",
      "duplicate found:[[5 5 5]] and [[5 5 5]]\n",
      "duplicate found:[[29 29 29]] and [[29 29 29]]\n",
      "duplicate found:[[1 1 1]] and [[1 1 1]]\n",
      "duplicate found:[[9 9 9]] and [[9 9 9]]\n",
      "duplicate found:[[0 0 0]] and [[0 0 0]]\n",
      "duplicate found:[[2 2 2]] and [[2 2 2]]\n",
      "duplicate found:[[0 0 0]] and [[0 0 0]]\n",
      "duplicate found:[[0 0 0]] and [[0 0 0]]\n",
      "duplicate found:[[1 1 1]] and [[1 1 1]]\n",
      "duplicate found:[[0 0 0]] and [[0 0 0]]\n",
      "duplicate found:[[83 83 83]] and [[83 83 83]]\n",
      "duplicate found:[[1 1 1]] and [[1 1 1]]\n",
      "duplicate found:[[0 0 0]] and [[0 0 0]]\n",
      "duplicate found:[[4 4 4]] and [[4 4 4]]\n",
      "duplicate found:[[251 251 251]] and [[251 251 251]]\n",
      "duplicate found:[[0 0 0]] and [[0 0 0]]\n",
      "duplicate found:[[0 0 0]] and [[0 0 0]]\n",
      "duplicate found:[[1 1 1]] and [[1 1 1]]\n",
      "duplicate found:[[0 0 0]] and [[0 0 0]]\n",
      "duplicate found:[[0 0 0]] and [[0 0 0]]\n",
      "duplicate found:[[2 2 2]] and [[2 2 2]]\n",
      "duplicate found:[[27 27 27]] and [[27 27 27]]\n",
      "duplicate found:[[46 46 46]] and [[46 46 46]]\n",
      "duplicate found:[[20 20 20]] and [[20 20 20]]\n",
      "duplicate found:[[0 0 0]] and [[0 0 0]]\n",
      "duplicate found:[[0 0 0]] and [[0 0 0]]\n",
      "duplicate found:[[0 0 0]] and [[0 0 0]]\n",
      "duplicate found:[[1 1 1]] and [[1 1 1]]\n",
      "duplicate found:[[11 11 11]] and [[11 11 11]]\n",
      "duplicate found:[[1 1 1]] and [[1 1 1]]\n",
      "duplicate found:[[11 11 11]] and [[11 11 11]]\n",
      "duplicate found:[[0 0 0]] and [[0 0 0]]\n",
      "duplicate found:[[0 0 0]] and [[0 0 0]]\n",
      "duplicate found:[[0 0 0]] and [[0 0 0]]\n"
     ]
    }
   ],
   "source": [
    "unique_train_img, train_duplicate = remove_duplicates(train_img_data)\n",
    "unique_val_img, val_duplicate = remove_duplicates(val_img_data)\n",
    "unique_test_img, test_duplicate = remove_duplicates(test_img_data)"
   ]
  },
  {
   "cell_type": "code",
   "execution_count": 28,
   "metadata": {},
   "outputs": [
    {
     "data": {
      "text/plain": [
       "2533"
      ]
     },
     "execution_count": 28,
     "metadata": {},
     "output_type": "execute_result"
    }
   ],
   "source": [
    "len(unique_train_img)"
   ]
  },
  {
   "cell_type": "code",
   "execution_count": 29,
   "metadata": {},
   "outputs": [
    {
     "data": {
      "text/plain": [
       "2810"
      ]
     },
     "execution_count": 29,
     "metadata": {},
     "output_type": "execute_result"
    }
   ],
   "source": [
    "len(train_img_data)"
   ]
  },
  {
   "cell_type": "code",
   "execution_count": 30,
   "metadata": {},
   "outputs": [
    {
     "data": {
      "text/plain": [
       "175"
      ]
     },
     "execution_count": 30,
     "metadata": {},
     "output_type": "execute_result"
    }
   ],
   "source": [
    "len(unique_val_img)"
   ]
  },
  {
   "cell_type": "code",
   "execution_count": 31,
   "metadata": {},
   "outputs": [
    {
     "data": {
      "text/plain": [
       "176"
      ]
     },
     "execution_count": 31,
     "metadata": {},
     "output_type": "execute_result"
    }
   ],
   "source": [
    "len(val_img_data)"
   ]
  },
  {
   "cell_type": "code",
   "execution_count": 32,
   "metadata": {},
   "outputs": [
    {
     "data": {
      "text/plain": [
       "514"
      ]
     },
     "execution_count": 32,
     "metadata": {},
     "output_type": "execute_result"
    }
   ],
   "source": [
    "len(unique_test_img)"
   ]
  },
  {
   "cell_type": "code",
   "execution_count": 33,
   "metadata": {},
   "outputs": [
    {
     "data": {
      "text/plain": [
       "530"
      ]
     },
     "execution_count": 33,
     "metadata": {},
     "output_type": "execute_result"
    }
   ],
   "source": [
    "len(test_img_data)"
   ]
  },
  {
   "cell_type": "code",
   "execution_count": 34,
   "metadata": {},
   "outputs": [
    {
     "data": {
      "text/plain": [
       "177"
      ]
     },
     "execution_count": 34,
     "metadata": {},
     "output_type": "execute_result"
    }
   ],
   "source": [
    "len(val)"
   ]
  },
  {
   "cell_type": "code",
   "execution_count": 35,
   "metadata": {},
   "outputs": [],
   "source": [
    "labels = ['Tumor Absent', 'Tumor Present']"
   ]
  },
  {
   "cell_type": "code",
   "execution_count": 36,
   "metadata": {},
   "outputs": [
    {
     "data": {
      "text/plain": [
       "array([array([[[0, 0, 0],\n",
       "        [0, 0, 0],\n",
       "        [0, 0, 0],\n",
       "        ...,\n",
       "        [0, 0, 0],\n",
       "        [0, 0, 0],\n",
       "        [0, 0, 0]],\n",
       "\n",
       "       [[0, 0, 0],\n",
       "        [0, 0, 0],\n",
       "        [0, 0, 0],\n",
       "        ...,\n",
       "        [0, 0, 0],\n",
       "        [0, 0, 0],\n",
       "        [0, 0, 0]],\n",
       "\n",
       "       [[0, 0, 0],\n",
       "        [0, 0, 0],\n",
       "        [0, 0, 0],\n",
       "        ...,\n",
       "        [0, 0, 0],\n",
       "        [0, 0, 0],\n",
       "        [0, 0, 0]],\n",
       "\n",
       "       ...,\n",
       "\n",
       "       [[0, 0, 0],\n",
       "        [0, 0, 0],\n",
       "        [0, 0, 0],\n",
       "        ...,\n",
       "        [0, 0, 0],\n",
       "        [0, 0, 0],\n",
       "        [0, 0, 0]],\n",
       "\n",
       "       [[0, 0, 0],\n",
       "        [0, 0, 0],\n",
       "        [0, 0, 0],\n",
       "        ...,\n",
       "        [0, 0, 0],\n",
       "        [0, 0, 0],\n",
       "        [0, 0, 0]],\n",
       "\n",
       "       [[0, 0, 0],\n",
       "        [0, 0, 0],\n",
       "        [0, 0, 0],\n",
       "        ...,\n",
       "        [0, 0, 0],\n",
       "        [0, 0, 0],\n",
       "        [0, 0, 0]]], dtype=uint8),\n",
       "       0,\n",
       "       'D:\\\\MRI_data\\\\Kaggle\\\\classification_images\\\\Testing\\\\NO\\\\no_tumor\\\\horizontal_section\\\\image(24).jpg'],\n",
       "      dtype=object)"
      ]
     },
     "execution_count": 36,
     "metadata": {},
     "output_type": "execute_result"
    }
   ],
   "source": [
    "unique_train_img[0]"
   ]
  },
  {
   "cell_type": "code",
   "execution_count": 37,
   "metadata": {},
   "outputs": [
    {
     "data": {
      "text/plain": [
       "(-0.5, 149.5, 149.5, -0.5)"
      ]
     },
     "execution_count": 37,
     "metadata": {},
     "output_type": "execute_result"
    },
    {
     "data": {
      "image/png": "[encoded data removed]",
      "text/plain": [
       "<Figure size 360x360 with 1 Axes>"
      ]
     },
     "metadata": {
      "needs_background": "light"
     },
     "output_type": "display_data"
    },
    {
     "data": {
      "image/png": "[encoded data removed]",
      "text/plain": [
       "<Figure size 360x360 with 1 Axes>"
      ]
     },
     "metadata": {
      "needs_background": "light"
     },
     "output_type": "display_data"
    }
   ],
   "source": [
    "# plot image data from first [1] train image data (tumor-free brain)\n",
    "plt.figure(figsize=(5,5))\n",
    "plt.imshow(unique_train_img[0][0], cmap='gray')\n",
    "plt.title(labels[unique_train_img[0][1]])\n",
    "plt.axis('off')\n",
    "\n",
    "# plot image data from last [-1] train image data (tumor patient brain)\n",
    "plt.figure(figsize=(5,5))\n",
    "plt.imshow(unique_train_img[-1][0], cmap='gray')\n",
    "plt.title(labels[train_img_data[-1][1]])\n",
    "plt.axis('off')"
   ]
  },
  {
   "cell_type": "code",
   "execution_count": 38,
   "metadata": {},
   "outputs": [],
   "source": [
    "# separate image data and identifiers\n",
    "x_train = []\n",
    "y_train = []\n",
    "\n",
    "x_val = []\n",
    "y_val = []\n",
    "\n",
    "x_test = []\n",
    "y_test = []\n",
    "\n",
    "for data, label, _ in unique_train_img:\n",
    "    x_train.append(data)\n",
    "    y_train.append(label)\n",
    "    \n",
    "for data, label, _ in unique_val_img:\n",
    "    x_val.append(data)\n",
    "    y_val.append(label)\n",
    "    \n",
    "for data, label, _ in unique_test_img:\n",
    "    x_test.append(data)\n",
    "    y_test.append(label)"
   ]
  },
  {
   "cell_type": "code",
   "execution_count": 39,
   "metadata": {},
   "outputs": [],
   "source": [
    "# scale data and convert to np.array for efficiency\n",
    "\n",
    "x_train = np.array(x_train)/255\n",
    "\n",
    "x_test = np.array(x_test)/255\n",
    "\n",
    "x_val = np.array(x_val)/255"
   ]
  },
  {
   "cell_type": "code",
   "execution_count": 40,
   "metadata": {},
   "outputs": [],
   "source": [
    "img_size = 150\n",
    "# resize data for deep learning\n",
    "x_train = x_train.reshape(-1, img_size, img_size, 3)\n",
    "\n",
    "x_test = x_test.reshape(-1, img_size, img_size, 3)\n",
    "\n",
    "x_val = x_val.reshape(-1, img_size, img_size, 3)"
   ]
  },
  {
   "cell_type": "markdown",
   "metadata": {},
   "source": [
    "# DATAGEN"
   ]
  },
  {
   "cell_type": "markdown",
   "metadata": {},
   "source": [
    "Alter data to make model more robust"
   ]
  },
  {
   "cell_type": "code",
   "execution_count": 41,
   "metadata": {},
   "outputs": [],
   "source": [
    "from keras.preprocessing.image import ImageDataGenerator"
   ]
  },
  {
   "cell_type": "code",
   "execution_count": 42,
   "metadata": {},
   "outputs": [],
   "source": [
    "datagen = ImageDataGenerator(\\\n",
    "                            featurewise_center=False,\n",
    "                            samplewise_center=False,\n",
    "                            featurewise_std_normalization=False,\n",
    "                            samplewise_std_normalization=False, \n",
    "                            zca_whitening=False, \n",
    "                            rotation_range=30,\n",
    "                            zoom_range=0.25,\n",
    "                            width_shift_range=0.2,\n",
    "                            height_shift_range=0.2,\n",
    "                            horizontal_flip=True,\n",
    "                            vertical_flip=False)"
   ]
  },
  {
   "cell_type": "markdown",
   "metadata": {},
   "source": [
    "# FSM"
   ]
  },
  {
   "cell_type": "code",
   "execution_count": 43,
   "metadata": {},
   "outputs": [],
   "source": [
    "from keras.models import Sequential\n",
    "from keras.layers import Dense, Conv2D, MaxPool2D, Flatten, Dropout, BatchNormalization"
   ]
  },
  {
   "cell_type": "code",
   "execution_count": 44,
   "metadata": {},
   "outputs": [
    {
     "name": "stdout",
     "output_type": "stream",
     "text": [
      "Model: \"sequential\"\n",
      "_________________________________________________________________\n",
      "Layer (type)                 Output Shape              Param #   \n",
      "=================================================================\n",
      "conv2d (Conv2D)              (None, 150, 150, 32)      896       \n",
      "_________________________________________________________________\n",
      "flatten (Flatten)            (None, 720000)            0         \n",
      "_________________________________________________________________\n",
      "dense (Dense)                (None, 1)                 720001    \n",
      "=================================================================\n",
      "Total params: 720,897\n",
      "Trainable params: 720,897\n",
      "Non-trainable params: 0\n",
      "_________________________________________________________________\n"
     ]
    }
   ],
   "source": [
    "fsm = Sequential()\n",
    "fsm.add(Conv2D(32, (3,3), strides=1, padding='same', activation='relu', input_shape=(150,150,3)))\n",
    "fsm.add(Flatten())\n",
    "fsm.add(Dense(units=1, activation='sigmoid'))\n",
    "fsm.compile(optimizer='adam', loss='binary_crossentropy', metrics=['Precision', 'accuracy'])\n",
    "fsm.summary()"
   ]
  },
  {
   "cell_type": "code",
   "execution_count": 45,
   "metadata": {},
   "outputs": [],
   "source": [
    "from keras.callbacks import ReduceLROnPlateau"
   ]
  },
  {
   "cell_type": "code",
   "execution_count": 46,
   "metadata": {},
   "outputs": [],
   "source": [
    "learning_rate_reduction_loss = ReduceLROnPlateau(monitor='val_loss', patience=2, verbose=1, factor=0.3, min_lr=10**-9)\n",
    "learning_rate_reduction_acc = ReduceLROnPlateau(monitor='val_accuracy', patience=2, verbose=1, factor=0.3, min_lr=10**-9)"
   ]
  },
  {
   "cell_type": "markdown",
   "metadata": {},
   "source": [
    "# Run Model"
   ]
  },
  {
   "cell_type": "code",
   "execution_count": 47,
   "metadata": {},
   "outputs": [
    {
     "name": "stdout",
     "output_type": "stream",
     "text": [
      "Epoch 1/12\n",
      "80/80 [==============================] - 20s 245ms/step - loss: 0.6257 - precision: 0.8599 - accuracy: 0.8279 - val_loss: 0.4850 - val_precision: 0.8343 - val_accuracy: 0.8114\n",
      "Epoch 2/12\n",
      "80/80 [==============================] - 19s 243ms/step - loss: 0.3663 - precision: 0.8757 - accuracy: 0.8638 - val_loss: 0.4106 - val_precision: 0.8545 - val_accuracy: 0.8343\n",
      "Epoch 3/12\n",
      "80/80 [==============================] - 19s 243ms/step - loss: 0.3361 - precision: 0.8840 - accuracy: 0.8705 - val_loss: 0.3935 - val_precision: 0.8608 - val_accuracy: 0.8171\n",
      "Epoch 4/12\n",
      "80/80 [==============================] - ETA: 0s - loss: 0.3354 - precision: 0.8859 - accuracy: 0.8733\n",
      "Epoch 00004: ReduceLROnPlateau reducing learning rate to 0.0003000000142492354.\n",
      "80/80 [==============================] - 20s 246ms/step - loss: 0.3354 - precision: 0.8859 - accuracy: 0.8733 - val_loss: 0.3936 - val_precision: 0.8625 - val_accuracy: 0.8286\n",
      "Epoch 5/12\n",
      "80/80 [==============================] - ETA: 0s - loss: 0.3163 - precision: 0.8938 - accuracy: 0.8737\n",
      "Epoch 00005: ReduceLROnPlateau reducing learning rate to 9.000000427477062e-05.\n",
      "80/80 [==============================] - 21s 257ms/step - loss: 0.3163 - precision: 0.8938 - accuracy: 0.8737 - val_loss: 0.4317 - val_precision: 0.8734 - val_accuracy: 0.8400\n",
      "Epoch 6/12\n",
      "80/80 [==============================] - 21s 262ms/step - loss: 0.3039 - precision: 0.8890 - accuracy: 0.8721 - val_loss: 0.3795 - val_precision: 0.8589 - val_accuracy: 0.8343\n",
      "Epoch 7/12\n",
      "80/80 [==============================] - ETA: 0s - loss: 0.3027 - precision: 0.8944 - accuracy: 0.8760\n",
      "Epoch 00007: ReduceLROnPlateau reducing learning rate to 2.700000040931627e-05.\n",
      "80/80 [==============================] - 20s 246ms/step - loss: 0.3027 - precision: 0.8944 - accuracy: 0.8760 - val_loss: 0.3888 - val_precision: 0.8580 - val_accuracy: 0.8286\n",
      "Epoch 8/12\n",
      "80/80 [==============================] - 19s 234ms/step - loss: 0.3101 - precision: 0.8918 - accuracy: 0.8733 - val_loss: 0.3549 - val_precision: 0.8650 - val_accuracy: 0.8457\n",
      "Epoch 9/12\n",
      "80/80 [==============================] - 19s 234ms/step - loss: 0.3027 - precision: 0.8908 - accuracy: 0.8729 - val_loss: 0.3600 - val_precision: 0.8589 - val_accuracy: 0.8343\n",
      "Epoch 10/12\n",
      "80/80 [==============================] - ETA: 0s - loss: 0.3110 - precision: 0.8955 - accuracy: 0.8764\n",
      "Epoch 00010: ReduceLROnPlateau reducing learning rate to 8.100000013655517e-06.\n",
      "\n",
      "Epoch 00010: ReduceLROnPlateau reducing learning rate to 2.429999949526973e-06.\n",
      "80/80 [==============================] - 19s 232ms/step - loss: 0.3110 - precision: 0.8955 - accuracy: 0.8764 - val_loss: 0.3686 - val_precision: 0.8687 - val_accuracy: 0.8400\n",
      "Epoch 11/12\n",
      "80/80 [==============================] - 19s 234ms/step - loss: 0.3104 - precision: 0.8960 - accuracy: 0.8749 - val_loss: 0.3651 - val_precision: 0.8696 - val_accuracy: 0.8457\n",
      "Epoch 12/12\n",
      "80/80 [==============================] - 19s 231ms/step - loss: 0.3091 - precision: 0.8944 - accuracy: 0.8729 - val_loss: 0.3470 - val_precision: 0.8797 - val_accuracy: 0.8514\n"
     ]
    }
   ],
   "source": [
    "epochs = 12\n",
    "history = fsm.fit(datagen.flow(x_train, y_train), epochs=epochs, validation_data=datagen.flow(x_val, y_val), callbacks=[learning_rate_reduction_loss, learning_rate_reduction_acc])"
   ]
  },
  {
   "cell_type": "code",
   "execution_count": 48,
   "metadata": {},
   "outputs": [],
   "source": [
    "y_test = np.array(y_test, dtype=np.uint8)"
   ]
  },
  {
   "cell_type": "code",
   "execution_count": 49,
   "metadata": {},
   "outputs": [
    {
     "name": "stdout",
     "output_type": "stream",
     "text": [
      "17/17 [==============================] - 1s 46ms/step - loss: 0.3792 - precision: 0.8857 - accuracy: 0.8482\n"
     ]
    },
    {
     "data": {
      "text/plain": [
       "[0.37916991114616394, 0.8857142925262451, 0.8482490181922913]"
      ]
     },
     "execution_count": 49,
     "metadata": {},
     "output_type": "execute_result"
    }
   ],
   "source": [
    "fsm.evaluate(x_test, y_test)"
   ]
  },
  {
   "cell_type": "code",
   "execution_count": 50,
   "metadata": {},
   "outputs": [
    {
     "data": {
      "text/plain": [
       "array([[1],\n",
       "       [1],\n",
       "       [1],\n",
       "       [0],\n",
       "       [1],\n",
       "       [1],\n",
       "       [1],\n",
       "       [0],\n",
       "       [0],\n",
       "       [1]])"
      ]
     },
     "execution_count": 50,
     "metadata": {},
     "output_type": "execute_result"
    }
   ],
   "source": [
    "# model.predict_classes(x_test)\n",
    "(fsm.predict(x_test) > 0.5).astype('int32')[:10]"
   ]
  },
  {
   "cell_type": "code",
   "execution_count": 51,
   "metadata": {},
   "outputs": [
    {
     "data": {
      "text/plain": [
       "514"
      ]
     },
     "execution_count": 51,
     "metadata": {},
     "output_type": "execute_result"
    }
   ],
   "source": [
    "len(y_test)"
   ]
  },
  {
   "cell_type": "code",
   "execution_count": 52,
   "metadata": {},
   "outputs": [
    {
     "data": {
      "text/plain": [
       "175"
      ]
     },
     "execution_count": 52,
     "metadata": {},
     "output_type": "execute_result"
    }
   ],
   "source": [
    "len(y_val)"
   ]
  },
  {
   "cell_type": "markdown",
   "metadata": {},
   "source": [
    "## visualize performance"
   ]
  },
  {
   "cell_type": "code",
   "execution_count": 53,
   "metadata": {},
   "outputs": [],
   "source": [
    "from sklearn.metrics import classification_report, confusion_matrix"
   ]
  },
  {
   "cell_type": "code",
   "execution_count": 54,
   "metadata": {},
   "outputs": [],
   "source": [
    "import seaborn as sns"
   ]
  },
  {
   "cell_type": "code",
   "execution_count": 55,
   "metadata": {},
   "outputs": [],
   "source": [
    "# import matplotlib as mpl"
   ]
  },
  {
   "cell_type": "code",
   "execution_count": 56,
   "metadata": {},
   "outputs": [
    {
     "data": {
      "image/png": "[encoded data removed]",
      "text/plain": [
       "<Figure size 1440x720 with 2 Axes>"
      ]
     },
     "metadata": {},
     "output_type": "display_data"
    }
   ],
   "source": [
    "\n",
    "epochs = [i for i in range(12)]\n",
    "\n",
    "# plt.rcParams.update(plt.rcParamsDefault)\n",
    "plt.style.use('fivethirtyeight')\n",
    "plt.rcParams['text.color'] = 'k'\n",
    "plt.rcParams['axes.facecolor'] = 'F0F0F0'\n",
    "\n",
    "fig , ax = plt.subplots(1,2)\n",
    "train_acc = history.history['accuracy']\n",
    "train_loss = history.history['loss']\n",
    "val_acc = history.history['val_accuracy']\n",
    "val_loss = history.history['val_loss']\n",
    "fig.set_size_inches(20,10)\n",
    "\n",
    "ax[0].plot(epochs , train_acc , 'go-' , label = 'Training Accuracy')\n",
    "ax[0].plot(epochs , val_acc , 'ro-' , label = 'Validation Accuracy')\n",
    "ax[0].set_title('Training & Validation Accuracy')\n",
    "ax[0].legend()\n",
    "ax[0].set_xlabel(\"Epochs\")\n",
    "ax[0].set_ylabel(\"Accuracy\")\n",
    "ax[0].spines['bottom'].set_color('black')\n",
    "ax[0].spines['left'].set_color('black')\n",
    "ax[0].tick_params(axis='x', colors='black')\n",
    "ax[0].tick_params(axis='y', colors='black')\n",
    "ax[0].yaxis.label.set_color('black')\n",
    "ax[0].xaxis.label.set_color('black')\n",
    "\n",
    "ax[1].plot(epochs , train_loss , 'g-o' , label = 'Testing Loss')\n",
    "ax[1].plot(epochs , val_loss , 'r-o' , label = 'Validation Loss')\n",
    "ax[1].set_title('Testing Accuracy & Loss')\n",
    "ax[1].legend()\n",
    "ax[1].set_xlabel(\"Epochs\")\n",
    "ax[1].set_ylabel(\"Testing & Validation Loss\")\n",
    "ax[1].spines['bottom'].set_color('black')\n",
    "ax[1].spines['left'].set_color('black')\n",
    "ax[1].tick_params(axis='x', colors='black')\n",
    "ax[1].tick_params(axis='y', colors='black')\n",
    "ax[1].yaxis.label.set_color('black')\n",
    "ax[1].xaxis.label.set_color('black')\n",
    "# ax[1].set_facecolor()\n",
    "plt.savefig('fig', transparent=True, dpi=150)\n",
    "plt.show()"
   ]
  },
  {
   "cell_type": "code",
   "execution_count": 57,
   "metadata": {},
   "outputs": [],
   "source": [
    "# define funciton to plot confusion matrix\n",
    "def plot_confusion_matrix(model, X, Y, labels=['No Tumor', 'Tumor'],\\\n",
    "                          target_names=['No Tumor (Class 0)','Tumor Present (Class 1)'], filename='FSM'):\n",
    "    '''\n",
    "    This funciton takes the model (model), test data (X_test), and test classifications (Y_test) \n",
    "        and creates predictions from the existing model used to plot the confusion matrix.\n",
    "        \n",
    "    Parameters: \n",
    "        model (keras model): trained model used to make predictions of data\n",
    "        X (np.array): image data used to make model predictions\n",
    "        Y (np.array of ints): image classifications/ target used to determine accuracy of predictions\n",
    "        *kwargs\n",
    "    '''\n",
    "    \n",
    "    # get predictions\n",
    "    predictions = (model.predict(X) > 0.5).astype('int32')\n",
    "    print(classification_report(Y, predictions, target_names=target_names))\n",
    "    \n",
    "    #create confusion matrix\n",
    "    cm = confusion_matrix(Y, predictions)\n",
    "    print(cm)\n",
    "    \n",
    "    cm = pd.DataFrame(cm, index=['0', '1'], columns=['0', '1'])\n",
    "    \n",
    "    # plot confusion matrix\n",
    "    plt.figure(figsize=(10,10))\n",
    "    sns.heatmap(cm, cmap='Greys', linecolor='grey', linewidth=1, annot=True, fmt='', xticklabels=labels, yticklabels=labels)\n",
    "    plt.savefig(f'../report/figures/{filename}_confusion_matrix', dpi=150, transparent = True)"
   ]
  },
  {
   "cell_type": "code",
   "execution_count": 58,
   "metadata": {},
   "outputs": [
    {
     "name": "stdout",
     "output_type": "stream",
     "text": [
      "                         precision    recall  f1-score   support\n",
      "\n",
      "     No Tumor (Class 0)       0.56      0.39      0.46        85\n",
      "Tumor Present (Class 1)       0.89      0.94      0.91       429\n",
      "\n",
      "               accuracy                           0.85       514\n",
      "              macro avg       0.72      0.66      0.69       514\n",
      "           weighted avg       0.83      0.85      0.84       514\n",
      "\n",
      "[[ 33  52]\n",
      " [ 26 403]]\n"
     ]
    },
    {
     "data": {
      "image/png": "[encoded data removed]",
      "text/plain": [
       "<Figure size 720x720 with 2 Axes>"
      ]
     },
     "metadata": {},
     "output_type": "display_data"
    }
   ],
   "source": [
    "plot_confusion_matrix(fsm, x_test, y_test)"
   ]
  },
  {
   "cell_type": "markdown",
   "metadata": {},
   "source": [
    "# It's TIME for LIME"
   ]
  },
  {
   "cell_type": "markdown",
   "metadata": {},
   "source": [
    "## implement LIME (and other techniques) to interpret model performance"
   ]
  },
  {
   "cell_type": "code",
   "execution_count": 59,
   "metadata": {},
   "outputs": [
    {
     "data": {
      "text/plain": [
       "[0.0, 1.0, 2.0, 3.0, 4.0, 5.0, 6.0, 7.0, 8.0, 9.0, 10.0]"
      ]
     },
     "execution_count": 59,
     "metadata": {},
     "output_type": "execute_result"
    }
   ],
   "source": [
    "[i for i in np.linspace(0, 10, num=(11))]"
   ]
  },
  {
   "cell_type": "code",
   "execution_count": 60,
   "metadata": {},
   "outputs": [
    {
     "data": {
      "text/plain": [
       "[0, 1, 2, 3, 4, 5, 6, 7, 8, 9]"
      ]
     },
     "execution_count": 60,
     "metadata": {},
     "output_type": "execute_result"
    }
   ],
   "source": [
    "[i for i in range(10)]"
   ]
  },
  {
   "cell_type": "code",
   "execution_count": 61,
   "metadata": {},
   "outputs": [],
   "source": [
    "def fun_sqrt(number):\n",
    "    n = np.floor(np.sqrt(number))\n",
    "    n = n*(n+1)\n",
    "    \n",
    "    return n\n",
    "\n",
    "def fun_quad(number):\n",
    "    n = np.round(np.sqrt(number))\n",
    "    n = (n-1)*(n+1)\n",
    "    \n",
    "    return n"
   ]
  },
  {
   "cell_type": "code",
   "execution_count": 62,
   "metadata": {},
   "outputs": [],
   "source": [
    "x_max = 1000\n",
    "x = []\n",
    "sqrt_list = []\n",
    "quad_list = []\n",
    "\n",
    "\n",
    "for i in range(x_max):\n",
    "    x.append(i)\n",
    "    sqrt_list.append(fun_sqrt(i))\n",
    "    quad_list.append(fun_quad(i))\n"
   ]
  },
  {
   "cell_type": "code",
   "execution_count": 63,
   "metadata": {},
   "outputs": [],
   "source": [
    "plt.rcParams.update(plt.rcParamsDefault)"
   ]
  },
  {
   "cell_type": "markdown",
   "metadata": {},
   "source": [
    "BLUE FUNCTION: $ceil(\\sqrt{n})*floor(\\sqrt{n})$ <br>\n",
    "RED FUNCTION: $(round(\\sqrt{n})+1)*(round(\\sqrt{n})-1$"
   ]
  },
  {
   "cell_type": "code",
   "execution_count": 64,
   "metadata": {},
   "outputs": [
    {
     "data": {
      "image/png": "[encoded data removed]",
      "text/plain": [
       "<Figure size 2000x2000 with 1 Axes>"
      ]
     },
     "metadata": {},
     "output_type": "display_data"
    }
   ],
   "source": [
    "# plt.style.use('fivethirtyeight')\n",
    "plt.style.use('dark_background')\n",
    "\n",
    "figsize = (20, 20)\n",
    "fig, ax = plt.subplots(figsize=figsize)\n",
    "\n",
    "ax.plot(x, sqrt_list)\n",
    "ax.plot(x, quad_list)\n",
    "ax.legend([r'\\u221A', 'quad']);\n",
    "plt.savefig('fun_with_matplotlib', transparent=True, dpi=150)"
   ]
  },
  {
   "cell_type": "code",
   "execution_count": 65,
   "metadata": {},
   "outputs": [],
   "source": [
    "import math \n",
    "import lime.lime_image as li"
   ]
  },
  {
   "cell_type": "code",
   "execution_count": 66,
   "metadata": {},
   "outputs": [
    {
     "ename": "SyntaxError",
     "evalue": "invalid syntax (<ipython-input-66-62bddfbfb249>, line 21)",
     "output_type": "error",
     "traceback": [
      "\u001b[1;36m  File \u001b[1;32m\"<ipython-input-66-62bddfbfb249>\"\u001b[1;36m, line \u001b[1;32m21\u001b[0m\n\u001b[1;33m    rows =\u001b[0m\n\u001b[1;37m           ^\u001b[0m\n\u001b[1;31mSyntaxError\u001b[0m\u001b[1;31m:\u001b[0m invalid syntax\n"
     ]
    }
   ],
   "source": [
    "def lime_image(model, image, figsize=(15,15), min_superpixels=1, max_superpixels=10, positive_only=False, negative_only=False, \n",
    "               hide_rest=False, axis_off='off', subplot_titles=None, main_title='Different Features Analyzed by Model', save_fig=True, title='LIME'):\n",
    "    '''\n",
    "    This function uses LimeImageExplainer from lime.lime_image to create a visual of the inner workings\n",
    "        of the image processing neural network.\n",
    "    It does this by separating the image into various regions known as \"superpixels\" and judging performance\n",
    "        with and without these superpixels on the image.\n",
    "    \n",
    "    Inputs: model (keras sequantial model)\n",
    "            image (array, tensor) iamge to be analyzed\n",
    "            *kwargs\n",
    "    \n",
    "    Returns: subplots of image with masks of superpixels \n",
    "    '''\n",
    "    \n",
    "    # instantiate image explainer\n",
    "    explainer = li.LimeImageExplainer()\n",
    "    \n",
    "    # calculate shape of figure\n",
    "    columns = np.ceil((max_superpixels - min_superpixels)**0.5)\n",
    "    rows = \n",
    "    \n",
    "    # instantiate plot to populate with explained images\n",
    "    fig, ax = plt.subplots(rows, columns, figsize=figsize)\n",
    "\n",
    "    # loop through number of superpixels to be included\n",
    "    for i in range(min_superpixels, max_superpixels):\n",
    "\n",
    "        # create index for subplots\n",
    "        m = (i-min_superpixels) // rows\n",
    "        n = (i-min_superpixels) % columns\n",
    "\n",
    "        # explain prediciton with lime\n",
    "        explanation = explainer.explain_instance(image, model.predict, top_labels=5, hide_color=0, num_samples=1000)\n",
    "        temp, mask = explanation.get_image_and_mask(0, num_features=i, positive_only=positive_only, negative_only=negative_only, hide_rest=hide_rest)\n",
    "\n",
    "        # plot results\n",
    "        ax[m,n].imshow(mark_boundaries(temp/2 + 0.5, mask))\n",
    "        ax[m,n].axis(axis_off)\n",
    "        if not subplot_titles:\n",
    "            ax[m,n].set_title(f'# of Superpixels: {i}')            \n",
    "\n",
    "        else:\n",
    "            ax[m,n].set_title(subplot_titles)\n",
    "    fig.suptitle(main_title)\n",
    "    \n",
    "    if save_fig:\n",
    "        plt.savefig(f'../../{title}', transparent=True)\n"
   ]
  },
  {
   "cell_type": "code",
   "execution_count": null,
   "metadata": {},
   "outputs": [],
   "source": [
    "y_train[1000]"
   ]
  },
  {
   "cell_type": "code",
   "execution_count": null,
   "metadata": {},
   "outputs": [],
   "source": [
    "x_train[1000]"
   ]
  },
  {
   "cell_type": "code",
   "execution_count": null,
   "metadata": {},
   "outputs": [],
   "source": [
    "import skimage.segmentation\n",
    "from skimage.segmentation import mark_boundaries"
   ]
  },
  {
   "cell_type": "code",
   "execution_count": null,
   "metadata": {},
   "outputs": [],
   "source": [
    "y_train[1005]"
   ]
  },
  {
   "cell_type": "code",
   "execution_count": null,
   "metadata": {},
   "outputs": [],
   "source": [
    "plt.imshow(x_train[1006])\n",
    "plt.grid(b=None)\n",
    "plt.savefig('1006', transparent=True, dpi=150)"
   ]
  },
  {
   "cell_type": "code",
   "execution_count": null,
   "metadata": {},
   "outputs": [],
   "source": [
    "lime_image(fsm, x_train[1006], min_superpixels=0, max_superpixels=2, title='lime2' )"
   ]
  },
  {
   "cell_type": "code",
   "execution_count": null,
   "metadata": {},
   "outputs": [],
   "source": [
    "lime_image(fsm, x_train[1006], min_superpixels=0, max_superpixels=9 )"
   ]
  },
  {
   "cell_type": "code",
   "execution_count": null,
   "metadata": {},
   "outputs": [],
   "source": [
    "lime_image(fsm, x_train[1007], min_superpixels=0, max_superpixels=2, figsize=(25,10))"
   ]
  },
  {
   "cell_type": "markdown",
   "metadata": {},
   "source": [
    "# Get paths to image files \n",
    "## (updated)"
   ]
  },
  {
   "cell_type": "code",
   "execution_count": null,
   "metadata": {},
   "outputs": [],
   "source": []
  },
  {
   "cell_type": "code",
   "execution_count": 109,
   "metadata": {},
   "outputs": [],
   "source": [
    "# imports from kaggle example https://www.kaggle.com/kmader/show-3d-nifti-images\n",
    "# import numpy as np # linear algebra\n",
    "# import pandas as pd # data processing, CSV file I/O (e.g. pd.read_csv)\n",
    "# import os\n",
    "import skimage\n",
    "from skimage.morphology import ball, disk, dilation, binary_erosion, remove_small_objects, erosion, closing, reconstruction, binary_closing\n",
    "from skimage.measure import label,regionprops, perimeter\n",
    "from skimage.morphology import binary_dilation, binary_opening\n",
    "from skimage.filters import roberts, sobel\n",
    "from skimage import measure, feature\n",
    "from skimage.segmentation import clear_border\n",
    "from skimage import data\n",
    "from scipy import ndimage as ndi\n",
    "import matplotlib.pyplot as plt\n",
    "from mpl_toolkits.mplot3d.art3d import Poly3DCollection\n",
    "import scipy.misc\n",
    "from glob import glob\n",
    "from skimage.io import imread"
   ]
  },
  {
   "cell_type": "markdown",
   "metadata": {},
   "source": [
    "# Create .gif from fdata"
   ]
  },
  {
   "cell_type": "markdown",
   "metadata": {},
   "source": [
    "## Define Functions"
   ]
  },
  {
   "cell_type": "markdown",
   "metadata": {},
   "source": [
    "### Define function to create list of folder names within a given directory"
   ]
  },
  {
   "cell_type": "code",
   "execution_count": 110,
   "metadata": {},
   "outputs": [],
   "source": [
    "def get_dir_folders(directory):\n",
    "    '''\n",
    "    Input: list-like directory containing the folder names / file names within a given parent folder\n",
    "    Returns: list clean_directory containing only folder names within the parent folder\n",
    "    '''\n",
    "    # create list copy of directory\n",
    "    clean_directory = list(directory)\n",
    "    \n",
    "    # iterate through directory\n",
    "    for name in directory:\n",
    "        \n",
    "        # remove all names with file extensions\n",
    "        print('path: ', name)\n",
    "        \n",
    "        filename = name.split('/')[-1]\n",
    "        \n",
    "        if '.' in filename:\n",
    "            print(f'remove {name} from list')\n",
    "            directory.remove(name)\n",
    "            \n",
    "    return clean_directory\n",
    "            \n",
    "#         # remove all names with file extensions\n",
    "#         print('path: ', name)\n",
    "#         print('name[-4]', name[-4])\n",
    "#         if '.' == name[-4]:\n",
    "#             print(f'remove {name} from list')\n",
    "#             clean_directory.remove(name)\n",
    "            \n",
    "#         elif '.' in name[-6:]:\n",
    "#             print(f'remove {name} from list')\n",
    "#             clean_directory.remove(name)\n",
    "            \n",
    "#         elif 'txt' in name:\n",
    "#             print(f'remove {name} from list')\n",
    "#             clean_directory.remove(name)\n",
    "            \n",
    "#         elif 'tar' in name:\n",
    "#             print(f'remove {name} from list')\n",
    "#             clean_directory.remove(name)\n",
    "            \n"
   ]
  },
  {
   "cell_type": "markdown",
   "metadata": {},
   "source": [
    "### Define function to load image file(s) given folder path"
   ]
  },
  {
   "cell_type": "code",
   "execution_count": 111,
   "metadata": {},
   "outputs": [],
   "source": [
    "def get_img_paths(parent_folder, in_name='*'):\n",
    "    \n",
    "    return glob(os.path.join([folder for folder in image_folder if in_name in folder][0], '*'))\n"
   ]
  },
  {
   "cell_type": "markdown",
   "metadata": {},
   "source": [
    "### Define function to create .gif given image data"
   ]
  },
  {
   "cell_type": "code",
   "execution_count": 198,
   "metadata": {},
   "outputs": [],
   "source": [
    "# define function to create gif from image data\n",
    "def create_gif(input_image, title='Scan .gif', filename='scan.gif'):\n",
    "    # create .gif-like https://matplotlib.org/gallery/animation/dynamic_image2.html\n",
    "    import imageio\n",
    "    import matplotlib.animation as animate\n",
    "\n",
    "    images = []\n",
    "    input_image_data = input_image.get_fdata()\n",
    "\n",
    "    fig = plt.figure()\n",
    "\n",
    "    for i in range(len(input_image_data)):\n",
    "        im = plt.imshow(input_image_data[i], animated=True)\n",
    "        images.append([im])\n",
    "    \n",
    "    ani = animate.ArtistAnimation(fig, images, interval=25, blit=True, repeat_delay=500)\n",
    "    plt.title(title, fontsize=20)\n",
    "    ani.save(filename)\n",
    "    plt.show()"
   ]
  },
  {
   "cell_type": "markdown",
   "metadata": {},
   "source": [
    "## Load Brain Development Data Paths (Healthy Brains)"
   ]
  },
  {
   "cell_type": "code",
   "execution_count": 113,
   "metadata": {},
   "outputs": [],
   "source": [
    "# get paths to data\n",
    "# base path for data sourced from brain-development.org\n",
    "bd_base_path = os.path.join('D:\\MRI_data\\BrainDevelopmentOrg')\n"
   ]
  },
  {
   "cell_type": "code",
   "execution_count": 114,
   "metadata": {},
   "outputs": [],
   "source": [
    "bd_directory = glob(os.path.join(bd_base_path, '*'))"
   ]
  },
  {
   "cell_type": "code",
   "execution_count": 116,
   "metadata": {},
   "outputs": [
    {
     "name": "stdout",
     "output_type": "stream",
     "text": [
      "path:  D:\\MRI_data\\BrainDevelopmentOrg\\Demographics\n",
      "path:  D:\\MRI_data\\BrainDevelopmentOrg\\DTI_images\n",
      "path:  D:\\MRI_data\\BrainDevelopmentOrg\\IXI-MRA.tar\n",
      "remove D:\\MRI_data\\BrainDevelopmentOrg\\IXI-MRA.tar from list\n",
      "path:  D:\\MRI_data\\BrainDevelopmentOrg\\IXI-T1.tar\n",
      "remove D:\\MRI_data\\BrainDevelopmentOrg\\IXI-T1.tar from list\n",
      "path:  D:\\MRI_data\\BrainDevelopmentOrg\\MRA_images\n",
      "path:  D:\\MRI_data\\BrainDevelopmentOrg\\PD_images\n",
      "path:  D:\\MRI_data\\BrainDevelopmentOrg\\REAME_BrainDev.txt\n",
      "remove D:\\MRI_data\\BrainDevelopmentOrg\\REAME_BrainDev.txt from list\n",
      "path:  D:\\MRI_data\\BrainDevelopmentOrg\\T2_images\n"
     ]
    },
    {
     "data": {
      "text/plain": [
       "['D:\\\\MRI_data\\\\BrainDevelopmentOrg\\\\Demographics',\n",
       " 'D:\\\\MRI_data\\\\BrainDevelopmentOrg\\\\DTI_images',\n",
       " 'D:\\\\MRI_data\\\\BrainDevelopmentOrg\\\\IXI-MRA.tar',\n",
       " 'D:\\\\MRI_data\\\\BrainDevelopmentOrg\\\\IXI-PD.tar',\n",
       " 'D:\\\\MRI_data\\\\BrainDevelopmentOrg\\\\IXI-T1.tar',\n",
       " 'D:\\\\MRI_data\\\\BrainDevelopmentOrg\\\\IXI-T2.tar',\n",
       " 'D:\\\\MRI_data\\\\BrainDevelopmentOrg\\\\MRA_images',\n",
       " 'D:\\\\MRI_data\\\\BrainDevelopmentOrg\\\\PD_images',\n",
       " 'D:\\\\MRI_data\\\\BrainDevelopmentOrg\\\\REAME_BrainDev.txt',\n",
       " 'D:\\\\MRI_data\\\\BrainDevelopmentOrg\\\\T1_images',\n",
       " 'D:\\\\MRI_data\\\\BrainDevelopmentOrg\\\\T2_images']"
      ]
     },
     "execution_count": 116,
     "metadata": {},
     "output_type": "execute_result"
    }
   ],
   "source": [
    "# get list of all folders in directory\n",
    "# get copy of full directory\n",
    "bd_image_folders = get_dir_folders(bd_directory)\n",
    "bd_image_folders"
   ]
  },
  {
   "cell_type": "code",
   "execution_count": 117,
   "metadata": {},
   "outputs": [],
   "source": [
    "bd_image_folders = [folder for folder in bd_image_folders if 'image' in folder]\n",
    "bd_image_folders"
   ]
  },
  {
   "cell_type": "markdown",
   "metadata": {},
   "source": [
    "## Get Paths to Various Scan Types"
   ]
  },
  {
   "cell_type": "markdown",
   "metadata": {},
   "source": [
    "### Get T1 Path"
   ]
  },
  {
   "cell_type": "code",
   "execution_count": 119,
   "metadata": {},
   "outputs": [
    {
     "name": "stdout",
     "output_type": "stream",
     "text": [
      "581\n"
     ]
    },
    {
     "data": {
      "text/plain": [
       "['D:\\\\MRI_data\\\\BrainDevelopmentOrg\\\\T1_images\\\\IXI002-Guys-0828-T1.nii.gz',\n",
       " 'D:\\\\MRI_data\\\\BrainDevelopmentOrg\\\\T1_images\\\\IXI012-HH-1211-T1.nii.gz',\n",
       " 'D:\\\\MRI_data\\\\BrainDevelopmentOrg\\\\T1_images\\\\IXI013-HH-1212-T1.nii.gz',\n",
       " 'D:\\\\MRI_data\\\\BrainDevelopmentOrg\\\\T1_images\\\\IXI014-HH-1236-T1.nii.gz',\n",
       " 'D:\\\\MRI_data\\\\BrainDevelopmentOrg\\\\T1_images\\\\IXI015-HH-1258-T1.nii.gz']"
      ]
     },
     "execution_count": 119,
     "metadata": {},
     "output_type": "execute_result"
    }
   ],
   "source": [
    "bd_image_files_T1 = glob(os.path.join([folder for folder in bd_image_folders if 'T1_' in folder][0], '*'))\n",
    "print(len(bd_image_files_T1))\n",
    "bd_image_files_T1[:5]"
   ]
  },
  {
   "cell_type": "markdown",
   "metadata": {},
   "source": [
    "### Get T2 Path"
   ]
  },
  {
   "cell_type": "code",
   "execution_count": 120,
   "metadata": {},
   "outputs": [
    {
     "name": "stdout",
     "output_type": "stream",
     "text": [
      "578\n"
     ]
    },
    {
     "data": {
      "text/plain": [
       "['D:\\\\MRI_data\\\\BrainDevelopmentOrg\\\\T2_images\\\\IXI002-Guys-0828-T2.nii.gz',\n",
       " 'D:\\\\MRI_data\\\\BrainDevelopmentOrg\\\\T2_images\\\\IXI012-HH-1211-T2.nii.gz',\n",
       " 'D:\\\\MRI_data\\\\BrainDevelopmentOrg\\\\T2_images\\\\IXI013-HH-1212-T2.nii.gz',\n",
       " 'D:\\\\MRI_data\\\\BrainDevelopmentOrg\\\\T2_images\\\\IXI014-HH-1236-T2.nii.gz',\n",
       " 'D:\\\\MRI_data\\\\BrainDevelopmentOrg\\\\T2_images\\\\IXI015-HH-1258-T2.nii.gz']"
      ]
     },
     "execution_count": 120,
     "metadata": {},
     "output_type": "execute_result"
    }
   ],
   "source": [
    "bd_image_files_T2 = glob(os.path.join(str([folder for folder in bd_image_folders if 'T2_' in folder][0]), '*'))\n",
    "print(len(bd_image_files_T2))\n",
    "bd_image_files_T2[:5]"
   ]
  },
  {
   "cell_type": "markdown",
   "metadata": {},
   "source": [
    "### Get MRA Path"
   ]
  },
  {
   "cell_type": "code",
   "execution_count": 121,
   "metadata": {},
   "outputs": [
    {
     "name": "stdout",
     "output_type": "stream",
     "text": [
      "570\n"
     ]
    },
    {
     "data": {
      "text/plain": [
       "['D:\\\\MRI_data\\\\BrainDevelopmentOrg\\\\MRA_images\\\\IXI002-Guys-0828-MRA.nii.gz',\n",
       " 'D:\\\\MRI_data\\\\BrainDevelopmentOrg\\\\MRA_images\\\\IXI012-HH-1211-MRA.nii.gz',\n",
       " 'D:\\\\MRI_data\\\\BrainDevelopmentOrg\\\\MRA_images\\\\IXI013-HH-1212-MRA.nii.gz',\n",
       " 'D:\\\\MRI_data\\\\BrainDevelopmentOrg\\\\MRA_images\\\\IXI015-HH-1258-MRA.nii.gz',\n",
       " 'D:\\\\MRI_data\\\\BrainDevelopmentOrg\\\\MRA_images\\\\IXI016-Guys-0697-MRA.nii.gz']"
      ]
     },
     "execution_count": 121,
     "metadata": {},
     "output_type": "execute_result"
    }
   ],
   "source": [
    "bd_image_files_MRA = glob(os.path.join(str([folder for folder in bd_image_folders if 'MRA_' in folder][0]), '*'))\n",
    "print(len(bd_image_files_MRA))\n",
    "bd_image_files_MRA[:5]"
   ]
  },
  {
   "cell_type": "markdown",
   "metadata": {},
   "source": [
    "### Get PD Path"
   ]
  },
  {
   "cell_type": "code",
   "execution_count": 122,
   "metadata": {},
   "outputs": [
    {
     "name": "stdout",
     "output_type": "stream",
     "text": [
      "578\n"
     ]
    },
    {
     "data": {
      "text/plain": [
       "['D:\\\\MRI_data\\\\BrainDevelopmentOrg\\\\PD_images\\\\IXI002-Guys-0828-PD.nii.gz',\n",
       " 'D:\\\\MRI_data\\\\BrainDevelopmentOrg\\\\PD_images\\\\IXI012-HH-1211-PD.nii.gz',\n",
       " 'D:\\\\MRI_data\\\\BrainDevelopmentOrg\\\\PD_images\\\\IXI013-HH-1212-PD.nii.gz',\n",
       " 'D:\\\\MRI_data\\\\BrainDevelopmentOrg\\\\PD_images\\\\IXI014-HH-1236-PD.nii.gz',\n",
       " 'D:\\\\MRI_data\\\\BrainDevelopmentOrg\\\\PD_images\\\\IXI015-HH-1258-PD.nii.gz']"
      ]
     },
     "execution_count": 122,
     "metadata": {},
     "output_type": "execute_result"
    }
   ],
   "source": [
    "bd_image_files_PD = glob(os.path.join(str([folder for folder in bd_image_folders if 'PD_' in folder][0]), '*'))\n",
    "print(len(bd_image_files_PD))\n",
    "bd_image_files_PD[:5]"
   ]
  },
  {
   "cell_type": "markdown",
   "metadata": {},
   "source": [
    "## Load Image Data From File"
   ]
  },
  {
   "cell_type": "code",
   "execution_count": 123,
   "metadata": {},
   "outputs": [],
   "source": [
    "import nibabel as nib"
   ]
  },
  {
   "cell_type": "markdown",
   "metadata": {},
   "source": [
    "### Load a T1 Image"
   ]
  },
  {
   "cell_type": "code",
   "execution_count": 126,
   "metadata": {},
   "outputs": [
    {
     "data": {
      "text/plain": [
       "<nibabel.nifti1.Nifti1Image at 0x250d4c87520>"
      ]
     },
     "execution_count": 126,
     "metadata": {},
     "output_type": "execute_result"
    }
   ],
   "source": [
    "img_T1 = nib.load(bd_image_files_T1[17])\n",
    "img_T1"
   ]
  },
  {
   "cell_type": "code",
   "execution_count": 127,
   "metadata": {},
   "outputs": [
    {
     "data": {
      "text/plain": [
       "(256, 256, 150)"
      ]
     },
     "execution_count": 127,
     "metadata": {},
     "output_type": "execute_result"
    }
   ],
   "source": [
    "img_T1.get_fdata().shape"
   ]
  },
  {
   "cell_type": "markdown",
   "metadata": {},
   "source": [
    "### Load a T2 Image"
   ]
  },
  {
   "cell_type": "code",
   "execution_count": 26,
   "metadata": {},
   "outputs": [
    {
     "data": {
      "text/plain": [
       "<nibabel.nifti1.Nifti1Image at 0x23275def220>"
      ]
     },
     "execution_count": 26,
     "metadata": {},
     "output_type": "execute_result"
    }
   ],
   "source": [
    "# load specified image\n",
    "img_T2 = nib.load(bd_image_files_T2[17])\n",
    "img_T2"
   ]
  },
  {
   "cell_type": "code",
   "execution_count": 27,
   "metadata": {},
   "outputs": [
    {
     "data": {
      "text/plain": [
       "(256, 256, 130)"
      ]
     },
     "execution_count": 27,
     "metadata": {},
     "output_type": "execute_result"
    }
   ],
   "source": [
    "img_T2.shape"
   ]
  },
  {
   "cell_type": "code",
   "execution_count": 28,
   "metadata": {},
   "outputs": [
    {
     "data": {
      "text/plain": [
       "(256, 256, 130)"
      ]
     },
     "execution_count": 28,
     "metadata": {},
     "output_type": "execute_result"
    }
   ],
   "source": [
    "img_T2.get_fdata().shape"
   ]
  },
  {
   "cell_type": "code",
   "execution_count": 29,
   "metadata": {},
   "outputs": [
    {
     "data": {
      "text/plain": [
       "<matplotlib.image.AxesImage at 0x232787087f0>"
      ]
     },
     "execution_count": 29,
     "metadata": {},
     "output_type": "execute_result"
    },
    {
     "data": {
      "image/png": "[encoded data removed]",
      "text/plain": [
       "<Figure size 432x288 with 1 Axes>"
      ]
     },
     "metadata": {
      "needs_background": "light"
     },
     "output_type": "display_data"
    }
   ],
   "source": [
    "T2_image = img_T2.get_fdata()\n",
    "# test_mask = \n",
    "fig, ax = plt.subplots()\n",
    "ax.imshow(T2_image[80]//2)"
   ]
  },
  {
   "cell_type": "markdown",
   "metadata": {},
   "source": [
    "### Load an MRA image"
   ]
  },
  {
   "cell_type": "code",
   "execution_count": 125,
   "metadata": {},
   "outputs": [
    {
     "data": {
      "text/plain": [
       "<nibabel.nifti1.Nifti1Image at 0x250d4c87430>"
      ]
     },
     "execution_count": 125,
     "metadata": {},
     "output_type": "execute_result"
    }
   ],
   "source": [
    "img_MRA = nib.load(bd_image_files_MRA[17])\n",
    "img_MRA"
   ]
  },
  {
   "cell_type": "code",
   "execution_count": 31,
   "metadata": {},
   "outputs": [
    {
     "data": {
      "text/plain": [
       "(512, 512, 100)"
      ]
     },
     "execution_count": 31,
     "metadata": {},
     "output_type": "execute_result"
    }
   ],
   "source": [
    "img_MRA.get_fdata().shape"
   ]
  },
  {
   "cell_type": "markdown",
   "metadata": {},
   "source": [
    "### Load a PD IMAGE"
   ]
  },
  {
   "cell_type": "code",
   "execution_count": 32,
   "metadata": {},
   "outputs": [
    {
     "data": {
      "text/plain": [
       "<nibabel.nifti1.Nifti1Image at 0x232787316a0>"
      ]
     },
     "execution_count": 32,
     "metadata": {},
     "output_type": "execute_result"
    }
   ],
   "source": [
    "img_PD = nib.load(bd_image_files_PD[17])\n",
    "img_PD"
   ]
  },
  {
   "cell_type": "code",
   "execution_count": 34,
   "metadata": {},
   "outputs": [
    {
     "data": {
      "text/plain": [
       "(256, 256, 130)"
      ]
     },
     "execution_count": 34,
     "metadata": {},
     "output_type": "execute_result"
    }
   ],
   "source": [
    "img_PD.get_fdata().shape"
   ]
  },
  {
   "cell_type": "markdown",
   "metadata": {},
   "source": [
    "## Create Images for EDA/ understanding Data"
   ]
  },
  {
   "cell_type": "markdown",
   "metadata": {},
   "source": [
    "#### Create T1 image"
   ]
  },
  {
   "cell_type": "code",
   "execution_count": 199,
   "metadata": {},
   "outputs": [
    {
     "ename": "TypeError",
     "evalue": "cannot unpack non-iterable Figure object",
     "output_type": "error",
     "traceback": [
      "\u001b[1;31m---------------------------------------------------------------------------\u001b[0m",
      "\u001b[1;31mTypeError\u001b[0m                                 Traceback (most recent call last)",
      "\u001b[1;32m<ipython-input-199-3f78f56d459b>\u001b[0m in \u001b[0;36m<module>\u001b[1;34m\u001b[0m\n\u001b[1;32m----> 1\u001b[1;33m \u001b[0mcreate_gif\u001b[0m\u001b[1;33m(\u001b[0m\u001b[0mnib\u001b[0m\u001b[1;33m.\u001b[0m\u001b[0mload\u001b[0m\u001b[1;33m(\u001b[0m\u001b[0mbd_image_files_T1\u001b[0m\u001b[1;33m[\u001b[0m\u001b[1;36m0\u001b[0m\u001b[1;33m]\u001b[0m\u001b[1;33m)\u001b[0m\u001b[1;33m,\u001b[0m \u001b[0mtitle\u001b[0m\u001b[1;33m=\u001b[0m\u001b[1;34m\"T1 Scan .gif\"\u001b[0m\u001b[1;33m,\u001b[0m \u001b[0mfilename\u001b[0m\u001b[1;33m=\u001b[0m\u001b[1;34m\"T1_MRI.gif\"\u001b[0m\u001b[1;33m)\u001b[0m\u001b[1;33m\u001b[0m\u001b[1;33m\u001b[0m\u001b[0m\n\u001b[0m",
      "\u001b[1;32m<ipython-input-198-d5907db6a480>\u001b[0m in \u001b[0;36mcreate_gif\u001b[1;34m(input_image, title, filename)\u001b[0m\n\u001b[0;32m      8\u001b[0m     \u001b[0minput_image_data\u001b[0m \u001b[1;33m=\u001b[0m \u001b[0minput_image\u001b[0m\u001b[1;33m.\u001b[0m\u001b[0mget_fdata\u001b[0m\u001b[1;33m(\u001b[0m\u001b[1;33m)\u001b[0m\u001b[1;33m\u001b[0m\u001b[1;33m\u001b[0m\u001b[0m\n\u001b[0;32m      9\u001b[0m \u001b[1;33m\u001b[0m\u001b[0m\n\u001b[1;32m---> 10\u001b[1;33m     \u001b[0mfig\u001b[0m\u001b[1;33m,\u001b[0m \u001b[0max\u001b[0m \u001b[1;33m=\u001b[0m \u001b[0mplt\u001b[0m\u001b[1;33m.\u001b[0m\u001b[0mfigure\u001b[0m\u001b[1;33m(\u001b[0m\u001b[1;33m)\u001b[0m\u001b[1;33m\u001b[0m\u001b[1;33m\u001b[0m\u001b[0m\n\u001b[0m\u001b[0;32m     11\u001b[0m \u001b[1;33m\u001b[0m\u001b[0m\n\u001b[0;32m     12\u001b[0m     \u001b[1;32mfor\u001b[0m \u001b[0mi\u001b[0m \u001b[1;32min\u001b[0m \u001b[0mrange\u001b[0m\u001b[1;33m(\u001b[0m\u001b[0mlen\u001b[0m\u001b[1;33m(\u001b[0m\u001b[0minput_image_data\u001b[0m\u001b[1;33m)\u001b[0m\u001b[1;33m)\u001b[0m\u001b[1;33m:\u001b[0m\u001b[1;33m\u001b[0m\u001b[1;33m\u001b[0m\u001b[0m\n",
      "\u001b[1;31mTypeError\u001b[0m: cannot unpack non-iterable Figure object"
     ]
    },
    {
     "data": {
      "text/plain": [
       "<Figure size 640x480 with 0 Axes>"
      ]
     },
     "metadata": {},
     "output_type": "display_data"
    }
   ],
   "source": [
    "create_gif(nib.load(bd_image_files_T1[0]), title=\"T1 Scan .gif\", filename=\"T1_MRI.gif\")"
   ]
  },
  {
   "cell_type": "code",
   "execution_count": 36,
   "metadata": {},
   "outputs": [
    {
     "name": "stderr",
     "output_type": "stream",
     "text": [
      "MovieWriter ffmpeg unavailable; using Pillow instead.\n"
     ]
    },
    {
     "data": {
      "image/png": "[encoded data removed]",
      "text/plain": [
       "<Figure size 432x288 with 1 Axes>"
      ]
     },
     "metadata": {
      "needs_background": "light"
     },
     "output_type": "display_data"
    }
   ],
   "source": [
    "create_gif(img_T2, title='T2 Scan .gif', filename='T2_MRI.gif')"
   ]
  },
  {
   "cell_type": "code",
   "execution_count": 32,
   "metadata": {},
   "outputs": [
    {
     "name": "stderr",
     "output_type": "stream",
     "text": [
      "MovieWriter ffmpeg unavailable; using Pillow instead.\n"
     ]
    },
    {
     "data": {
      "image/png": "[encoded data removed]",
      "text/plain": [
       "<Figure size 432x288 with 1 Axes>"
      ]
     },
     "metadata": {
      "needs_background": "light"
     },
     "output_type": "display_data"
    }
   ],
   "source": [
    "create_gif(img_MRA, title='MRA Scan .gif', filename='MRA_MRI.gif')"
   ]
  },
  {
   "cell_type": "code",
   "execution_count": 36,
   "metadata": {},
   "outputs": [
    {
     "name": "stderr",
     "output_type": "stream",
     "text": [
      "MovieWriter ffmpeg unavailable; using Pillow instead.\n"
     ]
    },
    {
     "data": {
      "image/png": "[encoded data removed]",
      "text/plain": [
       "<Figure size 432x288 with 1 Axes>"
      ]
     },
     "metadata": {
      "needs_background": "light"
     },
     "output_type": "display_data"
    }
   ],
   "source": [
    "create_gif(img_PD, title='PD Scan .gif', filename='PD_MRI.gif')"
   ]
  },
  {
   "cell_type": "code",
   "execution_count": null,
   "metadata": {},
   "outputs": [],
   "source": []
  },
  {
   "cell_type": "code",
   "execution_count": null,
   "metadata": {},
   "outputs": [],
   "source": []
  }
 ],
 "metadata": {
  "kernelspec": {
   "display_name": "Python 3",
   "language": "python",
   "name": "python3"
  },
  "language_info": {
   "codemirror_mode": {
    "name": "ipython",
    "version": 3
   },
   "file_extension": ".py",
   "mimetype": "text/x-python",
   "name": "python",
   "nbconvert_exporter": "python",
   "pygments_lexer": "ipython3",
   "version": "3.8.2"
  }
 },
 "nbformat": 4,
 "nbformat_minor": 4
}
