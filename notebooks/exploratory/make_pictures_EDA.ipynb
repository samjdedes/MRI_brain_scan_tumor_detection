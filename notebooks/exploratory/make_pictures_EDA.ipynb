{
 "cells": [
  {
   "cell_type": "raw",
   "metadata": {},
   "source": [
    "# import custom functions\n",
    "import sys\n",
    "sys.path.append('../../src')\n",
    "# CNN Class and methods\n",
    "from model_utils import *\n",
    "from data_functions import *"
   ]
  },
  {
   "cell_type": "code",
   "execution_count": 1,
   "metadata": {},
   "outputs": [],
   "source": [
    "# imports for exploratory dataframe manipulation\n",
    "import numpy as np\n",
    "import pandas as pd\n",
    "import matplotlib.pyplot as plt\n",
    "# imports for exploratory data analysis\n",
    "from sklearn.linear_model import LinearRegression, LogisticRegression"
   ]
  },
  {
   "cell_type": "code",
   "execution_count": 2,
   "metadata": {},
   "outputs": [],
   "source": [
    "import os\n",
    "import cv2\n",
    "from sklearn.model_selection import train_test_split"
   ]
  },
  {
   "cell_type": "code",
   "execution_count": 3,
   "metadata": {},
   "outputs": [],
   "source": [
    "def get_img_paths(base_dir, ignore_filetypes=['.txt', '.cpp', '.gif']):\n",
    "    \"\"\"\n",
    "    Inputs:\n",
    "        base_dir (string/ os.path type) relative path to the directory with folders containing images\n",
    "        *kwargs\n",
    "        ignore_filetypes (list of strings) filetypes to exclude from output\n",
    "        type_foldes (dictionary) folders that identify different filetypes and add identifiers to add to output\n",
    "    Returns:\n",
    "        paths (list of tuples) relative paths to files with identifiers\n",
    "    \"\"\"\n",
    "    absent_paths = []\n",
    "    present_paths = []\n",
    "\n",
    "    for root, dirs, files in os.walk(base_dir):\n",
    "        #not removing undesired files\n",
    "#         # remove undesired files\n",
    "#         for file in files:\n",
    "#             for file_type in ignore_filetypes:\n",
    "#                 if file_type == file[-4:]:\n",
    "#                     files.remove(file)\n",
    "                    \n",
    "        if files:\n",
    "        \n",
    "            for file in files:\n",
    "                full_path = os.path.join(root, file)\n",
    "                \n",
    "                if 'NO' in full_path:\n",
    "                    absent_paths.append((full_path, 0))\n",
    "\n",
    "                elif 'YES' in full_path:\n",
    "                    present_paths.append((full_path, 1))\n",
    "\n",
    "    #         if type_folders:\n",
    "    #             for key, value in type_folders.items():\n",
    "    #                 if key in root:\n",
    "\n",
    "    #         print('root: ', root)\n",
    "    #         print('files: ', files[:5], len(files))\n",
    "    #         print('paths: ', paths)\n",
    "#     absent_paths.extend(present_paths)\n",
    "    return absent_paths, present_paths"
   ]
  },
  {
   "cell_type": "code",
   "execution_count": 4,
   "metadata": {},
   "outputs": [],
   "source": [
    "def get_data(input_data, img_size=150):\n",
    "    \"\"\"\n",
    "    This function takes an image type and classification with matching index and returns  image data with classification\n",
    "\n",
    "    Input:\n",
    "        input_data (list of tuples) paths leading to image data to be loaded and classification\n",
    "\n",
    "    Returns:\n",
    "        data (np.array) image data with classification\n",
    "    \"\"\"\n",
    "\n",
    "    data = []\n",
    "\n",
    "    for i in range(len(input_data)):\n",
    "        path = input_data[i][0]\n",
    "        class_num = input_data[i][1]\n",
    "\n",
    "        #         for img in os.listdir(path):\n",
    "\n",
    "        try:\n",
    "            img_arr = cv2.imread(path)\n",
    "            resized_arr = cv2.resize(img_arr, (img_size, img_size))  # Reshaping images to preferred size\n",
    "            data.append([resized_arr, class_num, path])\n",
    "\n",
    "        except Exception as e:\n",
    "            print(f'{e} on path {path}')\n",
    "\n",
    "    return np.array(data)"
   ]
  },
  {
   "cell_type": "markdown",
   "metadata": {},
   "source": [
    "## Use pillow to compare images"
   ]
  },
  {
   "cell_type": "markdown",
   "metadata": {},
   "source": [
    "## Remove Duplicate Images"
   ]
  },
  {
   "cell_type": "code",
   "execution_count": 7,
   "metadata": {},
   "outputs": [],
   "source": [
    "def remove_duplicates(data):\n",
    "    '''\n",
    "    function takes a list of entries and returns a list of all unique entries\n",
    "    '''\n",
    "\n",
    "    unique_list = []\n",
    "    duplicate_list = []\n",
    "    # loop through original images\n",
    "    for image in data:\n",
    "        img = image[0]\n",
    "        \n",
    "        is_unique = True\n",
    "        \n",
    "        # loop through new list\n",
    "        for unique_image in unique_list:\n",
    "            unique_img = unique_image[0]\n",
    "            \n",
    "            # check existing entries to new entry\n",
    "            if (img == unique_img).all():\n",
    "                is_unique = False\n",
    "                print(f'duplicate found:{img[0][25:26]} and {unique_img[0][25:26]}')\n",
    "                break\n",
    "                \n",
    "        # add to unique list if unique\n",
    "        if is_unique:\n",
    "            unique_list.append(image)\n",
    "#             print('appended')\n",
    "        \n",
    "        else:\n",
    "            duplicate_list.append(image)\n",
    "            \n",
    "    return np.array(unique_list), np.array(duplicate_list)"
   ]
  },
  {
   "cell_type": "markdown",
   "metadata": {},
   "source": [
    "# Get paths to additional image files \n",
    "## (updated)"
   ]
  },
  {
   "cell_type": "code",
   "execution_count": 8,
   "metadata": {},
   "outputs": [],
   "source": [
    "# imports from kaggle example https://www.kaggle.com/kmader/show-3d-nifti-images\n",
    "# import numpy as np # linear algebra\n",
    "# import pandas as pd # data processing, CSV file I/O (e.g. pd.read_csv)\n",
    "# import os\n",
    "import skimage\n",
    "from skimage.morphology import ball, disk, dilation, binary_erosion, remove_small_objects, erosion, closing, reconstruction, binary_closing, binary_dilation, binary_opening\n",
    "from skimage.measure import label,regionprops, perimeter\n",
    "from skimage.filters import roberts, sobel\n",
    "from skimage import measure, feature\n",
    "from skimage.segmentation import clear_border\n",
    "from skimage import data\n",
    "from scipy import ndimage as ndi\n",
    "import matplotlib.pyplot as plt\n",
    "from mpl_toolkits.mplot3d.art3d import Poly3DCollection\n",
    "import scipy.misc\n",
    "from glob import glob\n",
    "from skimage.io import imread"
   ]
  },
  {
   "cell_type": "markdown",
   "metadata": {},
   "source": [
    "# Create .gif from fdata"
   ]
  },
  {
   "cell_type": "markdown",
   "metadata": {},
   "source": [
    "## Define Functions"
   ]
  },
  {
   "cell_type": "markdown",
   "metadata": {},
   "source": [
    "### Define function to create list of folder names within a given directory"
   ]
  },
  {
   "cell_type": "code",
   "execution_count": 9,
   "metadata": {},
   "outputs": [],
   "source": [
    "def get_dir_folders(directory):\n",
    "    '''\n",
    "    Input: list-like directory containing the folder names / file names within a given parent folder\n",
    "    Returns: list clean_directory containing only folder names within the parent folder\n",
    "    '''\n",
    "    # create list copy of directory\n",
    "    clean_directory = list(directory)\n",
    "    \n",
    "    # iterate through directory\n",
    "    for name in directory:\n",
    "        \n",
    "        # remove all names with file extensions\n",
    "        print('path: ', name)\n",
    "        \n",
    "        filename = name.split('/')[-1]\n",
    "        \n",
    "        if '.' in filename:\n",
    "            print(f'remove {name} from list')\n",
    "            directory.remove(name)\n",
    "            \n",
    "    return clean_directory\n",
    "            \n",
    "#         # remove all names with file extensions\n",
    "#         print('path: ', name)\n",
    "#         print('name[-4]', name[-4])\n",
    "#         if '.' == name[-4]:\n",
    "#             print(f'remove {name} from list')\n",
    "#             clean_directory.remove(name)\n",
    "            \n",
    "#         elif '.' in name[-6:]:\n",
    "#             print(f'remove {name} from list')\n",
    "#             clean_directory.remove(name)\n",
    "            \n",
    "#         elif 'txt' in name:\n",
    "#             print(f'remove {name} from list')\n",
    "#             clean_directory.remove(name)\n",
    "            \n",
    "#         elif 'tar' in name:\n",
    "#             print(f'remove {name} from list')\n",
    "#             clean_directory.remove(name)\n",
    "            \n"
   ]
  },
  {
   "cell_type": "markdown",
   "metadata": {},
   "source": [
    "### Define function to load image file(s) given folder path"
   ]
  },
  {
   "cell_type": "code",
   "execution_count": 10,
   "metadata": {},
   "outputs": [],
   "source": [
    "# def get_gz_img_paths(parent_folder, in_name='*'):\n",
    "\n",
    "#     return glob(os.path.join([folder for folder in image_folder if in_name in folder][0], '*'))\n"
   ]
  },
  {
   "cell_type": "markdown",
   "metadata": {},
   "source": [
    "### Define function to create .gif given image data"
   ]
  },
  {
   "cell_type": "code",
   "execution_count": 11,
   "metadata": {},
   "outputs": [],
   "source": [
    "# define function to create gif from image data\n",
    "def create_gif(input_image, title='Scan .gif', filename='scan.gif'):\n",
    "    # create .gif-like https://matplotlib.org/gallery/animation/dynamic_image2.html\n",
    "    import imageio\n",
    "    import matplotlib.animation as animate\n",
    "\n",
    "    images = []\n",
    "    input_image_data = input_image.get_fdata()\n",
    "\n",
    "    fig = plt.figure()\n",
    "\n",
    "    for i in range(len(input_image_data)):\n",
    "        im = plt.imshow(input_image_data[i], animated=True)\n",
    "        images.append([im])\n",
    "    \n",
    "    ani = animate.ArtistAnimation(fig, images, interval=25, blit=True, repeat_delay=500)\n",
    "    plt.title(title, fontsize=20)\n",
    "    ani.save(filename)\n",
    "    plt.show()"
   ]
  },
  {
   "cell_type": "markdown",
   "metadata": {},
   "source": [
    "## Load Brain Development Data Paths (Healthy Brains)"
   ]
  },
  {
   "cell_type": "code",
   "execution_count": 12,
   "metadata": {},
   "outputs": [],
   "source": [
    "# get paths to data\n",
    "# base path for data sourced from brain-development.org\n",
    "bd_base_path = os.path.join('D:\\MRI_data\\BrainDevelopmentOrg')\n"
   ]
  },
  {
   "cell_type": "code",
   "execution_count": 13,
   "metadata": {},
   "outputs": [],
   "source": [
    "bd_directory = glob(os.path.join(bd_base_path, '*'))"
   ]
  },
  {
   "cell_type": "code",
   "execution_count": 14,
   "metadata": {},
   "outputs": [
    {
     "name": "stdout",
     "output_type": "stream",
     "text": [
      "path:  D:\\MRI_data\\BrainDevelopmentOrg\\Demographics\n",
      "path:  D:\\MRI_data\\BrainDevelopmentOrg\\DTI_images\n",
      "path:  D:\\MRI_data\\BrainDevelopmentOrg\\IXI-MRA.tar\n",
      "remove D:\\MRI_data\\BrainDevelopmentOrg\\IXI-MRA.tar from list\n",
      "path:  D:\\MRI_data\\BrainDevelopmentOrg\\IXI-T1.tar\n",
      "remove D:\\MRI_data\\BrainDevelopmentOrg\\IXI-T1.tar from list\n",
      "path:  D:\\MRI_data\\BrainDevelopmentOrg\\MRA_images\n",
      "path:  D:\\MRI_data\\BrainDevelopmentOrg\\PD_images\n",
      "path:  D:\\MRI_data\\BrainDevelopmentOrg\\REAME_BrainDev.txt\n",
      "remove D:\\MRI_data\\BrainDevelopmentOrg\\REAME_BrainDev.txt from list\n",
      "path:  D:\\MRI_data\\BrainDevelopmentOrg\\T2_images\n"
     ]
    },
    {
     "data": {
      "text/plain": [
       "['D:\\\\MRI_data\\\\BrainDevelopmentOrg\\\\Demographics',\n",
       " 'D:\\\\MRI_data\\\\BrainDevelopmentOrg\\\\DTI_images',\n",
       " 'D:\\\\MRI_data\\\\BrainDevelopmentOrg\\\\IXI-MRA.tar',\n",
       " 'D:\\\\MRI_data\\\\BrainDevelopmentOrg\\\\IXI-PD.tar',\n",
       " 'D:\\\\MRI_data\\\\BrainDevelopmentOrg\\\\IXI-T1.tar',\n",
       " 'D:\\\\MRI_data\\\\BrainDevelopmentOrg\\\\IXI-T2.tar',\n",
       " 'D:\\\\MRI_data\\\\BrainDevelopmentOrg\\\\MRA_images',\n",
       " 'D:\\\\MRI_data\\\\BrainDevelopmentOrg\\\\PD_images',\n",
       " 'D:\\\\MRI_data\\\\BrainDevelopmentOrg\\\\REAME_BrainDev.txt',\n",
       " 'D:\\\\MRI_data\\\\BrainDevelopmentOrg\\\\T1_images',\n",
       " 'D:\\\\MRI_data\\\\BrainDevelopmentOrg\\\\T2_images']"
      ]
     },
     "execution_count": 14,
     "metadata": {},
     "output_type": "execute_result"
    }
   ],
   "source": [
    "# get list of all folders in directory\n",
    "# get copy of full directory\n",
    "bd_image_folders = get_dir_folders(bd_directory)\n",
    "bd_image_folders"
   ]
  },
  {
   "cell_type": "code",
   "execution_count": 15,
   "metadata": {},
   "outputs": [
    {
     "data": {
      "text/plain": [
       "['D:\\\\MRI_data\\\\BrainDevelopmentOrg\\\\DTI_images',\n",
       " 'D:\\\\MRI_data\\\\BrainDevelopmentOrg\\\\MRA_images',\n",
       " 'D:\\\\MRI_data\\\\BrainDevelopmentOrg\\\\PD_images',\n",
       " 'D:\\\\MRI_data\\\\BrainDevelopmentOrg\\\\T1_images',\n",
       " 'D:\\\\MRI_data\\\\BrainDevelopmentOrg\\\\T2_images']"
      ]
     },
     "execution_count": 15,
     "metadata": {},
     "output_type": "execute_result"
    }
   ],
   "source": [
    "bd_image_folders = [folder for folder in bd_image_folders if 'image' in folder]\n",
    "bd_image_folders"
   ]
  },
  {
   "cell_type": "markdown",
   "metadata": {},
   "source": [
    "## Get Paths to Various Scan Types"
   ]
  },
  {
   "cell_type": "markdown",
   "metadata": {},
   "source": [
    "### Get T1 Path"
   ]
  },
  {
   "cell_type": "code",
   "execution_count": 16,
   "metadata": {},
   "outputs": [
    {
     "name": "stdout",
     "output_type": "stream",
     "text": [
      "582\n"
     ]
    },
    {
     "data": {
      "text/plain": [
       "['D:\\\\MRI_data\\\\BrainDevelopmentOrg\\\\T1_images\\\\IXI002-Guys-0828-T1.nii.gz',\n",
       " 'D:\\\\MRI_data\\\\BrainDevelopmentOrg\\\\T1_images\\\\IXI012-HH-1211-T1.nii.gz',\n",
       " 'D:\\\\MRI_data\\\\BrainDevelopmentOrg\\\\T1_images\\\\IXI013-HH-1212-T1.nii.gz',\n",
       " 'D:\\\\MRI_data\\\\BrainDevelopmentOrg\\\\T1_images\\\\IXI014-HH-1236-T1.nii.gz',\n",
       " 'D:\\\\MRI_data\\\\BrainDevelopmentOrg\\\\T1_images\\\\IXI015-HH-1258-T1.nii.gz']"
      ]
     },
     "execution_count": 16,
     "metadata": {},
     "output_type": "execute_result"
    }
   ],
   "source": [
    "bd_image_files_T1 = glob(os.path.join([folder for folder in bd_image_folders if 'T1_im' in folder][0], '*'))\n",
    "print(len(bd_image_files_T1))\n",
    "bd_image_files_T1[:5]"
   ]
  },
  {
   "cell_type": "code",
   "execution_count": 63,
   "metadata": {},
   "outputs": [],
   "source": [
    "# use regular expressions\n",
    "# import\n",
    "import re"
   ]
  },
  {
   "cell_type": "code",
   "execution_count": 72,
   "metadata": {},
   "outputs": [
    {
     "data": {
      "text/plain": [
       "['IXI002-Guys-0828']"
      ]
     },
     "execution_count": 72,
     "metadata": {},
     "output_type": "execute_result"
    }
   ],
   "source": [
    "pattern = r'\\w+\\d+\\-\\w+\\-\\d+'\n",
    "re.findall(pattern, bd_image_files_T1[0])"
   ]
  },
  {
   "cell_type": "code",
   "execution_count": 73,
   "metadata": {},
   "outputs": [
    {
     "data": {
      "text/plain": [
       "['IXI012-HH-1211']"
      ]
     },
     "execution_count": 73,
     "metadata": {},
     "output_type": "execute_result"
    }
   ],
   "source": [
    "pattern = r'\\w+\\d+\\-\\w+\\-\\d+'\n",
    "re.findall(pattern, bd_image_files_T1[1])"
   ]
  },
  {
   "cell_type": "code",
   "execution_count": null,
   "metadata": {},
   "outputs": [],
   "source": [
    "fig, ax = plt.subplots()\n",
    "ax.imshow(T1[80][256:106:-1], cmap='Greys_r')\n",
    "ax.axis('off')\n",
    "plt.savefig('figures/test.jpg')"
   ]
  },
  {
   "cell_type": "markdown",
   "metadata": {},
   "source": [
    "### Get T2 Path"
   ]
  },
  {
   "cell_type": "code",
   "execution_count": 17,
   "metadata": {},
   "outputs": [
    {
     "name": "stdout",
     "output_type": "stream",
     "text": [
      "579\n"
     ]
    },
    {
     "data": {
      "text/plain": [
       "['D:\\\\MRI_data\\\\BrainDevelopmentOrg\\\\T2_images\\\\IXI002-Guys-0828-T2.nii.gz',\n",
       " 'D:\\\\MRI_data\\\\BrainDevelopmentOrg\\\\T2_images\\\\IXI012-HH-1211-T2.nii.gz',\n",
       " 'D:\\\\MRI_data\\\\BrainDevelopmentOrg\\\\T2_images\\\\IXI013-HH-1212-T2.nii.gz',\n",
       " 'D:\\\\MRI_data\\\\BrainDevelopmentOrg\\\\T2_images\\\\IXI014-HH-1236-T2.nii.gz',\n",
       " 'D:\\\\MRI_data\\\\BrainDevelopmentOrg\\\\T2_images\\\\IXI015-HH-1258-T2.nii.gz']"
      ]
     },
     "execution_count": 17,
     "metadata": {},
     "output_type": "execute_result"
    }
   ],
   "source": [
    "bd_image_files_T2 = glob(os.path.join(str([folder for folder in bd_image_folders if 'T2_im' in folder][0]), '*'))\n",
    "print(len(bd_image_files_T2))\n",
    "bd_image_files_T2[:5]"
   ]
  },
  {
   "cell_type": "markdown",
   "metadata": {},
   "source": [
    "### Get MRA Path"
   ]
  },
  {
   "cell_type": "code",
   "execution_count": 18,
   "metadata": {},
   "outputs": [
    {
     "name": "stdout",
     "output_type": "stream",
     "text": [
      "571\n"
     ]
    },
    {
     "data": {
      "text/plain": [
       "['D:\\\\MRI_data\\\\BrainDevelopmentOrg\\\\MRA_images\\\\IXI002-Guys-0828-MRA.nii.gz',\n",
       " 'D:\\\\MRI_data\\\\BrainDevelopmentOrg\\\\MRA_images\\\\IXI012-HH-1211-MRA.nii.gz',\n",
       " 'D:\\\\MRI_data\\\\BrainDevelopmentOrg\\\\MRA_images\\\\IXI013-HH-1212-MRA.nii.gz',\n",
       " 'D:\\\\MRI_data\\\\BrainDevelopmentOrg\\\\MRA_images\\\\IXI015-HH-1258-MRA.nii.gz',\n",
       " 'D:\\\\MRI_data\\\\BrainDevelopmentOrg\\\\MRA_images\\\\IXI016-Guys-0697-MRA.nii.gz']"
      ]
     },
     "execution_count": 18,
     "metadata": {},
     "output_type": "execute_result"
    }
   ],
   "source": [
    "bd_image_files_MRA = glob(os.path.join(str([folder for folder in bd_image_folders if 'MRA_im' in folder][0]), '*'))\n",
    "print(len(bd_image_files_MRA))\n",
    "bd_image_files_MRA[:5]"
   ]
  },
  {
   "cell_type": "markdown",
   "metadata": {},
   "source": [
    "### Get PD Path"
   ]
  },
  {
   "cell_type": "code",
   "execution_count": 19,
   "metadata": {},
   "outputs": [
    {
     "name": "stdout",
     "output_type": "stream",
     "text": [
      "579\n"
     ]
    },
    {
     "data": {
      "text/plain": [
       "['D:\\\\MRI_data\\\\BrainDevelopmentOrg\\\\PD_images\\\\IXI002-Guys-0828-PD.nii.gz',\n",
       " 'D:\\\\MRI_data\\\\BrainDevelopmentOrg\\\\PD_images\\\\IXI012-HH-1211-PD.nii.gz',\n",
       " 'D:\\\\MRI_data\\\\BrainDevelopmentOrg\\\\PD_images\\\\IXI013-HH-1212-PD.nii.gz',\n",
       " 'D:\\\\MRI_data\\\\BrainDevelopmentOrg\\\\PD_images\\\\IXI014-HH-1236-PD.nii.gz',\n",
       " 'D:\\\\MRI_data\\\\BrainDevelopmentOrg\\\\PD_images\\\\IXI015-HH-1258-PD.nii.gz']"
      ]
     },
     "execution_count": 19,
     "metadata": {},
     "output_type": "execute_result"
    }
   ],
   "source": [
    "bd_image_files_PD = glob(os.path.join(str([folder for folder in bd_image_folders if 'PD_im' in folder][0]), '*'))\n",
    "print(len(bd_image_files_PD))\n",
    "bd_image_files_PD[:5]"
   ]
  },
  {
   "cell_type": "markdown",
   "metadata": {},
   "source": [
    "## Load Image Data From File"
   ]
  },
  {
   "cell_type": "code",
   "execution_count": 20,
   "metadata": {},
   "outputs": [],
   "source": [
    "import nibabel as nib\n",
    "from nibabel import gifti as gi"
   ]
  },
  {
   "cell_type": "markdown",
   "metadata": {},
   "source": [
    "### Load a T1 Image"
   ]
  },
  {
   "cell_type": "code",
   "execution_count": 21,
   "metadata": {},
   "outputs": [
    {
     "data": {
      "text/plain": [
       "<nibabel.nifti1.Nifti1Image at 0x2b4ca634190>"
      ]
     },
     "execution_count": 21,
     "metadata": {},
     "output_type": "execute_result"
    }
   ],
   "source": [
    "img_T1 = nib.load(bd_image_files_T1[17])\n",
    "img_T1"
   ]
  },
  {
   "cell_type": "code",
   "execution_count": 22,
   "metadata": {},
   "outputs": [
    {
     "data": {
      "text/plain": [
       "(256, 256, 150)"
      ]
     },
     "execution_count": 22,
     "metadata": {},
     "output_type": "execute_result"
    }
   ],
   "source": [
    "img_T1.get_fdata().shape"
   ]
  },
  {
   "cell_type": "code",
   "execution_count": 25,
   "metadata": {},
   "outputs": [
    {
     "data": {
      "text/plain": [
       "array([[278, 251, 231, ..., 260, 262, 223],\n",
       "       [262, 260, 273, ..., 279, 272, 255],\n",
       "       [262, 247, 271, ..., 330, 267, 291],\n",
       "       ...,\n",
       "       [  0,   0,   0, ...,   0,   0,   0],\n",
       "       [  0,   0,   0, ...,   0,   0,   0],\n",
       "       [  0,   0,   0, ...,   0,   0,   0]], dtype=int16)"
      ]
     },
     "execution_count": 25,
     "metadata": {},
     "output_type": "execute_result"
    }
   ],
   "source": [
    "T1 = np.array(img_T1.dataobj)\n",
    "T1[25]"
   ]
  },
  {
   "cell_type": "code",
   "execution_count": 93,
   "metadata": {},
   "outputs": [
    {
     "data": {
      "text/plain": [
       "<nibabel.gifti.gifti.GiftiDataArray at 0x23f0ab584f0>"
      ]
     },
     "execution_count": 93,
     "metadata": {},
     "output_type": "execute_result"
    }
   ],
   "source": [
    "t1gi = gi.GiftiDataArray(data=T1)\n",
    "t1gi"
   ]
  },
  {
   "cell_type": "code",
   "execution_count": 94,
   "metadata": {},
   "outputs": [
    {
     "data": {
      "text/plain": [
       "{}"
      ]
     },
     "execution_count": 94,
     "metadata": {},
     "output_type": "execute_result"
    }
   ],
   "source": [
    "t1gi.metadata"
   ]
  },
  {
   "cell_type": "code",
   "execution_count": 99,
   "metadata": {},
   "outputs": [
    {
     "data": {
      "image/png": "[encoded data removed]",
      "text/plain": [
       "<Figure size 640x480 with 1 Axes>"
      ]
     },
     "metadata": {},
     "output_type": "display_data"
    }
   ],
   "source": [
    "fig, ax = plt.subplots()\n",
    "ax.imshow(T1[80][256:106:-1], cmap='Greys_r')\n",
    "ax.axis('off')\n",
    "plt.savefig('figures/test.jpg')"
   ]
  },
  {
   "cell_type": "code",
   "execution_count": 95,
   "metadata": {},
   "outputs": [],
   "source": [
    "img_T1 = nib.load(bd_image_files_T1[17])\n",
    "img_T1 = img_T1.get_fdata()[80]"
   ]
  },
  {
   "cell_type": "code",
   "execution_count": 50,
   "metadata": {},
   "outputs": [
    {
     "data": {
      "text/plain": [
       "True"
      ]
     },
     "execution_count": 50,
     "metadata": {},
     "output_type": "execute_result"
    }
   ],
   "source": [
    "test_img = get_data([('figures/test.jpg', 0)])\n",
    "test_img[0][0].any()"
   ]
  },
  {
   "cell_type": "code",
   "execution_count": null,
   "metadata": {},
   "outputs": [],
   "source": []
  },
  {
   "cell_type": "code",
   "execution_count": 58,
   "metadata": {
    "collapsed": true,
    "jupyter": {
     "outputs_hidden": true
    }
   },
   "outputs": [
    {
     "data": {
      "text/plain": [
       "array([[0, 0, 0],\n",
       "       [0, 0, 0],\n",
       "       [0, 0, 0],\n",
       "       [0, 0, 0],\n",
       "       [0, 0, 0],\n",
       "       [0, 0, 0],\n",
       "       [0, 0, 0],\n",
       "       [0, 0, 0],\n",
       "       [0, 0, 0],\n",
       "       [0, 0, 0],\n",
       "       [0, 0, 0],\n",
       "       [0, 0, 0],\n",
       "       [0, 0, 0],\n",
       "       [0, 0, 0],\n",
       "       [0, 0, 0],\n",
       "       [0, 0, 0],\n",
       "       [0, 0, 0],\n",
       "       [0, 0, 0],\n",
       "       [0, 0, 0],\n",
       "       [0, 0, 0],\n",
       "       [0, 0, 0],\n",
       "       [0, 0, 0],\n",
       "       [0, 0, 0],\n",
       "       [0, 0, 0],\n",
       "       [0, 0, 0],\n",
       "       [0, 0, 0],\n",
       "       [0, 0, 0],\n",
       "       [0, 0, 0],\n",
       "       [0, 0, 0],\n",
       "       [0, 0, 0],\n",
       "       [0, 0, 0],\n",
       "       [0, 0, 0],\n",
       "       [0, 0, 0],\n",
       "       [0, 0, 0],\n",
       "       [0, 0, 0],\n",
       "       [0, 0, 0],\n",
       "       [0, 0, 0],\n",
       "       [0, 0, 0],\n",
       "       [0, 0, 0],\n",
       "       [0, 0, 0],\n",
       "       [0, 0, 0],\n",
       "       [0, 0, 0],\n",
       "       [0, 0, 0],\n",
       "       [0, 0, 0],\n",
       "       [0, 0, 0],\n",
       "       [0, 0, 0],\n",
       "       [0, 0, 0],\n",
       "       [0, 0, 0],\n",
       "       [0, 0, 0],\n",
       "       [0, 0, 0],\n",
       "       [0, 0, 0],\n",
       "       [0, 0, 0],\n",
       "       [0, 0, 0],\n",
       "       [0, 0, 0],\n",
       "       [0, 0, 0],\n",
       "       [0, 0, 0],\n",
       "       [0, 0, 0],\n",
       "       [0, 0, 0],\n",
       "       [0, 0, 0],\n",
       "       [0, 0, 0],\n",
       "       [0, 0, 0],\n",
       "       [0, 0, 0],\n",
       "       [0, 0, 0],\n",
       "       [0, 0, 0],\n",
       "       [0, 0, 0],\n",
       "       [0, 0, 0],\n",
       "       [0, 0, 0],\n",
       "       [0, 0, 0],\n",
       "       [0, 0, 0],\n",
       "       [0, 0, 0],\n",
       "       [0, 0, 0],\n",
       "       [0, 0, 0],\n",
       "       [0, 0, 0],\n",
       "       [0, 0, 0],\n",
       "       [0, 0, 0],\n",
       "       [0, 0, 0],\n",
       "       [0, 0, 0],\n",
       "       [0, 0, 0],\n",
       "       [0, 0, 0],\n",
       "       [0, 0, 0],\n",
       "       [0, 0, 0],\n",
       "       [0, 0, 0],\n",
       "       [0, 0, 0],\n",
       "       [0, 0, 0],\n",
       "       [0, 0, 0],\n",
       "       [0, 0, 0],\n",
       "       [0, 0, 0],\n",
       "       [0, 0, 0],\n",
       "       [0, 0, 0],\n",
       "       [0, 0, 0],\n",
       "       [0, 0, 0],\n",
       "       [0, 0, 0],\n",
       "       [0, 0, 0],\n",
       "       [0, 0, 0],\n",
       "       [0, 0, 0],\n",
       "       [0, 0, 0],\n",
       "       [0, 0, 0],\n",
       "       [0, 0, 0],\n",
       "       [0, 0, 0],\n",
       "       [0, 0, 0],\n",
       "       [0, 0, 0],\n",
       "       [0, 0, 0],\n",
       "       [0, 0, 0],\n",
       "       [0, 0, 0],\n",
       "       [0, 0, 0],\n",
       "       [0, 0, 0],\n",
       "       [0, 0, 0],\n",
       "       [0, 0, 0],\n",
       "       [0, 0, 0],\n",
       "       [0, 0, 0],\n",
       "       [0, 0, 0],\n",
       "       [0, 0, 0],\n",
       "       [0, 0, 0],\n",
       "       [0, 0, 0],\n",
       "       [0, 0, 0],\n",
       "       [0, 0, 0],\n",
       "       [0, 0, 0],\n",
       "       [0, 0, 0],\n",
       "       [0, 0, 0],\n",
       "       [0, 0, 0],\n",
       "       [0, 0, 0],\n",
       "       [0, 0, 0],\n",
       "       [0, 0, 0],\n",
       "       [0, 0, 0],\n",
       "       [0, 0, 0],\n",
       "       [0, 0, 0],\n",
       "       [0, 0, 0],\n",
       "       [0, 0, 0],\n",
       "       [0, 0, 0],\n",
       "       [0, 0, 0],\n",
       "       [0, 0, 0],\n",
       "       [0, 0, 0],\n",
       "       [0, 0, 0],\n",
       "       [0, 0, 0],\n",
       "       [0, 0, 0],\n",
       "       [0, 0, 0],\n",
       "       [0, 0, 0],\n",
       "       [0, 0, 0],\n",
       "       [0, 0, 0],\n",
       "       [0, 0, 0],\n",
       "       [0, 0, 0],\n",
       "       [0, 0, 0],\n",
       "       [0, 0, 0],\n",
       "       [0, 0, 0],\n",
       "       [0, 0, 0],\n",
       "       [0, 0, 0],\n",
       "       [0, 0, 0],\n",
       "       [0, 0, 0],\n",
       "       [0, 0, 0],\n",
       "       [0, 0, 0]], dtype=uint8)"
      ]
     },
     "execution_count": 58,
     "metadata": {},
     "output_type": "execute_result"
    }
   ],
   "source": [
    "test_img[0][0][0]"
   ]
  },
  {
   "cell_type": "code",
   "execution_count": 59,
   "metadata": {},
   "outputs": [
    {
     "data": {
      "text/plain": [
       "(1, 3)"
      ]
     },
     "execution_count": 59,
     "metadata": {},
     "output_type": "execute_result"
    }
   ],
   "source": [
    "test_img.shape"
   ]
  },
  {
   "cell_type": "code",
   "execution_count": 62,
   "metadata": {},
   "outputs": [
    {
     "data": {
      "text/plain": [
       "'figures/test.jpg'"
      ]
     },
     "execution_count": 62,
     "metadata": {},
     "output_type": "execute_result"
    }
   ],
   "source": [
    "test_img[0][2]"
   ]
  },
  {
   "cell_type": "code",
   "execution_count": null,
   "metadata": {},
   "outputs": [],
   "source": []
  },
  {
   "cell_type": "code",
   "execution_count": null,
   "metadata": {},
   "outputs": [],
   "source": []
  },
  {
   "cell_type": "code",
   "execution_count": null,
   "metadata": {},
   "outputs": [],
   "source": []
  },
  {
   "cell_type": "code",
   "execution_count": 77,
   "metadata": {},
   "outputs": [
    {
     "data": {
      "text/plain": [
       "(-0.5, 149.5, 93.5, -0.5)"
      ]
     },
     "execution_count": 77,
     "metadata": {},
     "output_type": "execute_result"
    },
    {
     "data": {
      "image/png": "[encoded data removed]",
      "text/plain": [
       "<Figure size 360x360 with 1 Axes>"
      ]
     },
     "metadata": {
      "needs_background": "light"
     },
     "output_type": "display_data"
    }
   ],
   "source": [
    "# plot image data from first [1] train image data (tumor-free brain)\n",
    "plt.figure(figsize=(5,5))\n",
    "plt.imshow(test_img[0][0][56:])\n",
    "\n",
    "plt.axis('off')\n"
   ]
  },
  {
   "cell_type": "markdown",
   "metadata": {},
   "source": [
    "### Load a T2 Image"
   ]
  },
  {
   "cell_type": "code",
   "execution_count": 207,
   "metadata": {},
   "outputs": [
    {
     "data": {
      "text/plain": [
       "<nibabel.nifti1.Nifti1Image at 0x21ae2efdfa0>"
      ]
     },
     "execution_count": 207,
     "metadata": {},
     "output_type": "execute_result"
    }
   ],
   "source": [
    "# load specified image\n",
    "img_T2 = nib.load(bd_image_files_T2[17])\n",
    "img_T2"
   ]
  },
  {
   "cell_type": "code",
   "execution_count": 27,
   "metadata": {},
   "outputs": [
    {
     "data": {
      "text/plain": [
       "(256, 256, 130)"
      ]
     },
     "execution_count": 27,
     "metadata": {},
     "output_type": "execute_result"
    }
   ],
   "source": [
    "img_T2.shape"
   ]
  },
  {
   "cell_type": "code",
   "execution_count": 28,
   "metadata": {},
   "outputs": [
    {
     "data": {
      "text/plain": [
       "(256, 256, 130)"
      ]
     },
     "execution_count": 28,
     "metadata": {},
     "output_type": "execute_result"
    }
   ],
   "source": [
    "img_T2.get_fdata().shape"
   ]
  },
  {
   "cell_type": "code",
   "execution_count": 29,
   "metadata": {},
   "outputs": [
    {
     "data": {
      "text/plain": [
       "<matplotlib.image.AxesImage at 0x232787087f0>"
      ]
     },
     "execution_count": 29,
     "metadata": {},
     "output_type": "execute_result"
    },
    {
     "data": {
      "image/png": "[encoded data removed]",
      "text/plain": [
       "<Figure size 432x288 with 1 Axes>"
      ]
     },
     "metadata": {
      "needs_background": "light"
     },
     "output_type": "display_data"
    }
   ],
   "source": [
    "T2_image = img_T2.get_fdata()\n",
    "# test_mask = \n",
    "fig, ax = plt.subplots()\n",
    "ax.imshow(T2_image[80]//2)"
   ]
  },
  {
   "cell_type": "markdown",
   "metadata": {},
   "source": [
    "### Load an MRA image"
   ]
  },
  {
   "cell_type": "code",
   "execution_count": 125,
   "metadata": {},
   "outputs": [
    {
     "data": {
      "text/plain": [
       "<nibabel.nifti1.Nifti1Image at 0x250d4c87430>"
      ]
     },
     "execution_count": 125,
     "metadata": {},
     "output_type": "execute_result"
    }
   ],
   "source": [
    "img_MRA = nib.load(bd_image_files_MRA[17])\n",
    "img_MRA"
   ]
  },
  {
   "cell_type": "code",
   "execution_count": 31,
   "metadata": {},
   "outputs": [
    {
     "data": {
      "text/plain": [
       "(512, 512, 100)"
      ]
     },
     "execution_count": 31,
     "metadata": {},
     "output_type": "execute_result"
    }
   ],
   "source": [
    "img_MRA.get_fdata().shape"
   ]
  },
  {
   "cell_type": "markdown",
   "metadata": {},
   "source": [
    "### Load a PD IMAGE"
   ]
  },
  {
   "cell_type": "code",
   "execution_count": 32,
   "metadata": {},
   "outputs": [
    {
     "data": {
      "text/plain": [
       "<nibabel.nifti1.Nifti1Image at 0x232787316a0>"
      ]
     },
     "execution_count": 32,
     "metadata": {},
     "output_type": "execute_result"
    }
   ],
   "source": [
    "img_PD = nib.load(bd_image_files_PD[17])\n",
    "img_PD"
   ]
  },
  {
   "cell_type": "code",
   "execution_count": 34,
   "metadata": {},
   "outputs": [
    {
     "data": {
      "text/plain": [
       "(256, 256, 130)"
      ]
     },
     "execution_count": 34,
     "metadata": {},
     "output_type": "execute_result"
    }
   ],
   "source": [
    "img_PD.get_fdata().shape"
   ]
  },
  {
   "cell_type": "markdown",
   "metadata": {},
   "source": [
    "## Create Images for EDA/ understanding Data"
   ]
  },
  {
   "cell_type": "markdown",
   "metadata": {},
   "source": [
    "#### Create T1 image"
   ]
  },
  {
   "cell_type": "code",
   "execution_count": 199,
   "metadata": {},
   "outputs": [
    {
     "ename": "TypeError",
     "evalue": "cannot unpack non-iterable Figure object",
     "output_type": "error",
     "traceback": [
      "\u001b[1;31m---------------------------------------------------------------------------\u001b[0m",
      "\u001b[1;31mTypeError\u001b[0m                                 Traceback (most recent call last)",
      "\u001b[1;32m<ipython-input-199-3f78f56d459b>\u001b[0m in \u001b[0;36m<module>\u001b[1;34m\u001b[0m\n\u001b[1;32m----> 1\u001b[1;33m \u001b[0mcreate_gif\u001b[0m\u001b[1;33m(\u001b[0m\u001b[0mnib\u001b[0m\u001b[1;33m.\u001b[0m\u001b[0mload\u001b[0m\u001b[1;33m(\u001b[0m\u001b[0mbd_image_files_T1\u001b[0m\u001b[1;33m[\u001b[0m\u001b[1;36m0\u001b[0m\u001b[1;33m]\u001b[0m\u001b[1;33m)\u001b[0m\u001b[1;33m,\u001b[0m \u001b[0mtitle\u001b[0m\u001b[1;33m=\u001b[0m\u001b[1;34m\"T1 Scan .gif\"\u001b[0m\u001b[1;33m,\u001b[0m \u001b[0mfilename\u001b[0m\u001b[1;33m=\u001b[0m\u001b[1;34m\"T1_MRI.gif\"\u001b[0m\u001b[1;33m)\u001b[0m\u001b[1;33m\u001b[0m\u001b[1;33m\u001b[0m\u001b[0m\n\u001b[0m",
      "\u001b[1;32m<ipython-input-198-d5907db6a480>\u001b[0m in \u001b[0;36mcreate_gif\u001b[1;34m(input_image, title, filename)\u001b[0m\n\u001b[0;32m      8\u001b[0m     \u001b[0minput_image_data\u001b[0m \u001b[1;33m=\u001b[0m \u001b[0minput_image\u001b[0m\u001b[1;33m.\u001b[0m\u001b[0mget_fdata\u001b[0m\u001b[1;33m(\u001b[0m\u001b[1;33m)\u001b[0m\u001b[1;33m\u001b[0m\u001b[1;33m\u001b[0m\u001b[0m\n\u001b[0;32m      9\u001b[0m \u001b[1;33m\u001b[0m\u001b[0m\n\u001b[1;32m---> 10\u001b[1;33m     \u001b[0mfig\u001b[0m\u001b[1;33m,\u001b[0m \u001b[0max\u001b[0m \u001b[1;33m=\u001b[0m \u001b[0mplt\u001b[0m\u001b[1;33m.\u001b[0m\u001b[0mfigure\u001b[0m\u001b[1;33m(\u001b[0m\u001b[1;33m)\u001b[0m\u001b[1;33m\u001b[0m\u001b[1;33m\u001b[0m\u001b[0m\n\u001b[0m\u001b[0;32m     11\u001b[0m \u001b[1;33m\u001b[0m\u001b[0m\n\u001b[0;32m     12\u001b[0m     \u001b[1;32mfor\u001b[0m \u001b[0mi\u001b[0m \u001b[1;32min\u001b[0m \u001b[0mrange\u001b[0m\u001b[1;33m(\u001b[0m\u001b[0mlen\u001b[0m\u001b[1;33m(\u001b[0m\u001b[0minput_image_data\u001b[0m\u001b[1;33m)\u001b[0m\u001b[1;33m)\u001b[0m\u001b[1;33m:\u001b[0m\u001b[1;33m\u001b[0m\u001b[1;33m\u001b[0m\u001b[0m\n",
      "\u001b[1;31mTypeError\u001b[0m: cannot unpack non-iterable Figure object"
     ]
    },
    {
     "data": {
      "text/plain": [
       "<Figure size 640x480 with 0 Axes>"
      ]
     },
     "metadata": {},
     "output_type": "display_data"
    }
   ],
   "source": [
    "create_gif(nib.load(bd_image_files_T1[0]), title=\"T1 Scan .gif\", filename=\"T1_MRI.gif\")"
   ]
  },
  {
   "cell_type": "code",
   "execution_count": 36,
   "metadata": {},
   "outputs": [
    {
     "name": "stderr",
     "output_type": "stream",
     "text": [
      "MovieWriter ffmpeg unavailable; using Pillow instead.\n"
     ]
    },
    {
     "data": {
      "image/png": "[encoded data removed]",
      "text/plain": [
       "<Figure size 432x288 with 1 Axes>"
      ]
     },
     "metadata": {
      "needs_background": "light"
     },
     "output_type": "display_data"
    }
   ],
   "source": [
    "create_gif(img_T2, title='T2 Scan .gif', filename='T2_MRI.gif')"
   ]
  },
  {
   "cell_type": "code",
   "execution_count": 32,
   "metadata": {},
   "outputs": [
    {
     "name": "stderr",
     "output_type": "stream",
     "text": [
      "MovieWriter ffmpeg unavailable; using Pillow instead.\n"
     ]
    },
    {
     "data": {
      "image/png": "[encoded data removed]",
      "text/plain": [
       "<Figure size 432x288 with 1 Axes>"
      ]
     },
     "metadata": {
      "needs_background": "light"
     },
     "output_type": "display_data"
    }
   ],
   "source": [
    "create_gif(img_MRA, title='MRA Scan .gif', filename='MRA_MRI.gif')"
   ]
  },
  {
   "cell_type": "code",
   "execution_count": 36,
   "metadata": {},
   "outputs": [
    {
     "name": "stderr",
     "output_type": "stream",
     "text": [
      "MovieWriter ffmpeg unavailable; using Pillow instead.\n"
     ]
    },
    {
     "data": {
      "image/png": "[encoded data removed]",
      "text/plain": [
       "<Figure size 432x288 with 1 Axes>"
      ]
     },
     "metadata": {
      "needs_background": "light"
     },
     "output_type": "display_data"
    }
   ],
   "source": [
    "create_gif(img_PD, title='PD Scan .gif', filename='PD_MRI.gif')"
   ]
  },
  {
   "cell_type": "code",
   "execution_count": null,
   "metadata": {},
   "outputs": [],
   "source": []
  },
  {
   "cell_type": "code",
   "execution_count": null,
   "metadata": {},
   "outputs": [],
   "source": []
  }
 ],
 "metadata": {
  "kernelspec": {
   "display_name": "Python 3",
   "language": "python",
   "name": "python3"
  },
  "language_info": {
   "codemirror_mode": {
    "name": "ipython",
    "version": 3
   },
   "file_extension": ".py",
   "mimetype": "text/x-python",
   "name": "python",
   "nbconvert_exporter": "python",
   "pygments_lexer": "ipython3",
   "version": "3.8.2"
  }
 },
 "nbformat": 4,
 "nbformat_minor": 4
}
