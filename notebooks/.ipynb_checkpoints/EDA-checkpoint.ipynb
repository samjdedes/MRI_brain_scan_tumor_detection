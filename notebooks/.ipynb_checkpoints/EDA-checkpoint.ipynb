{
 "cells": [
  {
   "cell_type": "code",
   "execution_count": null,
   "metadata": {},
   "outputs": [],
   "source": [
    "# import custom functions\n",
    "import sys\n",
    "sys.path.append('../../src')\n",
    "# CNN Class and methods\n",
    "from model_utils import *\n",
    "from data_functions import *"
   ]
  },
  {
   "cell_type": "code",
   "execution_count": 78,
   "metadata": {},
   "outputs": [],
   "source": [
    "# imports for exploratory dataframe manipulation\n",
    "import numpy as np\n",
    "import pandas as pd\n",
    "import matplotlib.pyplot as plt\n",
    "# imports for exploratory data analysis\n",
    "from sklearn.linear_model import LinearRegression, LogisticRegression\n",
    "from sklearn.model_selection import train_test_split, cross_val_score"
   ]
  },
  {
   "cell_type": "code",
   "execution_count": 20,
   "metadata": {},
   "outputs": [],
   "source": [
    "import os\n",
    "from os import listdir\n",
    "from nibabel.testing import data_path\n",
    "import nibabel as nib"
   ]
  },
  {
   "cell_type": "code",
   "execution_count": 21,
   "metadata": {},
   "outputs": [
    {
     "data": {
      "text/plain": [
       "<module 'ntpath' from 'C:\\\\Users\\\\samjd\\\\anaconda3\\\\envs\\\\oy-env\\\\lib\\\\ntpath.py'>"
      ]
     },
     "execution_count": 21,
     "metadata": {},
     "output_type": "execute_result"
    }
   ],
   "source": [
    "os.path"
   ]
  },
  {
   "cell_type": "markdown",
   "metadata": {},
   "source": [
    "# Get paths to image files \n",
    "## (depracated)"
   ]
  },
  {
   "cell_type": "code",
   "execution_count": 50,
   "metadata": {},
   "outputs": [],
   "source": [
    "# how to instantiate an object with name of a given string\n",
    "# globals()['my_global'] = 5\n",
    "# my_global"
   ]
  },
  {
   "cell_type": "code",
   "execution_count": 22,
   "metadata": {},
   "outputs": [],
   "source": [
    "# # load data\n",
    "# images = {}\n",
    "# filepaths = [f for f in listdir('../data/MRI_gz_scans') if os.path.isfile(os.path.join('../data/MRI_gz_scans', f))]\n",
    "# filepaths[:5]"
   ]
  },
  {
   "cell_type": "code",
   "execution_count": 5,
   "metadata": {},
   "outputs": [],
   "source": [
    "# filepath = os.path.join(data_path, '../data/MRI_Scans/'+ filepaths[5])"
   ]
  },
  {
   "cell_type": "code",
   "execution_count": 6,
   "metadata": {},
   "outputs": [],
   "source": [
    "# img = nib.load('../data/MRI_gz_scans/'+ filepaths[5])"
   ]
  },
  {
   "cell_type": "code",
   "execution_count": 7,
   "metadata": {},
   "outputs": [],
   "source": [
    "# img.shape"
   ]
  },
  {
   "cell_type": "code",
   "execution_count": 8,
   "metadata": {},
   "outputs": [],
   "source": [
    "# img.affine.shape"
   ]
  },
  {
   "cell_type": "code",
   "execution_count": 9,
   "metadata": {},
   "outputs": [],
   "source": [
    "# hdr = img.header\n",
    "# hdr.get_xyzt_units()"
   ]
  },
  {
   "cell_type": "code",
   "execution_count": 10,
   "metadata": {},
   "outputs": [],
   "source": [
    "# raw = hdr.structarr\n",
    "# raw['xyzt_units']"
   ]
  },
  {
   "cell_type": "code",
   "execution_count": 1,
   "metadata": {},
   "outputs": [],
   "source": [
    "import numpy as np\n",
    "import os\n",
    "import cv2\n",
    "from sklearn.model_selection import train_test_split"
   ]
  },
  {
   "cell_type": "code",
   "execution_count": 51,
   "metadata": {},
   "outputs": [],
   "source": [
    "def get_img_paths(base_dir, ignore_filetypes=['.txt']):\n",
    "    \"\"\"\n",
    "    Inputs:\n",
    "        base_dir (string/ os.path type) relative path to the directory with folders containing images\n",
    "        *kwargs\n",
    "        ignore_filetypes (list of strings) filetypes to exclude from output\n",
    "        type_foldes (dictionary) folders that identify different filetypes and add identifiers to add to output\n",
    "    Returns:\n",
    "        paths (list of tuples) relative paths to files with identifiers\n",
    "    \"\"\"\n",
    "    absent_paths = []\n",
    "    present_paths = []\n",
    "\n",
    "    for root, dirs, files in os.walk(base_dir):\n",
    "        # remove undesired files\n",
    "        if ignore_filetypes:\n",
    "            # check each file\n",
    "            for file in files:\n",
    "                for file_type in ignore_filetypes:\n",
    "                    if file_type in file:\n",
    "                        files.remove(file)\n",
    "        if files:\n",
    "            for file in files:\n",
    "                full_path = os.path.join(root, file)\n",
    "\n",
    "                if 'NO' in full_path:\n",
    "                    absent_paths.append((full_path, 0))\n",
    "\n",
    "                elif 'YES' in full_path:\n",
    "                    present_paths.append((full_path, 1))\n",
    "\n",
    "    #         if type_folders:\n",
    "    #             for key, value in type_folders.items():\n",
    "    #                 if key in root:\n",
    "\n",
    "    #         print('root: ', root)\n",
    "    #         print('files: ', files[:5], len(files))\n",
    "    #         print('paths: ', paths)\n",
    "#     absent_paths.extend(present_paths)\n",
    "    return absent_paths, present_paths"
   ]
  },
  {
   "cell_type": "code",
   "execution_count": 52,
   "metadata": {},
   "outputs": [],
   "source": [
    "basedir = \"D:\\MRI_data\\Kaggle\" \n",
    "absent, present = get_img_paths(basedir)"
   ]
  },
  {
   "cell_type": "code",
   "execution_count": 53,
   "metadata": {},
   "outputs": [
    {
     "data": {
      "text/plain": [
       "3531"
      ]
     },
     "execution_count": 53,
     "metadata": {},
     "output_type": "execute_result"
    }
   ],
   "source": [
    "len(absent + present)"
   ]
  },
  {
   "cell_type": "markdown",
   "metadata": {},
   "source": [
    "## Train Test Split Data"
   ]
  },
  {
   "cell_type": "code",
   "execution_count": 54,
   "metadata": {},
   "outputs": [],
   "source": [
    "# define train size for data set\n",
    "# split before combining datasets\n",
    "train_size = 0.8 # eighty percent\n",
    "test_size = 0.15 # fifteen percent\n",
    "val_size = 0.05 # five percent\n",
    "\n",
    "# calculate test size for second split\n",
    "test_size2 = test_size/(1-train_size)\n",
    "\n",
    "# split absent paths into train and test\n",
    "absent_train, absent_test = train_test_split(absent, train_size=train_size)\n",
    "\n",
    "# split absent test paths into test and validation\n",
    "absent_test, absent_val = train_test_split(absent_test, train_size=test_size2)\n",
    "\n",
    "# split present paths into train and test\n",
    "present_train, present_test = train_test_split(present, train_size=train_size)\n",
    "\n",
    "# split present paths into test and val\n",
    "present_test, present_val = train_test_split(present_test, train_size=test_size2)"
   ]
  },
  {
   "cell_type": "code",
   "execution_count": 55,
   "metadata": {},
   "outputs": [
    {
     "data": {
      "text/plain": [
       "438"
      ]
     },
     "execution_count": 55,
     "metadata": {},
     "output_type": "execute_result"
    }
   ],
   "source": [
    "len(present_test)"
   ]
  },
  {
   "cell_type": "code",
   "execution_count": 56,
   "metadata": {},
   "outputs": [
    {
     "data": {
      "text/plain": [
       "2335"
      ]
     },
     "execution_count": 56,
     "metadata": {},
     "output_type": "execute_result"
    }
   ],
   "source": [
    "len(present_train)"
   ]
  },
  {
   "cell_type": "code",
   "execution_count": 57,
   "metadata": {},
   "outputs": [
    {
     "data": {
      "text/plain": [
       "146"
      ]
     },
     "execution_count": 57,
     "metadata": {},
     "output_type": "execute_result"
    }
   ],
   "source": [
    "len(present_val)"
   ]
  },
  {
   "cell_type": "code",
   "execution_count": 58,
   "metadata": {},
   "outputs": [
    {
     "data": {
      "text/plain": [
       "92"
      ]
     },
     "execution_count": 58,
     "metadata": {},
     "output_type": "execute_result"
    }
   ],
   "source": [
    "len(absent_test)"
   ]
  },
  {
   "cell_type": "code",
   "execution_count": 59,
   "metadata": {},
   "outputs": [
    {
     "data": {
      "text/plain": [
       "489"
      ]
     },
     "execution_count": 59,
     "metadata": {},
     "output_type": "execute_result"
    }
   ],
   "source": [
    "len(absent_train)"
   ]
  },
  {
   "cell_type": "code",
   "execution_count": 60,
   "metadata": {},
   "outputs": [
    {
     "data": {
      "text/plain": [
       "31"
      ]
     },
     "execution_count": 60,
     "metadata": {},
     "output_type": "execute_result"
    }
   ],
   "source": [
    "len(absent_val)"
   ]
  },
  {
   "cell_type": "code",
   "execution_count": 62,
   "metadata": {},
   "outputs": [],
   "source": [
    "# combnine train and test and val (respectively)\n",
    "train = absent_train\n",
    "train.extend(present_train)\n",
    "\n",
    "test = absent_test\n",
    "test.extend(present_test)\n",
    "\n",
    "val = absent_val\n",
    "val.extend(present_val)"
   ]
  },
  {
   "cell_type": "code",
   "execution_count": 64,
   "metadata": {},
   "outputs": [
    {
     "data": {
      "text/plain": [
       "530"
      ]
     },
     "execution_count": 64,
     "metadata": {},
     "output_type": "execute_result"
    }
   ],
   "source": [
    "len(test)"
   ]
  },
  {
   "cell_type": "code",
   "execution_count": 72,
   "metadata": {},
   "outputs": [
    {
     "data": {
      "text/plain": [
       "('D:\\\\MRI_data\\\\Kaggle\\\\simple_yes_no\\\\NO\\\\horizontal_section\\\\No15.jpg', 0)"
      ]
     },
     "execution_count": 72,
     "metadata": {},
     "output_type": "execute_result"
    }
   ],
   "source": [
    "val[0]"
   ]
  },
  {
   "cell_type": "code",
   "execution_count": 73,
   "metadata": {},
   "outputs": [],
   "source": [
    "def get_data(input_data, img_size=150):\n",
    "    \"\"\"\n",
    "    This function takes an image type and classification with matching index and returns  image data with classification\n",
    "\n",
    "    Input:\n",
    "        x (list of path like entries) paths leading to image data to be loaded\n",
    "        y (list of classification) list of classifications matching index of x data\n",
    "\n",
    "    Returns:\n",
    "        data (np.array) image data with classification\n",
    "    \"\"\"\n",
    "\n",
    "    data = []\n",
    "\n",
    "    for i in range(len(input_data)):\n",
    "        path = input_data[i][0]\n",
    "        class_num = input_data[i][1]\n",
    "\n",
    "        #         for img in os.listdir(path):\n",
    "\n",
    "        try:\n",
    "            img_arr = cv2.imread(path)\n",
    "            resized_arr = cv2.resize(img_arr, (img_size, img_size))  # Reshaping images to preferred size\n",
    "            data.append([resized_arr, class_num])\n",
    "\n",
    "        except Exception as e:\n",
    "            print(e)\n",
    "\n",
    "    return np.array(data)"
   ]
  },
  {
   "cell_type": "markdown",
   "metadata": {},
   "source": [
    "# load data "
   ]
  },
  {
   "cell_type": "code",
   "execution_count": 91,
   "metadata": {},
   "outputs": [
    {
     "name": "stdout",
     "output_type": "stream",
     "text": [
      "OpenCV(4.0.1) C:\\ci\\opencv-suite_1573470242804\\work\\modules\\imgproc\\src\\resize.cpp:3784: error: (-215:Assertion failed) !ssize.empty() in function 'cv::resize'\n",
      "\n",
      "OpenCV(4.0.1) C:\\ci\\opencv-suite_1573470242804\\work\\modules\\imgproc\\src\\resize.cpp:3784: error: (-215:Assertion failed) !ssize.empty() in function 'cv::resize'\n",
      "\n",
      "OpenCV(4.0.1) C:\\ci\\opencv-suite_1573470242804\\work\\modules\\imgproc\\src\\resize.cpp:3784: error: (-215:Assertion failed) !ssize.empty() in function 'cv::resize'\n",
      "\n",
      "OpenCV(4.0.1) C:\\ci\\opencv-suite_1573470242804\\work\\modules\\imgproc\\src\\resize.cpp:3784: error: (-215:Assertion failed) !ssize.empty() in function 'cv::resize'\n",
      "\n",
      "OpenCV(4.0.1) C:\\ci\\opencv-suite_1573470242804\\work\\modules\\imgproc\\src\\resize.cpp:3784: error: (-215:Assertion failed) !ssize.empty() in function 'cv::resize'\n",
      "\n",
      "OpenCV(4.0.1) C:\\ci\\opencv-suite_1573470242804\\work\\modules\\imgproc\\src\\resize.cpp:3784: error: (-215:Assertion failed) !ssize.empty() in function 'cv::resize'\n",
      "\n",
      "OpenCV(4.0.1) C:\\ci\\opencv-suite_1573470242804\\work\\modules\\imgproc\\src\\resize.cpp:3784: error: (-215:Assertion failed) !ssize.empty() in function 'cv::resize'\n",
      "\n",
      "OpenCV(4.0.1) C:\\ci\\opencv-suite_1573470242804\\work\\modules\\imgproc\\src\\resize.cpp:3784: error: (-215:Assertion failed) !ssize.empty() in function 'cv::resize'\n",
      "\n",
      "OpenCV(4.0.1) C:\\ci\\opencv-suite_1573470242804\\work\\modules\\imgproc\\src\\resize.cpp:3784: error: (-215:Assertion failed) !ssize.empty() in function 'cv::resize'\n",
      "\n",
      "OpenCV(4.0.1) C:\\ci\\opencv-suite_1573470242804\\work\\modules\\imgproc\\src\\resize.cpp:3784: error: (-215:Assertion failed) !ssize.empty() in function 'cv::resize'\n",
      "\n",
      "OpenCV(4.0.1) C:\\ci\\opencv-suite_1573470242804\\work\\modules\\imgproc\\src\\resize.cpp:3784: error: (-215:Assertion failed) !ssize.empty() in function 'cv::resize'\n",
      "\n"
     ]
    },
    {
     "data": {
      "text/plain": [
       "2813"
      ]
     },
     "execution_count": 91,
     "metadata": {},
     "output_type": "execute_result"
    }
   ],
   "source": [
    "train_img_data = get_data(train)\n",
    "len(train_img_data)"
   ]
  },
  {
   "cell_type": "code",
   "execution_count": 76,
   "metadata": {},
   "outputs": [
    {
     "data": {
      "text/plain": [
       "2824"
      ]
     },
     "execution_count": 76,
     "metadata": {},
     "output_type": "execute_result"
    }
   ],
   "source": [
    "len(train)"
   ]
  },
  {
   "cell_type": "code",
   "execution_count": 92,
   "metadata": {},
   "outputs": [
    {
     "name": "stdout",
     "output_type": "stream",
     "text": [
      "OpenCV(4.0.1) C:\\ci\\opencv-suite_1573470242804\\work\\modules\\imgproc\\src\\resize.cpp:3784: error: (-215:Assertion failed) !ssize.empty() in function 'cv::resize'\n",
      "\n",
      "OpenCV(4.0.1) C:\\ci\\opencv-suite_1573470242804\\work\\modules\\imgproc\\src\\resize.cpp:3784: error: (-215:Assertion failed) !ssize.empty() in function 'cv::resize'\n",
      "\n",
      "OpenCV(4.0.1) C:\\ci\\opencv-suite_1573470242804\\work\\modules\\imgproc\\src\\resize.cpp:3784: error: (-215:Assertion failed) !ssize.empty() in function 'cv::resize'\n",
      "\n"
     ]
    },
    {
     "data": {
      "text/plain": [
       "527"
      ]
     },
     "execution_count": 92,
     "metadata": {},
     "output_type": "execute_result"
    }
   ],
   "source": [
    "test_img_data = get_data(test)\n",
    "len(test_img_data)"
   ]
  },
  {
   "cell_type": "code",
   "execution_count": 94,
   "metadata": {},
   "outputs": [
    {
     "data": {
      "text/plain": [
       "530"
      ]
     },
     "execution_count": 94,
     "metadata": {},
     "output_type": "execute_result"
    }
   ],
   "source": [
    "len(test)"
   ]
  },
  {
   "cell_type": "code",
   "execution_count": 93,
   "metadata": {},
   "outputs": [
    {
     "data": {
      "text/plain": [
       "177"
      ]
     },
     "execution_count": 93,
     "metadata": {},
     "output_type": "execute_result"
    }
   ],
   "source": [
    "val_img_data = get_data(val)\n",
    "len(val_img_data)"
   ]
  },
  {
   "cell_type": "code",
   "execution_count": 95,
   "metadata": {},
   "outputs": [
    {
     "data": {
      "text/plain": [
       "177"
      ]
     },
     "execution_count": 95,
     "metadata": {},
     "output_type": "execute_result"
    }
   ],
   "source": [
    "len(val)"
   ]
  },
  {
   "cell_type": "code",
   "execution_count": 83,
   "metadata": {},
   "outputs": [],
   "source": [
    "labels = ['Tumor Absent', 'Tumor Present']"
   ]
  },
  {
   "cell_type": "code",
   "execution_count": 86,
   "metadata": {},
   "outputs": [
    {
     "data": {
      "text/plain": [
       "(-0.5, 149.5, 149.5, -0.5)"
      ]
     },
     "execution_count": 86,
     "metadata": {},
     "output_type": "execute_result"
    },
    {
     "data": {
      "image/png": "[encoded data removed]",
      "text/plain": [
       "<Figure size 360x360 with 1 Axes>"
      ]
     },
     "metadata": {
      "needs_background": "light"
     },
     "output_type": "display_data"
    },
    {
     "data": {
      "image/png": "[encoded data removed]",
      "text/plain": [
       "<Figure size 360x360 with 1 Axes>"
      ]
     },
     "metadata": {
      "needs_background": "light"
     },
     "output_type": "display_data"
    }
   ],
   "source": [
    "# plot image data from first [1] train image data (tumor-free brain)\n",
    "plt.figure(figsize=(5,5))\n",
    "plt.imshow(train_img_data[0][0], cmap='gray')\n",
    "plt.title(labels[train_img_data[0][1]])\n",
    "plt.axis('off')\n",
    "\n",
    "# plot image data from last [-1] train image data (tumor patient brain)\n",
    "plt.figure(figsize=(5,5))\n",
    "plt.imshow(train_img_data[-1][0], cmap='gray')\n",
    "plt.title(labels[train_img_data[-1][1]])\n",
    "plt.axis('off')"
   ]
  },
  {
   "cell_type": "code",
   "execution_count": 103,
   "metadata": {},
   "outputs": [],
   "source": [
    "# separate image data and identifiers\n",
    "x_train = []\n",
    "y_train = []\n",
    "\n",
    "x_val = []\n",
    "y_val = []\n",
    "\n",
    "x_test = []\n",
    "y_test = []\n",
    "\n",
    "for data, label in train_img_data:\n",
    "    x_train.append(data)\n",
    "    y_train.append(label)\n",
    "    \n",
    "for data, label in val_img_data:\n",
    "    x_val.append(data)\n",
    "    y_val.append(label)\n",
    "    \n",
    "for data, label in test_img_data:\n",
    "    x_test.append(data)\n",
    "    y_test.append(label)"
   ]
  },
  {
   "cell_type": "code",
   "execution_count": 104,
   "metadata": {},
   "outputs": [],
   "source": [
    "# scale data and convert to np.array for efficiency\n",
    "\n",
    "x_train = np.array(x_train)/255\n",
    "\n",
    "x_test = np.array(x_test)/255\n",
    "\n",
    "x_val = np.array(x_val)/255"
   ]
  },
  {
   "cell_type": "code",
   "execution_count": 105,
   "metadata": {},
   "outputs": [],
   "source": [
    "img_size = 150\n",
    "# resize data for deep learning\n",
    "x_train = x_train.reshape(-1, img_size, img_size, 3)\n",
    "\n",
    "x_test = x_test.reshape(-1, img_size, img_size, 3)\n",
    "\n",
    "x_val = x_val.reshape(-1, img_size, img_size, 3)"
   ]
  },
  {
   "cell_type": "markdown",
   "metadata": {},
   "source": [
    "# DATAGEN"
   ]
  },
  {
   "cell_type": "markdown",
   "metadata": {},
   "source": [
    "Alter data to make model more robust"
   ]
  },
  {
   "cell_type": "code",
   "execution_count": 106,
   "metadata": {},
   "outputs": [],
   "source": [
    "from keras.preprocessing.image import ImageDataGenerator"
   ]
  },
  {
   "cell_type": "code",
   "execution_count": 107,
   "metadata": {},
   "outputs": [],
   "source": [
    "datagen = ImageDataGenerator(\\\n",
    "                            featurewise_center=False,\n",
    "                            samplewise_center=False,\n",
    "                            featurewise_std_normalization=False,\n",
    "                            samplewise_std_normalization=False, \n",
    "                            zca_whitening=False, \n",
    "                            rotation_range=30,\n",
    "                            zoom_range=0.25,\n",
    "                            width_shift_range=0.2,\n",
    "                            height_shift_range=0.2,\n",
    "                            horizontal_flip=True,\n",
    "                            vertical_flip=False)"
   ]
  },
  {
   "cell_type": "markdown",
   "metadata": {},
   "source": [
    "# FSM"
   ]
  },
  {
   "cell_type": "code",
   "execution_count": 108,
   "metadata": {},
   "outputs": [],
   "source": [
    "from keras.models import Sequential\n",
    "from keras.layers import Dense, Conv2D, MaxPool2D, Flatten, Dropout, BatchNormalization"
   ]
  },
  {
   "cell_type": "code",
   "execution_count": 109,
   "metadata": {},
   "outputs": [
    {
     "name": "stdout",
     "output_type": "stream",
     "text": [
      "Model: \"sequential\"\n",
      "_________________________________________________________________\n",
      "Layer (type)                 Output Shape              Param #   \n",
      "=================================================================\n",
      "conv2d (Conv2D)              (None, 150, 150, 32)      896       \n",
      "_________________________________________________________________\n",
      "flatten (Flatten)            (None, 720000)            0         \n",
      "_________________________________________________________________\n",
      "dense (Dense)                (None, 1)                 720001    \n",
      "=================================================================\n",
      "Total params: 720,897\n",
      "Trainable params: 720,897\n",
      "Non-trainable params: 0\n",
      "_________________________________________________________________\n"
     ]
    }
   ],
   "source": [
    "model = Sequential()\n",
    "model.add(Conv2D(32, (3,3), strides=1, padding='same', activation='relu', input_shape=(150,150,3)))\n",
    "model.add(Flatten())\n",
    "model.add(Dense(units=1, activation='sigmoid'))\n",
    "model.compile(optimizer='adam', loss='binary_crossentropy', metrics=['Precision'])\n",
    "model.summary()"
   ]
  },
  {
   "cell_type": "code",
   "execution_count": 111,
   "metadata": {},
   "outputs": [],
   "source": [
    "from keras.callbacks import ReduceLROnPlateau"
   ]
  },
  {
   "cell_type": "code",
   "execution_count": 112,
   "metadata": {},
   "outputs": [],
   "source": [
    "learning_rate_reduction = ReduceLROnPlateau(monitor='val_accuracy', patience=2, verbose=1, factor=0.3, min_lr=10**-9)"
   ]
  },
  {
   "cell_type": "markdown",
   "metadata": {},
   "source": [
    "# Run Model"
   ]
  },
  {
   "cell_type": "code",
   "execution_count": 114,
   "metadata": {},
   "outputs": [
    {
     "name": "stdout",
     "output_type": "stream",
     "text": [
      "Epoch 1/12\n",
      "88/88 [==============================] - ETA: 0s - loss: 0.6724 - precision: 0.8320WARNING:tensorflow:Reduce LR on plateau conditioned on metric `val_accuracy` which is not available. Available metrics are: loss,precision,val_loss,val_precision,lr\n",
      "88/88 [==============================] - 31s 358ms/step - loss: 0.6724 - precision: 0.8320 - val_loss: 0.4905 - val_precision: 0.8276\n",
      "Epoch 2/12\n",
      "88/88 [==============================] - ETA: 0s - loss: 0.4097 - precision: 0.8449WARNING:tensorflow:Reduce LR on plateau conditioned on metric `val_accuracy` which is not available. Available metrics are: loss,precision,val_loss,val_precision,lr\n",
      "88/88 [==============================] - 29s 332ms/step - loss: 0.4097 - precision: 0.8449 - val_loss: 0.4161 - val_precision: 0.8363\n",
      "Epoch 3/12\n",
      "88/88 [==============================] - ETA: 0s - loss: 0.3883 - precision: 0.8557WARNING:tensorflow:Reduce LR on plateau conditioned on metric `val_accuracy` which is not available. Available metrics are: loss,precision,val_loss,val_precision,lr\n",
      "88/88 [==============================] - 31s 353ms/step - loss: 0.3883 - precision: 0.8557 - val_loss: 0.4154 - val_precision: 0.8466\n",
      "Epoch 4/12\n",
      "88/88 [==============================] - ETA: 0s - loss: 0.3683 - precision: 0.8624WARNING:tensorflow:Reduce LR on plateau conditioned on metric `val_accuracy` which is not available. Available metrics are: loss,precision,val_loss,val_precision,lr\n",
      "88/88 [==============================] - 31s 355ms/step - loss: 0.3683 - precision: 0.8624 - val_loss: 0.3907 - val_precision: 0.8616\n",
      "Epoch 5/12\n",
      "88/88 [==============================] - ETA: 0s - loss: 0.3654 - precision: 0.8637WARNING:tensorflow:Reduce LR on plateau conditioned on metric `val_accuracy` which is not available. Available metrics are: loss,precision,val_loss,val_precision,lr\n",
      "88/88 [==============================] - 30s 338ms/step - loss: 0.3654 - precision: 0.8637 - val_loss: 0.4250 - val_precision: 0.8608\n",
      "Epoch 6/12\n",
      "88/88 [==============================] - ETA: 0s - loss: 0.3680 - precision: 0.8666WARNING:tensorflow:Reduce LR on plateau conditioned on metric `val_accuracy` which is not available. Available metrics are: loss,precision,val_loss,val_precision,lr\n",
      "88/88 [==============================] - 38s 431ms/step - loss: 0.3680 - precision: 0.8666 - val_loss: 0.4066 - val_precision: 0.8993\n",
      "Epoch 7/12\n",
      "88/88 [==============================] - ETA: 0s - loss: 0.3603 - precision: 0.8683WARNING:tensorflow:Reduce LR on plateau conditioned on metric `val_accuracy` which is not available. Available metrics are: loss,precision,val_loss,val_precision,lr\n",
      "88/88 [==============================] - 29s 334ms/step - loss: 0.3603 - precision: 0.8683 - val_loss: 0.3849 - val_precision: 0.8710\n",
      "Epoch 8/12\n",
      "88/88 [==============================] - ETA: 0s - loss: 0.3680 - precision: 0.8702WARNING:tensorflow:Reduce LR on plateau conditioned on metric `val_accuracy` which is not available. Available metrics are: loss,precision,val_loss,val_precision,lr\n",
      "88/88 [==============================] - 31s 357ms/step - loss: 0.3680 - precision: 0.8702 - val_loss: 0.4033 - val_precision: 0.8457\n",
      "Epoch 9/12\n",
      "88/88 [==============================] - ETA: 0s - loss: 0.3472 - precision: 0.8739WARNING:tensorflow:Reduce LR on plateau conditioned on metric `val_accuracy` which is not available. Available metrics are: loss,precision,val_loss,val_precision,lr\n",
      "88/88 [==============================] - 35s 392ms/step - loss: 0.3472 - precision: 0.8739 - val_loss: 0.3523 - val_precision: 0.8598\n",
      "Epoch 10/12\n",
      "88/88 [==============================] - ETA: 0s - loss: 0.3498 - precision: 0.8698WARNING:tensorflow:Reduce LR on plateau conditioned on metric `val_accuracy` which is not available. Available metrics are: loss,precision,val_loss,val_precision,lr\n",
      "88/88 [==============================] - 39s 443ms/step - loss: 0.3498 - precision: 0.8698 - val_loss: 0.3935 - val_precision: 0.8528\n",
      "Epoch 11/12\n",
      "88/88 [==============================] - ETA: 0s - loss: 0.3767 - precision: 0.8660WARNING:tensorflow:Reduce LR on plateau conditioned on metric `val_accuracy` which is not available. Available metrics are: loss,precision,val_loss,val_precision,lr\n",
      "88/88 [==============================] - 34s 386ms/step - loss: 0.3767 - precision: 0.8660 - val_loss: 0.3878 - val_precision: 0.8528\n",
      "Epoch 12/12\n",
      "88/88 [==============================] - ETA: 0s - loss: 0.3513 - precision: 0.8724WARNING:tensorflow:Reduce LR on plateau conditioned on metric `val_accuracy` which is not available. Available metrics are: loss,precision,val_loss,val_precision,lr\n",
      "88/88 [==============================] - 35s 396ms/step - loss: 0.3513 - precision: 0.8724 - val_loss: 0.4186 - val_precision: 0.8476\n"
     ]
    }
   ],
   "source": [
    "history = model.fit(datagen.flow(x_train, y_train), epochs=12, validation_data=datagen.flow(x_val, y_val), callbacks=[learning_rate_reduction])"
   ]
  },
  {
   "cell_type": "code",
   "execution_count": 129,
   "metadata": {},
   "outputs": [],
   "source": [
    "y_test = np.array(y_test, dtype=np.uint8)"
   ]
  },
  {
   "cell_type": "code",
   "execution_count": 130,
   "metadata": {},
   "outputs": [
    {
     "name": "stdout",
     "output_type": "stream",
     "text": [
      "17/17 [==============================] - 1s 57ms/step - loss: 0.2829 - precision: 0.9069\n"
     ]
    },
    {
     "data": {
      "text/plain": [
       "[0.28292205929756165, 0.9069263935089111]"
      ]
     },
     "execution_count": 130,
     "metadata": {},
     "output_type": "execute_result"
    }
   ],
   "source": [
    "model.evaluate(x_test, y_test)"
   ]
  },
  {
   "cell_type": "code",
   "execution_count": 131,
   "metadata": {},
   "outputs": [
    {
     "data": {
      "text/plain": [
       "527"
      ]
     },
     "execution_count": 131,
     "metadata": {},
     "output_type": "execute_result"
    }
   ],
   "source": [
    "len(y_test)"
   ]
  },
  {
   "cell_type": "code",
   "execution_count": 132,
   "metadata": {},
   "outputs": [
    {
     "data": {
      "text/plain": [
       "177"
      ]
     },
     "execution_count": 132,
     "metadata": {},
     "output_type": "execute_result"
    }
   ],
   "source": [
    "len(y_val)"
   ]
  },
  {
   "cell_type": "markdown",
   "metadata": {},
   "source": [
    "# Get paths to image files \n",
    "## (updated)"
   ]
  },
  {
   "cell_type": "code",
   "execution_count": null,
   "metadata": {},
   "outputs": [],
   "source": []
  },
  {
   "cell_type": "code",
   "execution_count": 11,
   "metadata": {},
   "outputs": [],
   "source": [
    "# imports from kaggle example https://www.kaggle.com/kmader/show-3d-nifti-images\n",
    "# import numpy as np # linear algebra\n",
    "# import pandas as pd # data processing, CSV file I/O (e.g. pd.read_csv)\n",
    "# import os\n",
    "import skimage\n",
    "from skimage.morphology import ball, disk, dilation, binary_erosion, remove_small_objects, erosion, closing, reconstruction, binary_closing\n",
    "from skimage.measure import label,regionprops, perimeter\n",
    "from skimage.morphology import binary_dilation, binary_opening\n",
    "from skimage.filters import roberts, sobel\n",
    "from skimage import measure, feature\n",
    "from skimage.segmentation import clear_border\n",
    "from skimage import data\n",
    "from scipy import ndimage as ndi\n",
    "import matplotlib.pyplot as plt\n",
    "from mpl_toolkits.mplot3d.art3d import Poly3DCollection\n",
    "import scipy.misc\n",
    "from glob import glob\n",
    "from skimage.io import imread"
   ]
  },
  {
   "cell_type": "markdown",
   "metadata": {},
   "source": [
    "# Create .gif from fdata"
   ]
  },
  {
   "cell_type": "markdown",
   "metadata": {},
   "source": [
    "## Define Functions"
   ]
  },
  {
   "cell_type": "markdown",
   "metadata": {},
   "source": [
    "### Define function to create list of folder names within a given directory"
   ]
  },
  {
   "cell_type": "code",
   "execution_count": 24,
   "metadata": {},
   "outputs": [],
   "source": [
    "def get_dir_folders(directory):\n",
    "    '''\n",
    "    Input: list-like directory containing the folder names / file names within a given parent folder\n",
    "    Returns: list clean_directory containing only folder names within the parent folder\n",
    "    '''\n",
    "    # create list copy of directory\n",
    "    clean_directory = list(directory)\n",
    "    \n",
    "    # iterate through directory\n",
    "    for name in directory:\n",
    "        \n",
    "        # remove all names with file extensions\n",
    "        print('path: ', name)\n",
    "        \n",
    "        filename = name.split('/')[-1]\n",
    "        \n",
    "        if '.' in filename:\n",
    "            print(f'remove {name} from list')\n",
    "            directory.remove(name)\n",
    "            \n",
    "    return clean_directory\n",
    "            \n",
    "#         # remove all names with file extensions\n",
    "#         print('path: ', name)\n",
    "#         print('name[-4]', name[-4])\n",
    "#         if '.' == name[-4]:\n",
    "#             print(f'remove {name} from list')\n",
    "#             clean_directory.remove(name)\n",
    "            \n",
    "#         elif '.' in name[-6:]:\n",
    "#             print(f'remove {name} from list')\n",
    "#             clean_directory.remove(name)\n",
    "            \n",
    "#         elif 'txt' in name:\n",
    "#             print(f'remove {name} from list')\n",
    "#             clean_directory.remove(name)\n",
    "            \n",
    "#         elif 'tar' in name:\n",
    "#             print(f'remove {name} from list')\n",
    "#             clean_directory.remove(name)\n",
    "            \n"
   ]
  },
  {
   "cell_type": "markdown",
   "metadata": {},
   "source": [
    "### Define function to load image file(s) given folder path"
   ]
  },
  {
   "cell_type": "code",
   "execution_count": 25,
   "metadata": {},
   "outputs": [],
   "source": [
    "def get_img_paths(parent_folder, in_name='*'):\n",
    "    \n",
    "    return glob(os.path.join([folder for folder in image_folder if in_name in folder][0], '*'))\n"
   ]
  },
  {
   "cell_type": "markdown",
   "metadata": {},
   "source": [
    "### Define function to create .gif given image data"
   ]
  },
  {
   "cell_type": "code",
   "execution_count": 26,
   "metadata": {},
   "outputs": [],
   "source": [
    "# define function to create gif from image data\n",
    "def create_gif(input_image, title='Scan .gif', filename='scan.gif'):\n",
    "    # create .gif-like https://matplotlib.org/gallery/animation/dynamic_image2.html\n",
    "    import imageio \n",
    "    import matplotlib.animation as animate\n",
    "\n",
    "    images = []\n",
    "    input_image_data = input_image.get_fdata()\n",
    "\n",
    "    fig = plt.figure()\n",
    "\n",
    "    for i in range(len(input_image_data)):\n",
    "        im = plt.imshow(input_image_data[i], animated=True)\n",
    "        images.append([im])\n",
    "\n",
    "    ani = animate.ArtistAnimation(fig, images, interval=25, blit=True, repeat_delay=500)\n",
    "\n",
    "    plt.title(title, fontsize=20)\n",
    "    ani.save(filename)\n",
    "    plt.show()"
   ]
  },
  {
   "cell_type": "markdown",
   "metadata": {},
   "source": [
    "## Load Brain Development Data Paths (Healthy Brains)"
   ]
  },
  {
   "cell_type": "code",
   "execution_count": 27,
   "metadata": {},
   "outputs": [],
   "source": [
    "# get paths to data\n",
    "# base path for data sourced from brain-development.org\n",
    "bd_base_path = os.path.join('D:\\MRI_data\\BrainDevelopmentOrg')\n",
    "\n",
    "# # base path for data sourced from Kaggle.com\n",
    "# k_base_path = os.path.join('../data/MRI_data/Kaggle')\n",
    "\n",
    "# # kaggle simple data path\n",
    "# simple_yn_k_path = os.path.join(k_base_path, 'simple_yes_no')\n",
    "\n",
    "# # kaggle advanced classification path\\\n",
    "# adv_class_k_path = os.path.join(k_base_path, 'classification_images')"
   ]
  },
  {
   "cell_type": "code",
   "execution_count": 28,
   "metadata": {},
   "outputs": [],
   "source": [
    "bd_directory = glob(os.path.join(bd_base_path, '*'))\n",
    "# bd_directory.append('.txt')"
   ]
  },
  {
   "cell_type": "code",
   "execution_count": 29,
   "metadata": {},
   "outputs": [
    {
     "data": {
      "text/plain": [
       "['D:\\\\MRI_data\\\\BrainDevelopmentOrg\\\\Demographics',\n",
       " 'D:\\\\MRI_data\\\\BrainDevelopmentOrg\\\\DTI_images',\n",
       " 'D:\\\\MRI_data\\\\BrainDevelopmentOrg\\\\IXI-MRA.tar',\n",
       " 'D:\\\\MRI_data\\\\BrainDevelopmentOrg\\\\IXI-PD.tar',\n",
       " 'D:\\\\MRI_data\\\\BrainDevelopmentOrg\\\\IXI-T1.tar',\n",
       " 'D:\\\\MRI_data\\\\BrainDevelopmentOrg\\\\IXI-T2.tar',\n",
       " 'D:\\\\MRI_data\\\\BrainDevelopmentOrg\\\\MRA_images',\n",
       " 'D:\\\\MRI_data\\\\BrainDevelopmentOrg\\\\PD_images',\n",
       " 'D:\\\\MRI_data\\\\BrainDevelopmentOrg\\\\REAME_BrainDev.txt',\n",
       " 'D:\\\\MRI_data\\\\BrainDevelopmentOrg\\\\T1_images',\n",
       " 'D:\\\\MRI_data\\\\BrainDevelopmentOrg\\\\T2_images']"
      ]
     },
     "execution_count": 29,
     "metadata": {},
     "output_type": "execute_result"
    }
   ],
   "source": [
    "bd_directory"
   ]
  },
  {
   "cell_type": "code",
   "execution_count": 30,
   "metadata": {},
   "outputs": [
    {
     "name": "stdout",
     "output_type": "stream",
     "text": [
      "path:  D:\\MRI_data\\BrainDevelopmentOrg\\Demographics\n",
      "path:  D:\\MRI_data\\BrainDevelopmentOrg\\DTI_images\n",
      "path:  D:\\MRI_data\\BrainDevelopmentOrg\\IXI-MRA.tar\n",
      "remove D:\\MRI_data\\BrainDevelopmentOrg\\IXI-MRA.tar from list\n",
      "path:  D:\\MRI_data\\BrainDevelopmentOrg\\IXI-T1.tar\n",
      "remove D:\\MRI_data\\BrainDevelopmentOrg\\IXI-T1.tar from list\n",
      "path:  D:\\MRI_data\\BrainDevelopmentOrg\\MRA_images\n",
      "path:  D:\\MRI_data\\BrainDevelopmentOrg\\PD_images\n",
      "path:  D:\\MRI_data\\BrainDevelopmentOrg\\REAME_BrainDev.txt\n",
      "remove D:\\MRI_data\\BrainDevelopmentOrg\\REAME_BrainDev.txt from list\n",
      "path:  D:\\MRI_data\\BrainDevelopmentOrg\\T2_images\n"
     ]
    },
    {
     "data": {
      "text/plain": [
       "['D:\\\\MRI_data\\\\BrainDevelopmentOrg\\\\Demographics',\n",
       " 'D:\\\\MRI_data\\\\BrainDevelopmentOrg\\\\DTI_images',\n",
       " 'D:\\\\MRI_data\\\\BrainDevelopmentOrg\\\\IXI-MRA.tar',\n",
       " 'D:\\\\MRI_data\\\\BrainDevelopmentOrg\\\\IXI-PD.tar',\n",
       " 'D:\\\\MRI_data\\\\BrainDevelopmentOrg\\\\IXI-T1.tar',\n",
       " 'D:\\\\MRI_data\\\\BrainDevelopmentOrg\\\\IXI-T2.tar',\n",
       " 'D:\\\\MRI_data\\\\BrainDevelopmentOrg\\\\MRA_images',\n",
       " 'D:\\\\MRI_data\\\\BrainDevelopmentOrg\\\\PD_images',\n",
       " 'D:\\\\MRI_data\\\\BrainDevelopmentOrg\\\\REAME_BrainDev.txt',\n",
       " 'D:\\\\MRI_data\\\\BrainDevelopmentOrg\\\\T1_images',\n",
       " 'D:\\\\MRI_data\\\\BrainDevelopmentOrg\\\\T2_images']"
      ]
     },
     "execution_count": 30,
     "metadata": {},
     "output_type": "execute_result"
    }
   ],
   "source": [
    "# get list of all folders in directory\n",
    "# get copy of full directory\n",
    "bd_image_folders = get_dir_folders(bd_directory)\n",
    "bd_image_folders"
   ]
  },
  {
   "cell_type": "code",
   "execution_count": 18,
   "metadata": {},
   "outputs": [],
   "source": [
    "bd_image_folders = [folder for folder in bd_image_folders if 'image' in folder]"
   ]
  },
  {
   "cell_type": "code",
   "execution_count": 19,
   "metadata": {},
   "outputs": [
    {
     "data": {
      "text/plain": [
       "['D:\\\\MRI_data\\\\BrainDevelopmentOrg\\\\DTI_images',\n",
       " 'D:\\\\MRI_data\\\\BrainDevelopmentOrg\\\\MRA_images',\n",
       " 'D:\\\\MRI_data\\\\BrainDevelopmentOrg\\\\PD_images',\n",
       " 'D:\\\\MRI_data\\\\BrainDevelopmentOrg\\\\T1_images',\n",
       " 'D:\\\\MRI_data\\\\BrainDevelopmentOrg\\\\T2_images']"
      ]
     },
     "execution_count": 19,
     "metadata": {},
     "output_type": "execute_result"
    }
   ],
   "source": [
    "bd_image_folders"
   ]
  },
  {
   "cell_type": "markdown",
   "metadata": {},
   "source": [
    "## Get Paths to Various Scan Types"
   ]
  },
  {
   "cell_type": "markdown",
   "metadata": {},
   "source": [
    "### Get T1 Path"
   ]
  },
  {
   "cell_type": "code",
   "execution_count": 20,
   "metadata": {},
   "outputs": [
    {
     "name": "stdout",
     "output_type": "stream",
     "text": [
      "581\n"
     ]
    },
    {
     "data": {
      "text/plain": [
       "['D:\\\\MRI_data\\\\BrainDevelopmentOrg\\\\T1_images\\\\IXI002-Guys-0828-T1.nii.gz',\n",
       " 'D:\\\\MRI_data\\\\BrainDevelopmentOrg\\\\T1_images\\\\IXI012-HH-1211-T1.nii.gz',\n",
       " 'D:\\\\MRI_data\\\\BrainDevelopmentOrg\\\\T1_images\\\\IXI013-HH-1212-T1.nii.gz',\n",
       " 'D:\\\\MRI_data\\\\BrainDevelopmentOrg\\\\T1_images\\\\IXI014-HH-1236-T1.nii.gz',\n",
       " 'D:\\\\MRI_data\\\\BrainDevelopmentOrg\\\\T1_images\\\\IXI015-HH-1258-T1.nii.gz']"
      ]
     },
     "execution_count": 20,
     "metadata": {},
     "output_type": "execute_result"
    }
   ],
   "source": [
    "bd_image_files_T1 = glob(os.path.join([folder for folder in bd_image_folders if 'T1_' in folder][0], '*'))\n",
    "print(len(bd_image_files_T1))\n",
    "bd_image_files_T1[:5]"
   ]
  },
  {
   "cell_type": "markdown",
   "metadata": {},
   "source": [
    "### Get T2 Path"
   ]
  },
  {
   "cell_type": "code",
   "execution_count": 21,
   "metadata": {},
   "outputs": [
    {
     "name": "stdout",
     "output_type": "stream",
     "text": [
      "578\n"
     ]
    },
    {
     "data": {
      "text/plain": [
       "['D:\\\\MRI_data\\\\BrainDevelopmentOrg\\\\T2_images\\\\IXI002-Guys-0828-T2.nii.gz',\n",
       " 'D:\\\\MRI_data\\\\BrainDevelopmentOrg\\\\T2_images\\\\IXI012-HH-1211-T2.nii.gz',\n",
       " 'D:\\\\MRI_data\\\\BrainDevelopmentOrg\\\\T2_images\\\\IXI013-HH-1212-T2.nii.gz',\n",
       " 'D:\\\\MRI_data\\\\BrainDevelopmentOrg\\\\T2_images\\\\IXI014-HH-1236-T2.nii.gz',\n",
       " 'D:\\\\MRI_data\\\\BrainDevelopmentOrg\\\\T2_images\\\\IXI015-HH-1258-T2.nii.gz']"
      ]
     },
     "execution_count": 21,
     "metadata": {},
     "output_type": "execute_result"
    }
   ],
   "source": [
    "bd_image_files_T2 = glob(os.path.join(str([folder for folder in bd_image_folders if 'T2_' in folder][0]), '*'))\n",
    "print(len(bd_image_files_T2))\n",
    "bd_image_files_T2[:5]"
   ]
  },
  {
   "cell_type": "markdown",
   "metadata": {},
   "source": [
    "### Get MRA Path"
   ]
  },
  {
   "cell_type": "code",
   "execution_count": 22,
   "metadata": {},
   "outputs": [
    {
     "name": "stdout",
     "output_type": "stream",
     "text": [
      "570\n"
     ]
    },
    {
     "data": {
      "text/plain": [
       "['D:\\\\MRI_data\\\\BrainDevelopmentOrg\\\\MRA_images\\\\IXI002-Guys-0828-MRA.nii.gz',\n",
       " 'D:\\\\MRI_data\\\\BrainDevelopmentOrg\\\\MRA_images\\\\IXI012-HH-1211-MRA.nii.gz',\n",
       " 'D:\\\\MRI_data\\\\BrainDevelopmentOrg\\\\MRA_images\\\\IXI013-HH-1212-MRA.nii.gz',\n",
       " 'D:\\\\MRI_data\\\\BrainDevelopmentOrg\\\\MRA_images\\\\IXI015-HH-1258-MRA.nii.gz',\n",
       " 'D:\\\\MRI_data\\\\BrainDevelopmentOrg\\\\MRA_images\\\\IXI016-Guys-0697-MRA.nii.gz']"
      ]
     },
     "execution_count": 22,
     "metadata": {},
     "output_type": "execute_result"
    }
   ],
   "source": [
    "bd_image_files_MRA = glob(os.path.join(str([folder for folder in bd_image_folders if 'MRA_' in folder][0]), '*'))\n",
    "print(len(bd_image_files_MRA))\n",
    "bd_image_files_MRA[:5]"
   ]
  },
  {
   "cell_type": "markdown",
   "metadata": {},
   "source": [
    "### Get PD Path"
   ]
  },
  {
   "cell_type": "code",
   "execution_count": 23,
   "metadata": {},
   "outputs": [
    {
     "name": "stdout",
     "output_type": "stream",
     "text": [
      "578\n"
     ]
    },
    {
     "data": {
      "text/plain": [
       "['D:\\\\MRI_data\\\\BrainDevelopmentOrg\\\\PD_images\\\\IXI002-Guys-0828-PD.nii.gz',\n",
       " 'D:\\\\MRI_data\\\\BrainDevelopmentOrg\\\\PD_images\\\\IXI012-HH-1211-PD.nii.gz',\n",
       " 'D:\\\\MRI_data\\\\BrainDevelopmentOrg\\\\PD_images\\\\IXI013-HH-1212-PD.nii.gz',\n",
       " 'D:\\\\MRI_data\\\\BrainDevelopmentOrg\\\\PD_images\\\\IXI014-HH-1236-PD.nii.gz',\n",
       " 'D:\\\\MRI_data\\\\BrainDevelopmentOrg\\\\PD_images\\\\IXI015-HH-1258-PD.nii.gz']"
      ]
     },
     "execution_count": 23,
     "metadata": {},
     "output_type": "execute_result"
    }
   ],
   "source": [
    "bd_image_files_PD = glob(os.path.join(str([folder for folder in bd_image_folders if 'PD_' in folder][0]), '*'))\n",
    "print(len(bd_image_files_PD))\n",
    "bd_image_files_PD[:5]"
   ]
  },
  {
   "cell_type": "markdown",
   "metadata": {},
   "source": [
    "## Load Image Data From File"
   ]
  },
  {
   "cell_type": "markdown",
   "metadata": {},
   "source": [
    "### Load a T1 Image"
   ]
  },
  {
   "cell_type": "code",
   "execution_count": 24,
   "metadata": {},
   "outputs": [
    {
     "data": {
      "text/plain": [
       "<nibabel.nifti1.Nifti1Image at 0x23278652f40>"
      ]
     },
     "execution_count": 24,
     "metadata": {},
     "output_type": "execute_result"
    }
   ],
   "source": [
    "img_T1 = nib.load(bd_image_files_T1[500])\n",
    "img_T1"
   ]
  },
  {
   "cell_type": "code",
   "execution_count": 25,
   "metadata": {},
   "outputs": [
    {
     "data": {
      "text/plain": [
       "(256, 256, 150)"
      ]
     },
     "execution_count": 25,
     "metadata": {},
     "output_type": "execute_result"
    }
   ],
   "source": [
    "img_T1.get_fdata().shape"
   ]
  },
  {
   "cell_type": "markdown",
   "metadata": {},
   "source": [
    "### Load a T2 Image"
   ]
  },
  {
   "cell_type": "code",
   "execution_count": 26,
   "metadata": {},
   "outputs": [
    {
     "data": {
      "text/plain": [
       "<nibabel.nifti1.Nifti1Image at 0x23275def220>"
      ]
     },
     "execution_count": 26,
     "metadata": {},
     "output_type": "execute_result"
    }
   ],
   "source": [
    "# load specified image\n",
    "img_T2 = nib.load(bd_image_files_T2[17])\n",
    "img_T2"
   ]
  },
  {
   "cell_type": "code",
   "execution_count": 27,
   "metadata": {},
   "outputs": [
    {
     "data": {
      "text/plain": [
       "(256, 256, 130)"
      ]
     },
     "execution_count": 27,
     "metadata": {},
     "output_type": "execute_result"
    }
   ],
   "source": [
    "img_T2.shape"
   ]
  },
  {
   "cell_type": "code",
   "execution_count": 28,
   "metadata": {},
   "outputs": [
    {
     "data": {
      "text/plain": [
       "(256, 256, 130)"
      ]
     },
     "execution_count": 28,
     "metadata": {},
     "output_type": "execute_result"
    }
   ],
   "source": [
    "img_T2.get_fdata().shape"
   ]
  },
  {
   "cell_type": "code",
   "execution_count": 29,
   "metadata": {},
   "outputs": [
    {
     "data": {
      "text/plain": [
       "<matplotlib.image.AxesImage at 0x232787087f0>"
      ]
     },
     "execution_count": 29,
     "metadata": {},
     "output_type": "execute_result"
    },
    {
     "data": {
      "image/png": "[encoded data removed]",
      "text/plain": [
       "<Figure size 432x288 with 1 Axes>"
      ]
     },
     "metadata": {
      "needs_background": "light"
     },
     "output_type": "display_data"
    }
   ],
   "source": [
    "T2_image = img_T2.get_fdata()\n",
    "# test_mask = \n",
    "fig, ax = plt.subplots()\n",
    "ax.imshow(T2_image[80]//2)"
   ]
  },
  {
   "cell_type": "markdown",
   "metadata": {},
   "source": [
    "### Load an MRA image"
   ]
  },
  {
   "cell_type": "code",
   "execution_count": 30,
   "metadata": {},
   "outputs": [
    {
     "data": {
      "text/plain": [
       "<nibabel.nifti1.Nifti1Image at 0x23278739b50>"
      ]
     },
     "execution_count": 30,
     "metadata": {},
     "output_type": "execute_result"
    }
   ],
   "source": [
    "img_MRA = nib.load(bd_image_files_MRA[17])\n",
    "img_MRA"
   ]
  },
  {
   "cell_type": "code",
   "execution_count": 31,
   "metadata": {},
   "outputs": [
    {
     "data": {
      "text/plain": [
       "(512, 512, 100)"
      ]
     },
     "execution_count": 31,
     "metadata": {},
     "output_type": "execute_result"
    }
   ],
   "source": [
    "img_MRA.get_fdata().shape"
   ]
  },
  {
   "cell_type": "markdown",
   "metadata": {},
   "source": [
    "### Load a PD IMAGE"
   ]
  },
  {
   "cell_type": "code",
   "execution_count": 32,
   "metadata": {},
   "outputs": [
    {
     "data": {
      "text/plain": [
       "<nibabel.nifti1.Nifti1Image at 0x232787316a0>"
      ]
     },
     "execution_count": 32,
     "metadata": {},
     "output_type": "execute_result"
    }
   ],
   "source": [
    "img_PD = nib.load(bd_image_files_PD[17])\n",
    "img_PD"
   ]
  },
  {
   "cell_type": "code",
   "execution_count": 34,
   "metadata": {},
   "outputs": [
    {
     "data": {
      "text/plain": [
       "(256, 256, 130)"
      ]
     },
     "execution_count": 34,
     "metadata": {},
     "output_type": "execute_result"
    }
   ],
   "source": [
    "img_PD.get_fdata().shape"
   ]
  },
  {
   "cell_type": "markdown",
   "metadata": {},
   "source": [
    "## Create Images for EDA/ understanding Data"
   ]
  },
  {
   "cell_type": "markdown",
   "metadata": {},
   "source": [
    "#### Create T1 image"
   ]
  },
  {
   "cell_type": "code",
   "execution_count": 35,
   "metadata": {},
   "outputs": [
    {
     "name": "stderr",
     "output_type": "stream",
     "text": [
      "MovieWriter ffmpeg unavailable; using Pillow instead.\n"
     ]
    },
    {
     "data": {
      "image/png": "[encoded data removed]",
      "text/plain": [
       "<Figure size 432x288 with 1 Axes>"
      ]
     },
     "metadata": {
      "needs_background": "light"
     },
     "output_type": "display_data"
    }
   ],
   "source": [
    "create_gif(img_T1, title=\"T1 Scan .gif\", filename=\"T1_MRI.gif\")"
   ]
  },
  {
   "cell_type": "code",
   "execution_count": 36,
   "metadata": {},
   "outputs": [
    {
     "name": "stderr",
     "output_type": "stream",
     "text": [
      "MovieWriter ffmpeg unavailable; using Pillow instead.\n"
     ]
    },
    {
     "data": {
      "image/png": "[encoded data removed]",
      "text/plain": [
       "<Figure size 432x288 with 1 Axes>"
      ]
     },
     "metadata": {
      "needs_background": "light"
     },
     "output_type": "display_data"
    }
   ],
   "source": [
    "create_gif(img_T2, title='T2 Scan .gif', filename='T2_MRI.gif')"
   ]
  },
  {
   "cell_type": "code",
   "execution_count": 32,
   "metadata": {},
   "outputs": [
    {
     "name": "stderr",
     "output_type": "stream",
     "text": [
      "MovieWriter ffmpeg unavailable; using Pillow instead.\n"
     ]
    },
    {
     "data": {
      "image/png": "[encoded data removed]",
      "text/plain": [
       "<Figure size 432x288 with 1 Axes>"
      ]
     },
     "metadata": {
      "needs_background": "light"
     },
     "output_type": "display_data"
    }
   ],
   "source": [
    "create_gif(img_MRA, title='MRA Scan .gif', filename='MRA_MRI.gif')"
   ]
  },
  {
   "cell_type": "code",
   "execution_count": 36,
   "metadata": {},
   "outputs": [
    {
     "name": "stderr",
     "output_type": "stream",
     "text": [
      "MovieWriter ffmpeg unavailable; using Pillow instead.\n"
     ]
    },
    {
     "data": {
      "image/png": "[encoded data removed]",
      "text/plain": [
       "<Figure size 432x288 with 1 Axes>"
      ]
     },
     "metadata": {
      "needs_background": "light"
     },
     "output_type": "display_data"
    }
   ],
   "source": [
    "create_gif(img_PD, title='PD Scan .gif', filename='PD_MRI.gif')"
   ]
  },
  {
   "cell_type": "code",
   "execution_count": null,
   "metadata": {},
   "outputs": [],
   "source": []
  },
  {
   "cell_type": "code",
   "execution_count": null,
   "metadata": {},
   "outputs": [],
   "source": []
  }
 ],
 "metadata": {
  "kernelspec": {
   "display_name": "Python 3",
   "language": "python",
   "name": "python3"
  },
  "language_info": {
   "codemirror_mode": {
    "name": "ipython",
    "version": 3
   },
   "file_extension": ".py",
   "mimetype": "text/x-python",
   "name": "python",
   "nbconvert_exporter": "python",
   "pygments_lexer": "ipython3",
   "version": "3.8.2"
  }
 },
 "nbformat": 4,
 "nbformat_minor": 4
}
